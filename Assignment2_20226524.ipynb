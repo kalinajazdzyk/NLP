{
 "cells": [
  {
   "cell_type": "markdown",
   "id": "a55b3b53",
   "metadata": {},
   "source": [
    "# KAIST AI605 Assignment 2: Word Embeddings\n",
    "\n",
    "## Rubric\n",
    "\n",
    "### Deadline \n",
    "The deadline for this assignment is: Friday 21st October 2022 (Week 8) 11:59pm\n",
    "\n",
    "### Submission\n",
    "Please submit your assignment via [KLMS](https://klms.kaist.ac.kr). You must submit both (1) a PDF of your solutions and (2) the Jupyter Notebook file (.ipynb).\n",
    "\n",
    "Use in-line LaTeX for mathematical expressions. \n",
    "\n",
    "### Collaboration\n",
    "This assignment is not a group assignment so make sure your answer and code are your own.\n",
    "\n",
    "### Grading\n",
    "The total number of marks avaiable is 30 points.\n",
    "\n",
    "### Environment\n",
    "The use of a GPU is not required for this notebook. The required environment for this is Python 3.9. Run the following cell to set up the environment."
   ]
  },
  {
   "cell_type": "code",
   "execution_count": 1,
   "id": "edb2a8a5",
   "metadata": {},
   "outputs": [
    {
     "name": "stdout",
     "output_type": "stream",
     "text": [
      "Python 3.8.6rc1\n"
     ]
    }
   ],
   "source": [
    "!python --version"
   ]
  },
  {
   "cell_type": "code",
   "execution_count": 2,
   "id": "3a766dab",
   "metadata": {},
   "outputs": [],
   "source": [
    "# pip install torch nltk scikit-learn tqdm"
   ]
  },
  {
   "cell_type": "code",
   "execution_count": 3,
   "id": "1cf55d2b",
   "metadata": {},
   "outputs": [
    {
     "name": "stderr",
     "output_type": "stream",
     "text": [
      "[nltk_data] Downloading package punkt to\n",
      "[nltk_data]     C:\\Users\\User\\AppData\\Roaming\\nltk_data...\n",
      "[nltk_data]   Package punkt is already up-to-date!\n"
     ]
    },
    {
     "data": {
      "text/plain": [
       "True"
      ]
     },
     "execution_count": 3,
     "metadata": {},
     "output_type": "execute_result"
    }
   ],
   "source": [
    "import nltk\n",
    "nltk.download('punkt')"
   ]
  },
  {
   "cell_type": "markdown",
   "id": "8e8229c3",
   "metadata": {},
   "source": [
    "## Problem 1: Text Pre-processing (6 points)"
   ]
  },
  {
   "cell_type": "markdown",
   "id": "d40abd30",
   "metadata": {},
   "source": [
    "This question will use a sample of data from Wikipedia to generate the instances for constructing word embeddings. Recall that in the lecture, we considered two methods for generating word embeddings: matrix factorization and Word2vec. For both cases, we need to know which words appear in the context of a given word. \n",
    "\n",
    "When generating our data for building word embeddings, we need to preprocess the raw text to extract the words appearing in the context around a word. \n",
    "\n",
    "For simplicity, this question will only consider contexts from the middle of the sentence, ignoring the start and end tokens. \n",
    "\n",
    "* For tokens: $w_1, w_2, w_3, w_4, w_5, w_6, w_7$\n",
    "\n",
    "* $\\text{context}(w_2,1) = (w_1,w_3)$\n",
    "* $\\text{context}(w_4,2) = (w_2,w_3,w_5,w_6)$\n",
    "* $\\text{context}(w_1,1) = Undefined$\n",
    "\n",
    "\n",
    "Data will come from the file `wiki.sample.jsonl` which contains a sample of 50000 wikipedia pages. We can load the data with the following block"
   ]
  },
  {
   "cell_type": "code",
   "execution_count": 4,
   "id": "05082de4",
   "metadata": {},
   "outputs": [],
   "source": [
    "import json\n",
    "\n",
    "def load_data(filename):\n",
    "    with open(filename) as f:\n",
    "        for line in f:\n",
    "            try:\n",
    "                yield json.loads(line)\n",
    "            except Exception as e:\n",
    "                print(line)\n",
    "                raise e\n",
    "\n",
    "all_data = list(load_data(\"wiki.sample.jsonl\"))"
   ]
  },
  {
   "cell_type": "markdown",
   "id": "6a0f2ebe",
   "metadata": {},
   "source": [
    "Each item in `all_data` is a dictionary consisting of a page from Wikipedia and its sentences. We can get its text from the `text` entry in this dictionary. The text is pre-tokenized so we can split by whitepace to get a list of tokens."
   ]
  },
  {
   "cell_type": "code",
   "execution_count": 5,
   "id": "e6b64ebb",
   "metadata": {},
   "outputs": [
    {
     "name": "stdout",
     "output_type": "stream",
     "text": [
      "{'id': 'Christodoulos_Christodoulides', 'text': 'Christodoulos Christodoulides -LRB- born August 22 , 1976 -RRB- is a Cypriot judoka who won the silver medal at the 2002 Commonwealth Games . At the final he was defeated by the Australian Tom Hill He also represented Cyprus at the 2004 Summer Olympics for 73 kg but was eliminated by the Portuguese João Neto in the First Round . In his career , he won also three gold medals for Cyprus in the  Games of the Small States of Europe ; in 1999 , 2001 and 2003 . ', 'lines': \"0\\tChristodoulos Christodoulides -LRB- born August 22 , 1976 -RRB- is a Cypriot judoka who won the silver medal at the 2002 Commonwealth Games .\\tCypriot\\tCyprus\\t2002 Commonwealth Games\\t2002 Commonwealth Games\\n1\\tAt the final he was defeated by the Australian Tom Hill He also represented Cyprus at the 2004 Summer Olympics for 73 kg but was eliminated by the Portuguese João Neto in the First Round .\\tCyprus at the 2004 Summer Olympics for 73 kg\\tJudo at the 2004 Summer Olympics – Men's 73 kg\\tJoão Neto\\tJoão Neto\\n2\\tIn his career , he won also three gold medals for Cyprus in the\\n3\\t\\n4\\tGames of the Small States of Europe ; in 1999 , 2001 and 2003 .\\tGames of the Small States of Europe\\tGames of the Small States of Europe\\n5\\t\"}\n",
      "\n",
      "['Christodoulos', 'Christodoulides', '-LRB-', 'born', 'August', '22', ',', '1976', '-RRB-', 'is', 'a', 'Cypriot', 'judoka', 'who', 'won', 'the', 'silver', 'medal', 'at', 'the', '2002', 'Commonwealth', 'Games', '.', 'At', 'the', 'final', 'he', 'was', 'defeated', 'by', 'the', 'Australian', 'Tom', 'Hill', 'He', 'also', 'represented', 'Cyprus', 'at', 'the', '2004', 'Summer', 'Olympics', 'for', '73', 'kg', 'but', 'was', 'eliminated', 'by', 'the', 'Portuguese', 'João', 'Neto', 'in', 'the', 'First', 'Round', '.', 'In', 'his', 'career', ',', 'he', 'won', 'also', 'three', 'gold', 'medals', 'for', 'Cyprus', 'in', 'the', 'Games', 'of', 'the', 'Small', 'States', 'of', 'Europe', ';', 'in', '1999', ',', '2001', 'and', '2003', '.']\n",
      "\n",
      "['-RCB-', '|', '|', '9', 'January', '2000', '|', '|', '|', '-', '|', 'colspan', '=', '3', 'style', '=', '``', 'font-size', ':', 'smaller', ';', 'background-color', ':', '#f', '2f2f2', ';', 'padding', ':', '2px', '0', '0', '10px', ';', \"''\", '|', 'co-discovered', 'with', 'M.', 'Moilanen', '|', '-RCB-', 'Arto', 'Oksanen', 'is', 'a', 'Finnish', 'amateur', 'astronomer', 'and', 'observer', 'at', 'the', 'Nyrölä', 'Observatory', ',', 'located', 'about', '20', 'kilometers', 'from', 'the', 'city', 'of', 'Jyväskylä', 'in', 'Finland', '.', 'He', 'has', 'been', 'actively', 'working', 'in', 'the', 'fields', 'of', 'variable', 'stars', ',', 'asteroid', 'search', 'programs', ',', 'gamma', 'ray', 'bursts', ',', 'CCD', 'photometry', 'and', 'building', 'amateur', 'observatories', 'in', 'Finland', '.', 'Together', 'with', 'Marko', 'Moilanen', 'he', 'co-discovered', 'the', 'main-belt', 'asteroid', '103422', 'Laurisirén', 'in', '2000', '.', 'In', '2004', ',', 'Oksanen', 'received', 'the', 'AAVSO', 'Directors', 'Award', 'for', 'his', 'work', 'in', 'variable', 'star', 'research', 'and', 'observing', '.', 'In', 'October', '2007', ',', 'Oksanen', 'was', 'the', 'first', 'to', 'find', 'optical', 'afterglow', 'of', 'GRB', '071010B', 'which', 'had', 'been', 'detected', 'by', 'Swift', 'satellite', 'only', '17', 'minutes', 'before', '.']\n",
      "\n",
      "['Hui', 'Chen', 'is', 'an', 'American', 'physicist', ',', 'currently', 'at', 'Lawrence', 'Livermore', 'National', 'Laboratory', 'and', 'an', 'Elected', 'Fellow', 'of', 'the', 'American', 'Physical', 'Society', '.']\n",
      "\n",
      "['Airyanem', 'Vaejah', '-LRB-', 'Airyanəm', 'Vaējah', ',', 'approximately', '``', 'expanse', 'of', 'the', 'Aryans', \"''\", ',', 'i.e.', 'Iranians', '-RRB-', 'is', 'the', 'homeland', 'of', 'the', 'early', 'Iranians', 'and', 'a', 'reference', 'in', 'the', 'Zoroastrian', 'Avesta', '-LRB-', 'Vendidad', ',', 'Farg', '.', '1', '-RRB-', 'to', 'one', 'of', 'Ahura', 'Mazda', \"'s\", '``', 'sixteen', 'perfect', 'lands', '.', \"''\"]\n",
      "\n",
      "['A', 'Fine', 'and', 'Private', 'Place', 'is', 'a', 'fantasy', 'novel', 'written', 'by', 'Peter', 'S.', 'Beagle', ',', 'the', 'first', 'of', 'his', 'major', 'fantasies', '.', 'It', 'was', 'first', 'published', 'in', 'hardcover', 'by', 'Viking', 'Press', 'on', 'May', '23', ',', '1960', ',', 'followed', 'by', 'a', 'trade', 'paperback', 'from', 'Delta', 'the', 'same', 'year', '.', 'Frederick', 'Muller', 'Ltd.', 'published', 'the', 'first', 'United', 'Kingdom', 'hardcover', 'in', '1960', ',', 'and', 'a', 'regular', 'paperback', 'followed', 'from', 'Corgi', 'in', '1963', '.', 'The', 'first', 'U.S.', 'mass', 'market', 'paperback', 'publication', 'was', 'by', 'Ballantine', 'Books', 'in', '1969', '.', 'The', 'Ballantine', 'edition', 'was', 'reprinted', 'numerous', 'times', 'through', '1988', '.', 'More', 'recently', 'it', 'has', 'appeared', 'in', 'trade', 'paperback', 'editions', 'from', 'Souvenir', 'Press', '-LRB-', '1997', '-RRB-', ',', 'Roc', '-LRB-', '1999', '-RRB-', ',', 'and', 'Tachyon', 'Publications', '-LRB-', '2007', '-RRB-', '.', 'The', 'work', 'has', 'also', 'appeared', 'with', 'other', 'works', 'by', 'Beagle', 'in', 'the', 'omnibus', 'collections', 'The', 'Fantasy', 'Worlds', 'of', 'Peter', 'S.', 'Beagle', '-LRB-', '1978', '-RRB-', 'and', 'The', 'Last', 'Unicorn', '/', 'A', 'Fine', 'and', 'Private', 'Place', '-LRB-', '1991', '-RRB-', '.', 'It', 'has', 'also', 'been', 'translated', 'into', 'Japanese', ',', 'German', ',', 'Russian', ',', 'Czech', ',', 'Hungarian', ',', 'Portuguese', ',', 'Korean', ',', 'Spanish', ',', 'Italian', ',', 'and', 'Romanian', '.']\n",
      "\n",
      "['Amanda', 'Whittington', '-LRB-', 'born', '1968', 'in', 'Nottingham', '-RRB-', 'is', 'an', 'English', 'playwright', '.', 'After', 'leaving', 'school', ',', 'she', 'worked', 'as', 'a', 'freelance', 'journalist', 'for', 'a', 'variety', 'of', 'publications', 'and', 'was', 'a', 'columnist', 'for', 'the', 'Nottingham', 'Evening', 'Post', '.', 'In', '2001', ',', 'she', 'won', 'the', 'Dennis', 'Potter', 'Screenwriting', 'Award', 'for', 'Bollywood', 'Jane', ',', 'a', 'work', 'which', 'she', 'later', 'adapted', 'for', 'stage', '.', 'She', 'has', 'also', 'written', 'three', 'youth', 'theatre', 'plays', 'and', 'a', 'stage', 'adaptation', 'of', 'Saturday', 'Night', 'and', 'Sunday', 'Morning', '-LRB-', '2006', '-RRB-', '.', 'As', 'of', '2013', ',', 'she', 'is', 'chair', 'of', 'the', 'Writers', \"'\", 'Guild', 'Theatre', 'Committee', '.']\n",
      "\n",
      "['Jalan', 'Segambut', 'is', 'a', 'major', 'road', 'in', 'Kuala', 'Lumpur', ',', 'Malaysia', '.', 'It', 'is', 'being', 'expanded', 'from', 'a', 'two-lane', 'to', 'a', 'four-lane', 'road', 'leading', 'to', 'Segambut', 'Dalam', 'and', 'Mont', 'Kiara', '.', 'The', 'project', 'was', 'expected', 'to', 'complete', 'in', 'January', '2013', '.', 'Property', 'prices', 'along', 'this', 'road', 'have', 'increased', 'because', 'of', 'this', 'project', '.']\n",
      "\n",
      "['Borm', 'or', 'Barm', 'may', 'refer', 'to', ':', 'Börm', ',', 'Germany', 'Borm-e', 'Sabz', ',', 'Kohgiluyeh', 'and', 'Boyer-Ahmad', 'Province', ',', 'Iran', 'Borm-e', 'Shir', ',', 'Kohgiluyeh', 'and', 'Boyer-Ahmad', 'Province', ',', 'Iran', 'Borm', ',', 'Lorestan', ',', 'Iran', 'Barm', ',', 'Semnan', ',', 'Iran']\n",
      "\n",
      "['Bojan', 'Mamić', '-LRB-', 'Бojaн', 'Maмић', 'born', 'September', '13', ',', '1981', 'in', 'Belgrade', '-RRB-', 'is', 'a', 'Serbian', 'football', 'player', 'who', 'plays', 'for', 'Parnahyba', '.', 'Bojan', 'represented', 'a', 'number', 'of', 'clubs', 'in', 'the', 'Serbian', 'lower', 'leagues', 'around', 'the', 'city', 'of', 'Belgrade', '.', 'He', 'was', 'prolific', 'in', 'his', 'goal', 'scoring', 'during', 'this', 'period', '.', 'In', '2005', 'his', 'goal', 'scoring', 'form', 'saw', 'him', 'given', 'the', 'chance', 'to', 'sign', 'for', 'FK', 'Rad', 'in', 'the', 'Serbian', 'SuperLiga', '.', 'Bojan', 'performed', 'respectably', 'at', 'FK', 'Rad', 'and', 'netted', '11', 'times', 'in', '32', 'outings', 'for', 'the', 'club', '.', 'After', 'one', 'season', 'with', 'FK', 'Rad', ',', 'Bojan', 'moved', 'away', 'from', 'Serbia', 'and', 'Belgrade', 'for', 'the', 'first', 'time', 'to', 'Minsk', ',', 'the', 'capital', 'of', 'Belarus', '.', 'Playing', 'for', 'MTZ-RIPO', 'Minsk', ',', 'Mamić', 'made', '35', 'appearances', 'and', 'scored', 'a', 'very', 'respectable', '15', 'goals', '.', 'He', 'also', 'had', 'his', 'first', 'taste', 'of', 'European', 'competition', 'at', 'MTZ-RIPO', 'Minsk', ',', 'playing', 'in', 'the', 'UEFA', 'Intertoto', 'Cup', 'as', 'his', 'club', 'attempted', 'to', 'secure', 'a', 'UEFA', 'Europa', 'League', 'place', '.', 'In', 'those', 'two', 'UEFA', 'Intertoto', 'Cup', 'matches', 'Mamić', 'scored', 'two', 'goals', '.', 'Mamić', 'was', 'prolific', 'in', 'the', 'Cup', 'in', 'his', 'season', 'at', 'MTZ-RIPO', 'Minsk', 'scoring', 'six', 'goals', 'in', 'four', 'cup', 'games', '.', 'Mamić', \"'s\", 'good', 'form', 'at', 'the', 'Belarusian', 'club', 'saw', 'him', 'transferred', 'to', 'Lithuanian', 'top', 'flight', 'side', 'FK', 'Atlantas', ',', 'in', 'April', '2008', '.', 'It', 'was', 'a', 'short', 'stay', 'at', 'the', 'Klaipėda', 'club', ',', 'before', 'he', 'was', 'transferred', 'to', 'another', 'Lithuanian', 'club', 'FBK', 'Kaunas', 'in', 'Lithuania', \"'s\", 'second', 'city', 'Kaunas', '.', 'Mamić', 'spent', 'eight', 'eventful', 'months', 'at', 'FBK', 'Kaunas', 'in', '2008', ',', 'and', 'had', 'his', 'first', 'opportunity', 'to', 'play', 'in', 'the', 'UEFA', 'Champions', 'League', 'qualifying', 'matches', '.', 'FBK', 'Kaunas', 'were', 'eliminated', 'from', 'the', 'competition', 'and', 'were', 'drawn', 'against', 'Italian', 'club', 'U.C.', 'Sampdoria', 'in', 'the', 'knockout', 'rounds', 'of', 'the', 'UEFA', 'Europa', 'League', '.', 'Mamić', 'left', 'Lithuania', 'for', 'Spain', 'in', 'January', '2009', ',', 'to', 'join', 'the', 'Spanish', 'second', 'division', 'side', 'Ciudad', 'de', 'Murcia', ';', 'before', 'returning', 'to', 'Eastern', 'Europe', 'in', 'July', '2009', 'as', 'he', 'joined', 'Hungarian', 'National', 'Championship', 'I', 'side', 'Ferencvárosi', 'Torna', 'Club', '.', 'Bojan', 'joined', 'Brazilian', 'club', 'Parnahyba', 'after', 'playing', 'for', 'Maltese', 'club', 'Mqabba', 'F.C.', '.', 'Bojan', 'speaks', 'Serbian', ',', 'English', ',', 'Spanish', 'and', 'Russian', '.']\n",
      "\n",
      "['Ga-Ngwetšana', '-LRB-', 'also', 'known', 'as', 'Ceres', '-RRB-', 'is', 'a', 'large', 'village', 'in', 'Moletši', 'in', 'the', 'Polokwane', 'Local', 'Municipality', 'of', 'the', 'Capricorn', 'District', 'Municipality', 'in', 'the', 'Limpopo', 'province', 'of', 'the', 'Republic', 'of', 'South', 'Africa', '.', 'It', 'is', 'located', 'about', '45', 'km', 'northwest', 'of', 'the', 'City', 'of', 'Polokwane', 'on', 'the', 'R567', 'road', '.']\n",
      "\n"
     ]
    }
   ],
   "source": [
    "from itertools import islice\n",
    "\n",
    "# Print the first item\n",
    "print(all_data[0])\n",
    "\n",
    "def get_tokens(page):\n",
    "    return page['text'].split()\n",
    "    \n",
    "print()\n",
    "        \n",
    "# Print the text of the first 10 sentences\n",
    "for page in islice(all_data,10):\n",
    "    print(get_tokens(page))\n",
    "    print()"
   ]
  },
  {
   "cell_type": "markdown",
   "id": "7c2ef5df",
   "metadata": {},
   "source": [
    "**Problem 1.1** (3 points) Implement the context function that returns the surrounding context for a given instance. Add these to a list of instances called `all_instances` where each instance is the word and context `[(word3, [word1,word2,word4,word5]), (word4, [word2,word3,word5,word6]), ...]`\n",
    "\n",
    "The data should look like this for the first sentence and a context size of $\\pm 2$: \n",
    "\n",
    "```\n",
    "are ['The', 'following', 'the', 'football']\n",
    "the ['following', 'are', 'football', '-LRB-']\n",
    "football ['are', 'the', '-LRB-', 'soccer']\n",
    "-LRB- ['the', 'football', 'soccer', '-RRB-']\n",
    "soccer ['football', '-LRB-', '-RRB-', 'events']\n",
    "-RRB- ['-LRB-', 'soccer', 'events', 'of']\n",
    "events ['soccer', '-RRB-', 'of', 'the']\n",
    "of ['-RRB-', 'events', 'the', 'year']\n",
    "the ['events', 'of', 'year', '1928']\n",
    "year ['of', 'the', '1928', 'throughout']\n",
    "1928 ['the', 'year', 'throughout', 'the']\n",
    "throughout ['year', '1928', 'the', 'world']\n",
    "the ['1928', 'throughout', 'world', '.']\n",
    "```\n",
    "\n",
    "Implement this function for a context_size of 10 and generate training instances from all pages in the dataset "
   ]
  },
  {
   "cell_type": "code",
   "execution_count": 6,
   "id": "6e2b8f48",
   "metadata": {},
   "outputs": [
    {
     "data": {
      "application/vnd.jupyter.widget-view+json": {
       "model_id": "48387dfb4935484aa83c06be7898c5be",
       "version_major": 2,
       "version_minor": 0
      },
      "text/plain": [
       "  0%|          | 0/50000 [00:00<?, ?it/s]"
      ]
     },
     "metadata": {},
     "output_type": "display_data"
    },
    {
     "name": "stdout",
     "output_type": "stream",
     "text": [
      "3780225\n",
      "a ['Christodoulos', 'Christodoulides', '-LRB-', 'born', 'August', '22', ',', '1976', '-RRB-', 'is', 'Cypriot', 'judoka', 'who', 'won', 'the', 'silver', 'medal', 'at', 'the', '2002']\n",
      "\n",
      "\n",
      "Cypriot ['Christodoulides', '-LRB-', 'born', 'August', '22', ',', '1976', '-RRB-', 'is', 'a', 'judoka', 'who', 'won', 'the', 'silver', 'medal', 'at', 'the', '2002', 'Commonwealth']\n",
      "\n",
      "\n",
      "judoka ['-LRB-', 'born', 'August', '22', ',', '1976', '-RRB-', 'is', 'a', 'Cypriot', 'who', 'won', 'the', 'silver', 'medal', 'at', 'the', '2002', 'Commonwealth', 'Games']\n",
      "\n",
      "\n",
      "who ['born', 'August', '22', ',', '1976', '-RRB-', 'is', 'a', 'Cypriot', 'judoka', 'won', 'the', 'silver', 'medal', 'at', 'the', '2002', 'Commonwealth', 'Games', '.']\n",
      "\n",
      "\n",
      "won ['August', '22', ',', '1976', '-RRB-', 'is', 'a', 'Cypriot', 'judoka', 'who', 'the', 'silver', 'medal', 'at', 'the', '2002', 'Commonwealth', 'Games', '.', 'At']\n",
      "\n",
      "\n",
      "the ['22', ',', '1976', '-RRB-', 'is', 'a', 'Cypriot', 'judoka', 'who', 'won', 'silver', 'medal', 'at', 'the', '2002', 'Commonwealth', 'Games', '.', 'At', 'the']\n",
      "\n",
      "\n",
      "silver [',', '1976', '-RRB-', 'is', 'a', 'Cypriot', 'judoka', 'who', 'won', 'the', 'medal', 'at', 'the', '2002', 'Commonwealth', 'Games', '.', 'At', 'the', 'final']\n",
      "\n",
      "\n",
      "medal ['1976', '-RRB-', 'is', 'a', 'Cypriot', 'judoka', 'who', 'won', 'the', 'silver', 'at', 'the', '2002', 'Commonwealth', 'Games', '.', 'At', 'the', 'final', 'he']\n",
      "\n",
      "\n",
      "at ['-RRB-', 'is', 'a', 'Cypriot', 'judoka', 'who', 'won', 'the', 'silver', 'medal', 'the', '2002', 'Commonwealth', 'Games', '.', 'At', 'the', 'final', 'he', 'was']\n",
      "\n",
      "\n",
      "the ['is', 'a', 'Cypriot', 'judoka', 'who', 'won', 'the', 'silver', 'medal', 'at', '2002', 'Commonwealth', 'Games', '.', 'At', 'the', 'final', 'he', 'was', 'defeated']\n",
      "\n",
      "\n",
      "2002 ['a', 'Cypriot', 'judoka', 'who', 'won', 'the', 'silver', 'medal', 'at', 'the', 'Commonwealth', 'Games', '.', 'At', 'the', 'final', 'he', 'was', 'defeated', 'by']\n",
      "\n",
      "\n",
      "Commonwealth ['Cypriot', 'judoka', 'who', 'won', 'the', 'silver', 'medal', 'at', 'the', '2002', 'Games', '.', 'At', 'the', 'final', 'he', 'was', 'defeated', 'by', 'the']\n",
      "\n",
      "\n",
      "Games ['judoka', 'who', 'won', 'the', 'silver', 'medal', 'at', 'the', '2002', 'Commonwealth', '.', 'At', 'the', 'final', 'he', 'was', 'defeated', 'by', 'the', 'Australian']\n",
      "\n",
      "\n",
      ". ['who', 'won', 'the', 'silver', 'medal', 'at', 'the', '2002', 'Commonwealth', 'Games', 'At', 'the', 'final', 'he', 'was', 'defeated', 'by', 'the', 'Australian', 'Tom']\n",
      "\n",
      "\n",
      "At ['won', 'the', 'silver', 'medal', 'at', 'the', '2002', 'Commonwealth', 'Games', '.', 'the', 'final', 'he', 'was', 'defeated', 'by', 'the', 'Australian', 'Tom', 'Hill']\n",
      "\n",
      "\n",
      "the ['the', 'silver', 'medal', 'at', 'the', '2002', 'Commonwealth', 'Games', '.', 'At', 'final', 'he', 'was', 'defeated', 'by', 'the', 'Australian', 'Tom', 'Hill', 'He']\n",
      "\n",
      "\n",
      "final ['silver', 'medal', 'at', 'the', '2002', 'Commonwealth', 'Games', '.', 'At', 'the', 'he', 'was', 'defeated', 'by', 'the', 'Australian', 'Tom', 'Hill', 'He', 'also']\n",
      "\n",
      "\n",
      "he ['medal', 'at', 'the', '2002', 'Commonwealth', 'Games', '.', 'At', 'the', 'final', 'was', 'defeated', 'by', 'the', 'Australian', 'Tom', 'Hill', 'He', 'also', 'represented']\n",
      "\n",
      "\n",
      "was ['at', 'the', '2002', 'Commonwealth', 'Games', '.', 'At', 'the', 'final', 'he', 'defeated', 'by', 'the', 'Australian', 'Tom', 'Hill', 'He', 'also', 'represented', 'Cyprus']\n",
      "\n",
      "\n",
      "defeated ['the', '2002', 'Commonwealth', 'Games', '.', 'At', 'the', 'final', 'he', 'was', 'by', 'the', 'Australian', 'Tom', 'Hill', 'He', 'also', 'represented', 'Cyprus', 'at']\n",
      "\n",
      "\n"
     ]
    }
   ],
   "source": [
    "from tqdm.notebook import tqdm\n",
    "\n",
    "def make_instances(tokens, context_size=2):\n",
    "    content_list = []\n",
    "    for i, token in enumerate(tokens[context_size:(len(tokens)-context_size)]): \n",
    "        content_list.append((tokens[context_size+i],tokens[i:(i+context_size)]+tokens[(context_size+i+1):(context_size+i+context_size+1)]))\n",
    "    return content_list\n",
    "    \n",
    "# Add context to a list of all_instances with a context radius of \n",
    "# +/- 10 tokens\n",
    "all_instances = []\n",
    "for page in tqdm(all_data):\n",
    "    tokens = get_tokens(page)\n",
    "    instances = make_instances(tokens,10)\n",
    "    all_instances.extend(instances)\n",
    "    \n",
    "# You should generate approximately 3.7M instances\n",
    "print(len(all_instances))\n",
    "    \n",
    "# Print a sample of the first 20\n",
    "for word, context in islice(all_instances,20):\n",
    "    print(word, context)\n",
    "    print('\\n')"
   ]
  },
  {
   "cell_type": "markdown",
   "id": "88a52347",
   "metadata": {},
   "source": [
    "**Problem 1.2** (1 point) How many unique tokens were observed? How many tokens were observed at least 50 times?\n"
   ]
  },
  {
   "cell_type": "code",
   "execution_count": 7,
   "id": "bea64c9c",
   "metadata": {},
   "outputs": [],
   "source": [
    "import numpy as np #count it twice for word only and for context too "
   ]
  },
  {
   "cell_type": "code",
   "execution_count": 8,
   "id": "a2eedf21",
   "metadata": {},
   "outputs": [
    {
     "name": "stdout",
     "output_type": "stream",
     "text": [
      "Total number of unique tokens: 180684\n"
     ]
    }
   ],
   "source": [
    "print(f'Total number of unique tokens: {len(np.unique([word for word, context in all_instances]))}') #this is taking way longer "
   ]
  },
  {
   "cell_type": "code",
   "execution_count": 9,
   "id": "3214e156",
   "metadata": {
    "scrolled": true
   },
   "outputs": [],
   "source": [
    "from collections import Counter\n",
    "tokens_counted = Counter([word for word, context in all_instances]) #take into accout the context wrods!!! double loop "
   ]
  },
  {
   "cell_type": "code",
   "execution_count": 10,
   "id": "34c73626",
   "metadata": {},
   "outputs": [
    {
     "name": "stdout",
     "output_type": "stream",
     "text": [
      "Total number of unique tokens: 180684\n"
     ]
    }
   ],
   "source": [
    "print(f'Total number of unique tokens: {len(list(tokens_counted))}') #checking correctes of abow and fastest way "
   ]
  },
  {
   "cell_type": "code",
   "execution_count": 11,
   "id": "f6f0cdf4",
   "metadata": {},
   "outputs": [
    {
     "data": {
      "text/plain": [
       "[(',', 210973),\n",
       " ('the', 203903),\n",
       " ('.', 146994),\n",
       " ('of', 121745),\n",
       " ('and', 101498),\n",
       " ('in', 97803),\n",
       " ('a', 66808),\n",
       " ('to', 53127),\n",
       " ('was', 48848),\n",
       " ('-RRB-', 40293)]"
      ]
     },
     "execution_count": 11,
     "metadata": {},
     "output_type": "execute_result"
    }
   ],
   "source": [
    "tokens_counted.most_common(10) #out of curiosity"
   ]
  },
  {
   "cell_type": "code",
   "execution_count": 12,
   "id": "49cb1bd1",
   "metadata": {},
   "outputs": [
    {
     "name": "stdout",
     "output_type": "stream",
     "text": [
      "Number of tokens at least frequent 50 times: 6113\n"
     ]
    }
   ],
   "source": [
    "freq_50 = np.array(list(tokens_counted.items()))[np.array(list(tokens_counted.values()))>50]\n",
    "print(f'Number of tokens at least frequent 50 times: {len(freq_50)}')"
   ]
  },
  {
   "cell_type": "markdown",
   "id": "39b2db00",
   "metadata": {},
   "source": [
    "**Problem 1.3** (1 point) for simplicity, we will only use the 10,000 most-frequent tokens. Make a *vocab* dictionary of the top 10,000 tokens that contains a mapping of word to ID. Make sure to include an entry for the unknown token (10001 tokens in total)\n",
    "\n",
    "e.g. `{\"the\":0, \"a\":1, ..., \"magic\":100, \"Korea\": 101, ...,  \"testing\": 9999, \"[UNK]\":10000}` \n",
    "\n",
    "Use this vocabulary of 10,001 tokens, create a new list of instances `processed_instances` that replaces tokens in `all_instances` that do not appear in the *vocab* with a special placeholder token *[UNK]*\n",
    "\n"
   ]
  },
  {
   "cell_type": "code",
   "execution_count": 13,
   "id": "dc902444",
   "metadata": {},
   "outputs": [],
   "source": [
    "placeholder =\"<UNK>\"\n",
    "almost_vocab = tokens_counted.most_common(10000) "
   ]
  },
  {
   "cell_type": "code",
   "execution_count": 14,
   "id": "affc0949",
   "metadata": {},
   "outputs": [],
   "source": [
    "vocab = {}\n",
    "for i, (token, count) in enumerate(almost_vocab):\n",
    "    vocab[token] = i\n",
    "vocab[placeholder] = i + 1"
   ]
  },
  {
   "cell_type": "code",
   "execution_count": 15,
   "id": "750814e4",
   "metadata": {},
   "outputs": [
    {
     "data": {
      "text/plain": [
       "10001"
      ]
     },
     "execution_count": 15,
     "metadata": {},
     "output_type": "execute_result"
    }
   ],
   "source": [
    "len(vocab) # Should be 10000 + 1 for the placeholder (10001 in total)"
   ]
  },
  {
   "cell_type": "code",
   "execution_count": 16,
   "id": "3ec66620",
   "metadata": {},
   "outputs": [],
   "source": [
    "processed_instances = []\n",
    "for instance in all_instances:\n",
    "    token, content = instance\n",
    "    if(token in vocab.keys()):\n",
    "        pass\n",
    "    else:\n",
    "        token = \"<UNK>\"\n",
    "        \n",
    "    if(all(content) in vocab.keys()):\n",
    "        pass\n",
    "    else:\n",
    "        for i, element in enumerate(content):\n",
    "            if(element not in vocab.keys()):\n",
    "                content[i] = \"<UNK>\"\n",
    "    processed_instances.append((token,content)) "
   ]
  },
  {
   "cell_type": "code",
   "execution_count": 17,
   "id": "cd5d4892",
   "metadata": {},
   "outputs": [
    {
     "data": {
      "text/plain": [
       "3780225"
      ]
     },
     "execution_count": 17,
     "metadata": {},
     "output_type": "execute_result"
    }
   ],
   "source": [
    "len(processed_instances)"
   ]
  },
  {
   "cell_type": "code",
   "execution_count": 18,
   "id": "c5d6840d",
   "metadata": {},
   "outputs": [
    {
     "name": "stdout",
     "output_type": "stream",
     "text": [
      "a ['<UNK>', '<UNK>', '-LRB-', 'born', 'August', '22', ',', '1976', '-RRB-', 'is', '<UNK>', 'judoka', 'who', 'won', 'the', 'silver', 'medal', 'at', 'the', '2002']\n",
      "<UNK> ['<UNK>', '-LRB-', 'born', 'August', '22', ',', '1976', '-RRB-', 'is', 'a', 'judoka', 'who', 'won', 'the', 'silver', 'medal', 'at', 'the', '2002', 'Commonwealth']\n",
      "judoka ['-LRB-', 'born', 'August', '22', ',', '1976', '-RRB-', 'is', 'a', '<UNK>', 'who', 'won', 'the', 'silver', 'medal', 'at', 'the', '2002', 'Commonwealth', 'Games']\n",
      "who ['born', 'August', '22', ',', '1976', '-RRB-', 'is', 'a', '<UNK>', 'judoka', 'won', 'the', 'silver', 'medal', 'at', 'the', '2002', 'Commonwealth', 'Games', '.']\n",
      "won ['August', '22', ',', '1976', '-RRB-', 'is', 'a', '<UNK>', 'judoka', 'who', 'the', 'silver', 'medal', 'at', 'the', '2002', 'Commonwealth', 'Games', '.', 'At']\n",
      "the ['22', ',', '1976', '-RRB-', 'is', 'a', '<UNK>', 'judoka', 'who', 'won', 'silver', 'medal', 'at', 'the', '2002', 'Commonwealth', 'Games', '.', 'At', 'the']\n",
      "silver [',', '1976', '-RRB-', 'is', 'a', '<UNK>', 'judoka', 'who', 'won', 'the', 'medal', 'at', 'the', '2002', 'Commonwealth', 'Games', '.', 'At', 'the', 'final']\n",
      "medal ['1976', '-RRB-', 'is', 'a', '<UNK>', 'judoka', 'who', 'won', 'the', 'silver', 'at', 'the', '2002', 'Commonwealth', 'Games', '.', 'At', 'the', 'final', 'he']\n",
      "at ['-RRB-', 'is', 'a', '<UNK>', 'judoka', 'who', 'won', 'the', 'silver', 'medal', 'the', '2002', 'Commonwealth', 'Games', '.', 'At', 'the', 'final', 'he', 'was']\n",
      "the ['is', 'a', '<UNK>', 'judoka', 'who', 'won', 'the', 'silver', 'medal', 'at', '2002', 'Commonwealth', 'Games', '.', 'At', 'the', 'final', 'he', 'was', 'defeated']\n"
     ]
    }
   ],
   "source": [
    "# Print a sample of the first 10\n",
    "for word, context in islice(processed_instances,10):\n",
    "    print(word, context)"
   ]
  },
  {
   "cell_type": "markdown",
   "id": "3e910ce0",
   "metadata": {},
   "source": [
    "**Problem 1.4** (1 point) If we do not restrict the size of the vocabulary, we may encounter millions of unique tokens during training. What negative consequences can this have for the models used to generate word embeddings? "
   ]
  },
  {
   "cell_type": "markdown",
   "id": "c814328c",
   "metadata": {},
   "source": [
    "The training would be taking to long because of the factorization and storage of $n x n$ matrix. But also we will have to many tokens with the same content which will be confusing and training of network would be hard. There would be no visible connection between words. We want to extract sometinhg from sentence and minimilize our vocabulary so network would know only the important tokens. "
   ]
  },
  {
   "cell_type": "markdown",
   "id": "be42f362",
   "metadata": {},
   "source": [
    "## Problem 2: Matrix Factorization for Word Embeddings (6 points)"
   ]
  },
  {
   "cell_type": "markdown",
   "id": "a5485bc3",
   "metadata": {},
   "source": [
    "We can construct a matrix of cooccurrence counts by iterating over all data and adding items to a 10001x10001 matrix (10,000 tokens + 1 placeholder tokens). \n",
    "\n",
    "(the code will take approximatly 3 minutes to run)"
   ]
  },
  {
   "cell_type": "code",
   "execution_count": 19,
   "id": "89ef67c4",
   "metadata": {},
   "outputs": [
    {
     "data": {
      "application/vnd.jupyter.widget-view+json": {
       "model_id": "a60ae179111b425c85cb1d0bba286c75",
       "version_major": 2,
       "version_minor": 0
      },
      "text/plain": [
       "  0%|          | 0/3780225 [00:00<?, ?it/s]"
      ]
     },
     "metadata": {},
     "output_type": "display_data"
    }
   ],
   "source": [
    "import torch\n",
    "words_contexts = torch.zeros((len(vocab),len(vocab)))\n",
    "\n",
    "for word, context_tokens in tqdm(processed_instances):\n",
    "    words_contexts[vocab[word]][[vocab[c] for c in context_tokens]] += 1"
   ]
  },
  {
   "cell_type": "markdown",
   "id": "ffdbb86b",
   "metadata": {},
   "source": [
    "**Problem 2.1** (3 points) Using this matrix of word-context counts, compute the matrix of positively shifted pointwise mutual information for each pair of words $(x,y)\\in \\text{Vocab}^2$. \n",
    "\n",
    "$$PSPMI(x,y) = \\log (1 + \\frac{p(x,y)}{p(x)p(y)})$$\n",
    "\n",
    "Note: inefficient solutions that take significantly more than 1 minute to run will receive zero score."
   ]
  },
  {
   "cell_type": "markdown",
   "id": "8a565be4",
   "metadata": {},
   "source": [
    "Quick solution: "
   ]
  },
  {
   "cell_type": "code",
   "execution_count": 35,
   "id": "368c07a4",
   "metadata": {},
   "outputs": [],
   "source": [
    "import numpy as np\n",
    "tokens_counted = Counter([word for word, context in processed_instances])"
   ]
  },
  {
   "cell_type": "code",
   "execution_count": 36,
   "id": "23fabfa0",
   "metadata": {},
   "outputs": [],
   "source": [
    "p_xy = words_contexts/sum(words_contexts, -1)\n",
    "y_counts = np.repeat(np.array(list(tokens_counted.values()))/len(vocab), len(vocab))\n",
    "y_counts = y_counts.reshape(len(vocab),len(np.array(list(tokens_counted.values()))))\n"
   ]
  },
  {
   "cell_type": "code",
   "execution_count": 43,
   "id": "6ca0bbb9",
   "metadata": {},
   "outputs": [],
   "source": [
    "positively_shifted  = np.log(1 + (p_xy/(y_counts@y_counts.T)))"
   ]
  },
  {
   "cell_type": "code",
   "execution_count": 44,
   "id": "eac191fd",
   "metadata": {},
   "outputs": [
    {
     "data": {
      "text/plain": [
       "tensor([[1.2774e-07, 1.5361e-08, 2.2362e-04,  ..., 5.2061e-04, 1.6209e-04,\n",
       "         3.0434e-04],\n",
       "        [1.6314e-08, 2.4164e-09, 3.8742e-05,  ..., 2.1536e-05, 1.9287e-05,\n",
       "         4.0148e-05],\n",
       "        [1.6627e-04, 2.7785e-05, 9.3560e-02,  ..., 2.0787e-01, 1.9473e-01,\n",
       "         3.7314e-01],\n",
       "        ...,\n",
       "        [5.5598e-08, 3.3985e-09, 3.3808e-05,  ..., 2.6481e-01, 0.0000e+00,\n",
       "         9.5115e-05],\n",
       "        [2.2058e-08, 2.2131e-09, 3.7258e-05,  ..., 0.0000e+00, 2.5182e-02,\n",
       "         5.4595e-05],\n",
       "        [7.0418e-04, 8.8823e-05, 8.9636e-01,  ..., 1.1493e+00, 5.8963e-01,\n",
       "         9.8766e-01]], dtype=torch.float64)"
      ]
     },
     "execution_count": 44,
     "metadata": {},
     "output_type": "execute_result"
    }
   ],
   "source": [
    "positively_shifted"
   ]
  },
  {
   "cell_type": "markdown",
   "id": "a4c6da81",
   "metadata": {},
   "source": [
    "Defenitely working solution:"
   ]
  },
  {
   "cell_type": "code",
   "execution_count": 45,
   "id": "46c03031",
   "metadata": {},
   "outputs": [],
   "source": [
    "# positively_shifted = torch.zeros((len(vocab),len(vocab)))\n",
    "\n",
    "# for word, context_tokens in tqdm(processed_instances):\n",
    "#     p_xy = words_contexts[vocab[word]]/sum(words_contexts, -1) #sum\n",
    "#     y_counts = [tokens_counted[name]/len(vocab) for name in context_tokens]\n",
    "#     x_count = np.repeat(tokens_counted[word]/len(vocab), len(y_counts))\n",
    "#     pmi = np.log(1 + (p_xy/(np.dot(x_count, y_counts))))\n",
    "#     indices = (pmi == float('inf'))\n",
    "#     pmi[indices] = 0 \n",
    "#     indices = (pmi == float('-inf'))\n",
    "#     pmi[indices] = 0 \n",
    "#     positively_shifted[vocab[word]] = pmi\n"
   ]
  },
  {
   "cell_type": "markdown",
   "id": "4167ee4a",
   "metadata": {},
   "source": [
    "**Problem 2.2** (1 point) Positively Shifted PMI (PSPMI) is defined as $\\log (1+\\frac{p(x,y)}{p(x)p(y)})$ whereas PMI is defined as $\\log (\\frac{p(x,y)}{p(x)p(y)})$. \n",
    "\n",
    "Explain what the effect of the $+1$ for positive shifted PMI is."
   ]
  },
  {
   "cell_type": "markdown",
   "id": "754f073d",
   "metadata": {},
   "source": [
    "This shifts all the negative values to 0. This definition is motivated by the observation that \"negative PMI values (which imply things are co-occurring less often than we would expect by chance) tend to be unreliable unless our corpora are enormous\" and also by a concern that \"it’s not clear whether it’s even possible to evaluate such scores of ‘unrelatedness’ with human judgment\". It also avoid having to deal with  $− ∞$ values for events that never occur together  $p(x,y) = 0$, by setting PPMI for these to 0."
   ]
  },
  {
   "cell_type": "markdown",
   "id": "cbc82b40",
   "metadata": {},
   "source": [
    "**Problem 2.3** (1 point) Using the sklearn non-negative matrix factorization method to generate two sets of word embeddings: one from the PSPMI matrix and one from the Counts matrix. Use the following arguments: `verbose=True, max_iter=10, n_components=10`.  Note that if p(x) or p(y) is zero, the resutling PMI will be undefined. It may be necessary to use `torch.nan_to_num`"
   ]
  },
  {
   "cell_type": "code",
   "execution_count": 46,
   "id": "ee57d47e",
   "metadata": {},
   "outputs": [],
   "source": [
    "from sklearn.decomposition import NMF \n"
   ]
  },
  {
   "cell_type": "code",
   "execution_count": 47,
   "id": "164cb123",
   "metadata": {},
   "outputs": [
    {
     "name": "stdout",
     "output_type": "stream",
     "text": [
      "violation: 1.0\n",
      "violation: 0.08601762194869536\n",
      "violation: 0.05503211784135574\n",
      "violation: 0.047472519027465326\n",
      "violation: 0.04173769844957099\n",
      "violation: 0.040666202543182595\n",
      "violation: 0.03272167552182549\n",
      "violation: 0.025405296628919792\n",
      "violation: 0.021237812183758486\n",
      "violation: 0.0175267421828922\n"
     ]
    },
    {
     "name": "stderr",
     "output_type": "stream",
     "text": [
      "c:\\python38\\lib\\site-packages\\sklearn\\decomposition\\_nmf.py:1692: ConvergenceWarning: Maximum number of iterations 10 reached. Increase it to improve convergence.\n",
      "  warnings.warn(\n"
     ]
    }
   ],
   "source": [
    "model = NMF(n_components=10, init='random', random_state=0, verbose=True, max_iter=10)\n",
    "W = model.fit_transform(words_contexts)\n",
    "H = model.components_"
   ]
  },
  {
   "cell_type": "code",
   "execution_count": 48,
   "id": "e2057775",
   "metadata": {
    "scrolled": true
   },
   "outputs": [
    {
     "name": "stdout",
     "output_type": "stream",
     "text": [
      "violation: 1.0\n",
      "violation: 0.022438984642028592\n",
      "violation: 0.02382906988656141\n",
      "violation: 0.009704183315775685\n",
      "violation: 0.006430952830520196\n",
      "violation: 0.004661485436525352\n",
      "violation: 0.00356588764997405\n",
      "violation: 0.0028737721573758998\n",
      "violation: 0.002399103205632882\n",
      "violation: 0.0020718487288088907\n"
     ]
    },
    {
     "name": "stderr",
     "output_type": "stream",
     "text": [
      "c:\\python38\\lib\\site-packages\\sklearn\\decomposition\\_nmf.py:1692: ConvergenceWarning: Maximum number of iterations 10 reached. Increase it to improve convergence.\n",
      "  warnings.warn(\n"
     ]
    }
   ],
   "source": [
    "model2 = NMF(n_components=10, init='random', random_state=0, verbose=True, max_iter=10)\n",
    "W2 = model2.fit_transform(positively_shifted)\n",
    "H2 = model2.components_"
   ]
  },
  {
   "cell_type": "code",
   "execution_count": 49,
   "id": "2388d08f",
   "metadata": {},
   "outputs": [
    {
     "data": {
      "text/plain": [
       "array([[1.18871705e+02, 1.10226749e+02, 9.19494797e+01, ...,\n",
       "        1.21112453e-02, 1.74543925e-02, 1.60292138e+02],\n",
       "       [2.09585347e+00, 1.66722586e+01, 0.00000000e+00, ...,\n",
       "        0.00000000e+00, 2.98509205e-03, 5.00001783e+00],\n",
       "       [0.00000000e+00, 8.67975314e+00, 1.10444096e+02, ...,\n",
       "        0.00000000e+00, 4.34294553e-03, 9.43353513e-03],\n",
       "       ...,\n",
       "       [2.85515868e+01, 2.07576289e+02, 3.32175667e+02, ...,\n",
       "        0.00000000e+00, 3.62532115e-01, 2.83829027e+02],\n",
       "       [1.66721264e+02, 1.47853788e+02, 3.40741945e+02, ...,\n",
       "        2.82094009e-01, 2.28526295e-01, 3.78424120e+02],\n",
       "       [8.40568822e+01, 8.30034504e+00, 0.00000000e+00, ...,\n",
       "        1.71003865e-01, 1.47522261e-02, 9.56744525e+01]])"
      ]
     },
     "execution_count": 49,
     "metadata": {},
     "output_type": "execute_result"
    }
   ],
   "source": [
    "H"
   ]
  },
  {
   "cell_type": "markdown",
   "id": "5f78d540",
   "metadata": {},
   "source": [
    "**Problem 2.4** (1 points) Using cosine distance, and the followings sets of related words, compute the centroid of the embeddings. Use the known outlier words to evaluate whether the PSPMI-based or Count-based models"
   ]
  },
  {
   "cell_type": "code",
   "execution_count": 50,
   "id": "56a05a7a",
   "metadata": {},
   "outputs": [],
   "source": [
    "related_words_1 = [\"football\", \"soccer\", \"golf\", \"basketball\", \"baseball\", \"cricket\"]\n",
    "related_words_2 = [\"run\", \"walk\", \"climb\", \"athlete\", \"jump\"]\n",
    "related_words_3 = [\"America\", \"France\", \"Europe\", \"Germany\", \"Japan\"]\n",
    "outlier_words = [\"wind\",\"data\",\"university\",\"official\"]\n"
   ]
  },
  {
   "attachments": {
    "obraz.png": {
     "image/png": "[encoded data removed]"
    }
   },
   "cell_type": "markdown",
   "id": "cb07c991",
   "metadata": {},
   "source": [
    "![obraz.png](attachment:obraz.png)\n",
    "\n",
    "The cosine distance is 1- cosine_simmilarity measure."
   ]
  },
  {
   "cell_type": "code",
   "execution_count": 51,
   "id": "3d78809e",
   "metadata": {},
   "outputs": [],
   "source": [
    "def cosine_dist(x, y): \n",
    "    dot = np.dot(x, y)\n",
    "    n1 = np.sqrt(np.dot(x,x))\n",
    "    n2 = np.sqrt(np.dot(y,y))\n",
    "    return 1 - dot/(n1*n2)"
   ]
  },
  {
   "cell_type": "code",
   "execution_count": 52,
   "id": "30035ae9",
   "metadata": {},
   "outputs": [],
   "source": [
    "def get_centroid(related_words_1, H):\n",
    "    total_dist = 0\n",
    "    for i, word in enumerate(related_words_1):\n",
    "        total_dist += H[:,[vocab[word]]]\n",
    "    return (total_dist/(i + 1)).reshape(10)\n"
   ]
  },
  {
   "cell_type": "code",
   "execution_count": 69,
   "id": "60e8cccc",
   "metadata": {},
   "outputs": [],
   "source": [
    "count_based = cosine_dist(get_centroid(related_words_1,H),H[:,vocab['America']])\n",
    "pspmi_based = cosine_dist(get_centroid(related_words_1,H2),H2[:,vocab['America']])\n"
   ]
  },
  {
   "cell_type": "code",
   "execution_count": 70,
   "id": "91bdb991",
   "metadata": {},
   "outputs": [
    {
     "name": "stdout",
     "output_type": "stream",
     "text": [
      "The count base cosine distance is: 0.010341412244003756 and the PSPMI base distance is 0.05864189602374781.\n"
     ]
    }
   ],
   "source": [
    "print(f'The count base cosine distance is: {count_based} and the PSPMI base distance is {pspmi_based}.' )\n"
   ]
  },
  {
   "cell_type": "markdown",
   "id": "15ddaf9d",
   "metadata": {},
   "source": [
    "The preformence of both methods are very simmilar. The count based method is sightly better. "
   ]
  },
  {
   "cell_type": "markdown",
   "id": "490d5b0c",
   "metadata": {},
   "source": [
    "## Problem 3: Word2Vec SkipGram Model (13 points)"
   ]
  },
  {
   "cell_type": "markdown",
   "id": "e680dd3d",
   "metadata": {},
   "source": [
    "Recall that neural models can be used to generate word embeddings instead of using matrix factorization approaches. For this course we have studied Word2vec that was introduced by Mikolov et al., 2013.\n",
    "\n",
    "**Problem 3.1** (2 points) Recall that Word2Vec has two formulations: CBOW and SkipGram. Read the hyperlinked paper from Mikolov et al., 2013 and summarize the key difference between the two formulations (max 100 words).\n",
    "\n",
    "* https://arxiv.org/pdf/1301.3781.pdf"
   ]
  },
  {
   "cell_type": "markdown",
   "id": "4323e981",
   "metadata": {},
   "source": [
    "1. CBOW predicts the current word using their surrounding. So the input in COBOW is word surrounding while the output is the word. Now the SkipGram works opposite, which means that based on word it tries to predict the word surrounding. \n",
    "\n",
    "2. The SkipGram model is more time consuming to perform then CBOW model. "
   ]
  },
  {
   "cell_type": "markdown",
   "id": "1382fd2c",
   "metadata": {},
   "source": [
    "**Problem 3.2** (7 points) Create a PyTorch implentation of the Skipgram model and train the model with noise contrastive estimation. Let the `forward` method of your model have the following parameters `input_token` and `output_token` and `negative_tokens` that returns the noise contrastive loss of the output word for the given input. \n",
    "\n",
    "* Use a hidden dimension of 25, Adam optimizer with learning rate 0.01.\n",
    "* Train for 10 epochs on the `processed_instances`. To speed up training, use a random sample of 10000 instances each epoch.\n",
    "* For simplicity sample **one** word from the context for each iteration of training **uniformly at random**. \n",
    "* Sample `20` negative instances for noise contrastive estimation uniformly at random from the vocabulary.\n",
    "* Report the average loss for each epoch\n"
   ]
  },
  {
   "attachments": {
    "obraz.png": {
     "image/png": "[encoded data removed]"
    }
   },
   "cell_type": "markdown",
   "id": "571c4e95",
   "metadata": {},
   "source": [
    "![obraz.png](attachment:obraz.png)"
   ]
  },
  {
   "cell_type": "code",
   "execution_count": 55,
   "id": "cf769588",
   "metadata": {},
   "outputs": [],
   "source": [
    "def get_sample(vocab, n):\n",
    "    sample = []\n",
    "    for i in range(n):\n",
    "        selected = random.choice(list(vocab.items()))[1]\n",
    "        sample.append(torch.LongTensor([selected]))\n",
    "    return torch.LongTensor(sample)"
   ]
  },
  {
   "cell_type": "code",
   "execution_count": 71,
   "id": "f2de72aa",
   "metadata": {},
   "outputs": [],
   "source": [
    "from torch import nn\n",
    "import random\n",
    "\n",
    "negative_samples = 20\n",
    "emb_size = 25  \n",
    "vocab_size = len(vocab)\n",
    "\n",
    "class Skipgram_model(torch.nn.Module):\n",
    "    def __init__(self, vocab_size, emb_size):\n",
    "        super().__init__()\n",
    "        #U (output) and V (input)\n",
    "        self.output = torch.nn.Embedding(vocab_size,emb_size) \n",
    "        self.input = torch.nn.Embedding(vocab_size, emb_size)\n",
    "        \n",
    "        \n",
    "    def forward(self, input_token, output_token, negative_tokens):\n",
    "\n",
    "        embed_v = self.input(input_token)\n",
    "        embed_u = self.output(output_token)\n",
    "        \n",
    "        score  = torch.mul(embed_u, embed_v)\n",
    "\n",
    "        score = torch.sum(score, dim=1)\n",
    "\n",
    "        log_target = torch.nn.functional.logsigmoid(score)\n",
    "\n",
    "        neg_input_v = self.input(negative_tokens)\n",
    "        \n",
    "        neg_score = torch.matmul(neg_input_v,torch.reshape(embed_v,(25,1)))\n",
    "\n",
    "        neg_score = torch.sum(neg_score, dim=0)\n",
    "\n",
    "        \n",
    "        sum_log_sampled = torch.nn.functional.logsigmoid(-1*neg_score)\n",
    "\n",
    "        \n",
    "        loss = log_target + sum_log_sampled\n",
    "\n",
    "        return -1*loss.sum()\n",
    "\n",
    "\n",
    "\n"
   ]
  },
  {
   "cell_type": "code",
   "execution_count": 72,
   "id": "c224dfba",
   "metadata": {},
   "outputs": [
    {
     "name": "stderr",
     "output_type": "stream",
     "text": [
      "10000it [04:38, 35.91it/s]\n"
     ]
    },
    {
     "name": "stdout",
     "output_type": "stream",
     "text": [
      "[1, 10000] loss: 11426.298\n"
     ]
    },
    {
     "name": "stderr",
     "output_type": "stream",
     "text": [
      "10000it [04:38, 35.89it/s]\n"
     ]
    },
    {
     "name": "stdout",
     "output_type": "stream",
     "text": [
      "[2, 10000] loss: 65052.988\n"
     ]
    },
    {
     "name": "stderr",
     "output_type": "stream",
     "text": [
      "10000it [04:39, 35.74it/s]\n"
     ]
    },
    {
     "name": "stdout",
     "output_type": "stream",
     "text": [
      "[3, 10000] loss: 176127.017\n"
     ]
    },
    {
     "name": "stderr",
     "output_type": "stream",
     "text": [
      "10000it [04:53, 34.10it/s]\n"
     ]
    },
    {
     "name": "stdout",
     "output_type": "stream",
     "text": [
      "[4, 10000] loss: 361133.473\n"
     ]
    },
    {
     "name": "stderr",
     "output_type": "stream",
     "text": [
      "10000it [04:59, 33.36it/s]\n"
     ]
    },
    {
     "name": "stdout",
     "output_type": "stream",
     "text": [
      "[5, 10000] loss: 639232.263\n"
     ]
    },
    {
     "name": "stderr",
     "output_type": "stream",
     "text": [
      "10000it [04:23, 38.00it/s]\n"
     ]
    },
    {
     "name": "stdout",
     "output_type": "stream",
     "text": [
      "[6, 10000] loss: 1029920.055\n"
     ]
    },
    {
     "name": "stderr",
     "output_type": "stream",
     "text": [
      "10000it [04:53, 34.08it/s]\n"
     ]
    },
    {
     "name": "stdout",
     "output_type": "stream",
     "text": [
      "[7, 10000] loss: 1545242.956\n"
     ]
    },
    {
     "name": "stderr",
     "output_type": "stream",
     "text": [
      "10000it [04:40, 35.67it/s]\n"
     ]
    },
    {
     "name": "stdout",
     "output_type": "stream",
     "text": [
      "[8, 10000] loss: 2162246.813\n"
     ]
    },
    {
     "name": "stderr",
     "output_type": "stream",
     "text": [
      "10000it [04:54, 33.97it/s]\n"
     ]
    },
    {
     "name": "stdout",
     "output_type": "stream",
     "text": [
      "[9, 10000] loss: 2974446.209\n"
     ]
    },
    {
     "name": "stderr",
     "output_type": "stream",
     "text": [
      "10000it [04:48, 34.66it/s]"
     ]
    },
    {
     "name": "stdout",
     "output_type": "stream",
     "text": [
      "[10, 10000] loss: 3883708.907\n"
     ]
    },
    {
     "name": "stderr",
     "output_type": "stream",
     "text": [
      "\n"
     ]
    }
   ],
   "source": [
    "from tqdm import tqdm\n",
    "model = Skipgram_model(vocab_size,emb_size)\n",
    "optimizer = torch.optim.Adam(model.parameters(), lr=0.01)\n",
    "runloss = 0\n",
    "for epoch in range(10):\n",
    "    begginig = np.random.randint(0,len(processed_instances)-10000,1)[0]\n",
    "    end = begginig + 10000\n",
    "    for x, data in tqdm(enumerate(processed_instances[begginig:end])):\n",
    "        word, context_word = data\n",
    "        # index of the vocabulary\n",
    "        input_token = torch.LongTensor([vocab[word]])\n",
    "        # index for random word from context\n",
    "        index = np.random.randint(0,len(context_word),1)[0]\n",
    "        output_token = torch.LongTensor([vocab[context_word[index]]])\n",
    "        \n",
    "        #input_token, output_token, negative_tokens\n",
    "        negative_tokens = get_sample(vocab, 20)\n",
    "        \n",
    "        \n",
    "        loss = model(input_token,output_token,negative_tokens)\n",
    "#         print(f'Loss: {loss}')\n",
    "        loss.backward()\n",
    "        optimizer.step()\n",
    "\n",
    "        # print statistics\n",
    "        runloss += loss.item()\n",
    "    print(f'[{epoch + 1}, {x + 1:5d}] loss: {runloss / (x+1):.3f}')\n",
    "        \n",
    "    "
   ]
  },
  {
   "cell_type": "markdown",
   "id": "f5b3ad20",
   "metadata": {},
   "source": [
    "Unfortunatelly, I know that there is probably something wrong with this implementation. Its seems some minus is wrong with loss implementation because the loss is increasing with each epoch. I was trying to fix this but during this process I got problem with NaN values in loss function. If you could show me proper implementation after the assignment is over I would be very glad or find the bug. "
   ]
  },
  {
   "cell_type": "markdown",
   "id": "ea84d598",
   "metadata": {},
   "source": [
    "**Problem 3.3** (3 points) subsampling of frequent words is shown to improve performance and speed up training (Mikolov et al., 2013b) (https://arxiv.org/pdf/1310.4546.pdf). \n",
    "\n",
    "Instances for a word $w$ are discarded with the following probability $P(w) = 1 - \\sqrt{\\frac{t}{f(w)}}$.\n",
    "\n",
    "Implement subsampling of frequent words. Create a copy of the `processed_instances` list from problem 1.3 and call this `subsampled_instances`. Discard instances from this list using the frequency of the input word. Determine an appropriate sampling temperature $t$ by selecting a value that retains approximately $10\\%$ of the data.\n",
    "\n",
    "\n"
   ]
  },
  {
   "cell_type": "code",
   "execution_count": 73,
   "id": "e01c1e2d",
   "metadata": {},
   "outputs": [
    {
     "name": "stderr",
     "output_type": "stream",
     "text": [
      "100%|████████████████████████████████████████████████████████████████████| 3780225/3780225 [00:06<00:00, 623091.66it/s]\n"
     ]
    }
   ],
   "source": [
    "t = 1.25 #**(-1)\n",
    "subsampled_instances = []\n",
    "\n",
    "for data in tqdm(processed_instances):\n",
    "    word, context = data\n",
    "    p_w = 1 - np.sqrt((t/tokens_counted[word]))\n",
    "#     print(p_w)\n",
    "    if(p_w<0.9):\n",
    "        subsampled_instances.append(data)\n",
    "    \n",
    "    \n",
    "    "
   ]
  },
  {
   "cell_type": "code",
   "execution_count": 74,
   "id": "13ca948f",
   "metadata": {},
   "outputs": [
    {
     "name": "stdout",
     "output_type": "stream",
     "text": [
      "0.10411814111593887\n"
     ]
    }
   ],
   "source": [
    "print(len(subsampled_instances)/len(processed_instances))"
   ]
  },
  {
   "cell_type": "markdown",
   "id": "fe8ee68b",
   "metadata": {},
   "source": [
    "**Problem 3.4** (1 point) re-train your model from problem 3.2 using the subsampled instances from problem 3.3. How does the loss of this model trained on the subsample of instances compare to the loss of the model trained on all instances? Suggest why this is this the case. "
   ]
  },
  {
   "cell_type": "code",
   "execution_count": 76,
   "id": "5807c636",
   "metadata": {},
   "outputs": [
    {
     "name": "stderr",
     "output_type": "stream",
     "text": [
      "10000it [05:02, 33.11it/s]\n"
     ]
    },
    {
     "name": "stdout",
     "output_type": "stream",
     "text": [
      "[1, 10000] loss: 17128.681\n"
     ]
    },
    {
     "name": "stderr",
     "output_type": "stream",
     "text": [
      "10000it [04:58, 33.53it/s]\n"
     ]
    },
    {
     "name": "stdout",
     "output_type": "stream",
     "text": [
      "[2, 10000] loss: 104968.671\n"
     ]
    },
    {
     "name": "stderr",
     "output_type": "stream",
     "text": [
      "10000it [04:49, 34.58it/s]\n"
     ]
    },
    {
     "name": "stdout",
     "output_type": "stream",
     "text": [
      "[3, 10000] loss: 306522.787\n"
     ]
    },
    {
     "name": "stderr",
     "output_type": "stream",
     "text": [
      "10000it [04:50, 34.48it/s]\n"
     ]
    },
    {
     "name": "stdout",
     "output_type": "stream",
     "text": [
      "[4, 10000] loss: 662712.873\n"
     ]
    },
    {
     "name": "stderr",
     "output_type": "stream",
     "text": [
      "10000it [04:35, 36.29it/s]\n"
     ]
    },
    {
     "name": "stdout",
     "output_type": "stream",
     "text": [
      "[5, 10000] loss: 1197858.125\n"
     ]
    },
    {
     "name": "stderr",
     "output_type": "stream",
     "text": [
      "10000it [04:00, 41.59it/s]\n"
     ]
    },
    {
     "name": "stdout",
     "output_type": "stream",
     "text": [
      "[6, 10000] loss: 1936262.073\n"
     ]
    },
    {
     "name": "stderr",
     "output_type": "stream",
     "text": [
      "10000it [04:35, 36.34it/s]\n"
     ]
    },
    {
     "name": "stdout",
     "output_type": "stream",
     "text": [
      "[7, 10000] loss: 2918811.111\n"
     ]
    },
    {
     "name": "stderr",
     "output_type": "stream",
     "text": [
      "10000it [04:52, 34.22it/s]\n"
     ]
    },
    {
     "name": "stdout",
     "output_type": "stream",
     "text": [
      "[8, 10000] loss: 4151581.539\n"
     ]
    },
    {
     "name": "stderr",
     "output_type": "stream",
     "text": [
      "10000it [04:55, 33.84it/s]\n"
     ]
    },
    {
     "name": "stdout",
     "output_type": "stream",
     "text": [
      "[9, 10000] loss: 5699793.566\n"
     ]
    },
    {
     "name": "stderr",
     "output_type": "stream",
     "text": [
      "10000it [04:45, 35.08it/s]"
     ]
    },
    {
     "name": "stdout",
     "output_type": "stream",
     "text": [
      "[10, 10000] loss: 7591041.882\n"
     ]
    },
    {
     "name": "stderr",
     "output_type": "stream",
     "text": [
      "\n"
     ]
    }
   ],
   "source": [
    "from tqdm import tqdm\n",
    "model = Skipgram_model(vocab_size,emb_size)\n",
    "optimizer = torch.optim.Adam(model.parameters(), lr=0.01)\n",
    "runloss = 0\n",
    "for epoch in range(10):\n",
    "    begginig = np.random.randint(0,len(subsampled_instances)-10000,1)[0]\n",
    "    end = begginig + 10000\n",
    "    for x, data in tqdm(enumerate(subsampled_instances[begginig:end])):\n",
    "        word, context_word = data\n",
    "        # index of the vocabulary\n",
    "        input_token = torch.LongTensor([vocab[word]])\n",
    "        \n",
    "        # index for random word from context\n",
    "        index = np.random.randint(0,len(context_word),1)[0]\n",
    "        output_token = torch.LongTensor([vocab[context_word[index]]])\n",
    "        \n",
    "        # input_token, output_token, negative_tokens\n",
    "        negative_tokens = get_sample(vocab, 20)\n",
    "        \n",
    "        \n",
    "        loss = model(input_token,output_token,negative_tokens)\n",
    "        loss.backward()\n",
    "        optimizer.step()\n",
    "\n",
    "        # print statistics\n",
    "        runloss += loss.item()\n",
    "    print(f'[{epoch + 1}, {x + 1:5d}] loss: {runloss / (x+1):.3f}')\n",
    "        "
   ]
  },
  {
   "cell_type": "markdown",
   "id": "0610613d",
   "metadata": {},
   "source": [
    "The loss is coverging quicker. This method allows us to remove more frequent words such as \"in\", \"the\" ect. (less valued tokens). So our network is not working the connections between \"the\" and any random word from vocabulary. We are limitting vaocabulary from \"noise\". "
   ]
  },
  {
   "cell_type": "markdown",
   "id": "7d19b274",
   "metadata": {},
   "source": [
    "## Problem 4: Hierarchical Softmax (5 points)\n",
    "In Mikolov et al., 2013b (https://arxiv.org/pdf/1310.4546.pdf), Hierarchical softmax estimates the probability of a token as a sequence of binary choices for traversing a tree (additional explanation has been added to the Week 4 Monday Lecture VOD and Slides) given by eqn 3 in the paper. \n",
    "\n",
    "It is illustrated for the CBOW model below:"
   ]
  },
  {
   "cell_type": "markdown",
   "id": "2ad8409d",
   "metadata": {},
   "source": [
    "![hs.png](hs.png)"
   ]
  },
  {
   "cell_type": "markdown",
   "id": "19c8ac42",
   "metadata": {},
   "source": [
    "**Problem 4.1** (2 points) In eqn 3 in Mikolov 2013b, the probability for a word is estimated with the Hierarchical Softmax function. The probability of a word is estimated as a the product of binary (left or right) deicsions traversing this tree. Using the definition of the special function in the paper ($\\lbrack\\lbrack x \\rbrack\\rbrack$), show that if $p(w,left) = \\sigma(u_{n(w,j)}^Tu_l)$, then $p(w,right) = \\sigma(- u_{n(w,j)}^Tu_l)$ where $\\sigma$ is sigmoid function."
   ]
  },
  {
   "attachments": {
    "obraz.png": {
     "image/png": "[encoded data removed]"
    }
   },
   "cell_type": "markdown",
   "id": "56ef124b",
   "metadata": {},
   "source": [
    "If the probability of a wrod is estimated based on the below equasion:\n",
    "![obraz.png](attachment:obraz.png)"
   ]
  },
  {
   "cell_type": "markdown",
   "id": "170d52a8",
   "metadata": {},
   "source": [
    "Then considering the binary decision tree and the $\\lbrack\\lbrack x \\rbrack\\rbrack$ function with value 1 if true and -1 if not. Then for two different paths (left and right) in a binary tree from the equasion abow we will estimate 1 for one path and oposite values for the second path in one node. This will result in the minus sing before the $u_{n(w,j)}^Tu_l$ multiplication. "
   ]
  },
  {
   "cell_type": "markdown",
   "id": "9cc2c1ee",
   "metadata": {},
   "source": [
    "**Problem 4.2** (1 points) Assuming that a balanced binary tree is used to represent a given vocabulary $\\mathcal{V}$. What is the expected number of hops required to reach each leaf node (give your answer in terms of $|\\mathcal{V}|$)."
   ]
  },
  {
   "cell_type": "markdown",
   "id": "be356d75",
   "metadata": {},
   "source": [
    "If the tree is balanced that meens the height of the left and right subtree of any node differ by not more than 1. As I understand the  $|\\mathcal{V}|$ is leght of the vocabulary which is the number of words at the bootom of the tree. So the expected numebr of hops required to reach each bottom node is  $\\frac{|\\mathcal{V}|}{2}$ rounded up. "
   ]
  },
  {
   "cell_type": "markdown",
   "id": "54774e43",
   "metadata": {},
   "source": [
    "**Problem 4.3** (2 points) Compare the runtime efficiency of Softmax, Noise Contrastive Estimation, and Hierarchical Softmax. Why is it prefereable to use these alternatives to Softmax when computing loss? (max 100 words)"
   ]
  },
  {
   "cell_type": "markdown",
   "id": "a15780b3",
   "metadata": {},
   "source": [
    "Softmax needs to evaluate $\\mathcal{W}$ output nodes while hierarchical sfotmax needs only $log{_2}{W}$ nodes. And the Noise Contrastive Estimation avoids calculation of the partition function or its derivatives at each training step.\n",
    "\n",
    "Softmax can be slow to train and output large layers. That's why there is a lot of alternative for softmax espacially concerning the NLP models which usually requires large vocabularies. "
   ]
  }
 ],
 "metadata": {
  "kernelspec": {
   "display_name": "Python 3 (ipykernel)",
   "language": "python",
   "name": "python3"
  },
  "language_info": {
   "codemirror_mode": {
    "name": "ipython",
    "version": 3
   },
   "file_extension": ".py",
   "mimetype": "text/x-python",
   "name": "python",
   "nbconvert_exporter": "python",
   "pygments_lexer": "ipython3",
   "version": "3.9.9"
  }
 },
 "nbformat": 4,
 "nbformat_minor": 5
}
