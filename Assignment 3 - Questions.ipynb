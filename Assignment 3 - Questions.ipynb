{
 "cells": [
  {
   "cell_type": "markdown",
   "metadata": {},
   "source": [
    "# KAIST AI605 Assignment 3: Tagging, Structured Prediction, HMM, CRF\n",
    "\n",
    "## Rubric\n",
    "\n",
    "### Deadline \n",
    "The deadline for this assignment is: Tuesday 25th October 2022 (Week 9) 11:59pm\n",
    "\n",
    "### Submission\n",
    "Please submit your assignment via [KLMS](https://klms.kaist.ac.kr). You must submit both (1) a PDF of your solutions and (2) the Jupyter Notebook file (.ipynb).\n",
    "\n",
    "Use in-line LaTeX for mathematical expressions. \n",
    "\n",
    "### Collaboration\n",
    "This assignment is not a group assignment so make sure your answer and code are your own.\n",
    "\n",
    "### Grading\n",
    "The total number of marks avaiable is 30 points.\n",
    "\n",
    "### Environment\n",
    "The use of a GPU is not required for this notebook. The required environment for this is Python 3.9. Run the following cell to set up the environment."
   ]
  },
  {
   "cell_type": "code",
   "execution_count": 1,
   "metadata": {},
   "outputs": [],
   "source": [
    "# pip install numpy torch nltk scikit-learn tqdm datasets"
   ]
  },
  {
   "cell_type": "code",
   "execution_count": 2,
   "metadata": {},
   "outputs": [
    {
     "name": "stdout",
     "output_type": "stream",
     "text": [
      "Python 3.8.6rc1\n"
     ]
    }
   ],
   "source": [
    "!python --version"
   ]
  },
  {
   "cell_type": "markdown",
   "metadata": {},
   "source": [
    "## Problem 1: Tagging Datasets (4 points)"
   ]
  },
  {
   "cell_type": "markdown",
   "metadata": {},
   "source": [
    "**Problem 1.1** (2 points) In some tagging problems, such as Named Entity Recognition, IOB and IOBES tagging formats are used. Explain the purpose of these tagging formats and describe the difference between IOB and IOBES tagging formats (max 200 words)\n",
    "\n"
   ]
  },
  {
   "cell_type": "markdown",
   "metadata": {},
   "source": [
    "Purpose: The purpose of tagging is to catch specific values/names for our task. We want to have specific chuncks from whole sentence. \n",
    "\n",
    "Differences: In IOB we are coding inside, outside and begging with IOBES we are additionally coding ending and single word. IOB is not allowing any nesting like nested Named Entities (ex. Warsaw University of Technology)."
   ]
  },
  {
   "cell_type": "markdown",
   "metadata": {},
   "source": [
    "**Problem 1.2** (2 points) A string is tagged with IOB tagging format as listed below. Write code to extract the tuples of the entities and entity types from the tagged string. (e.g. `[[\"Biden\", \"PERSON\"], ...]`)"
   ]
  },
  {
   "cell_type": "code",
   "execution_count": 3,
   "metadata": {},
   "outputs": [],
   "source": [
    "input_string = [\"Biden\", \"was\", \"born\", \"and\", \"raised\", \"in\", \"Scranton\", \",\", \"Pennsylvania\", \",\", \"and\",\n",
    "                \"moved\", \"with\", \"his\", \"family\", \"to\", \"Delaware\", \"in\", \"1953\", \"when\", \"he\", \"was\", \"ten\", \"years\", \"old\", \".\",\n",
    "                \"He\", \"studied\", \"at\", \"the\", \"University\", \"of\", \"Delaware\", \"before\", \"earning\", \"his\", \"law\", \"degree\", \"from\",\n",
    "                \"Syracuse\", \"University\",\".\"]\n",
    "\n",
    "tags          = [\"B-PERSON\", \"O\", \"O\", \"O\", \"O\", \"O\", \"B-LOCATION\", \"I-LOCATION\", \"I-LOCATION\", \"O\", \"O\",\n",
    "                \"O\", \"O\", \"O\", \"O\", \"O\", \"B-LOCATION\", \"O\", \"B-DATE\", \"O\", \"O\", \"O\", \"O\", \"O\", \"O\", \".\",\n",
    "                \"O\", \"O\", \"O\", \"O\", \"B-ORGANIZATION\", \"I-ORGANIZATION\", \"I-ORGANIZATION\", \"O\", \"O\", \"O\", \"O\", \"O\", \"O\",\n",
    "                \"B-ORGANIZATION\", \"I-ORGANIZATION\",\"O\"]\n",
    "\n"
   ]
  },
  {
   "cell_type": "code",
   "execution_count": 4,
   "metadata": {},
   "outputs": [],
   "source": [
    "tag_list = []\n",
    "for i, string in enumerate(input_string):\n",
    "    tag_list.append((string,tags[i]))"
   ]
  },
  {
   "cell_type": "code",
   "execution_count": 5,
   "metadata": {},
   "outputs": [
    {
     "data": {
      "text/plain": [
       "[('Biden', 'B-PERSON'),\n",
       " ('was', 'O'),\n",
       " ('born', 'O'),\n",
       " ('and', 'O'),\n",
       " ('raised', 'O'),\n",
       " ('in', 'O'),\n",
       " ('Scranton', 'B-LOCATION'),\n",
       " (',', 'I-LOCATION'),\n",
       " ('Pennsylvania', 'I-LOCATION'),\n",
       " (',', 'O'),\n",
       " ('and', 'O'),\n",
       " ('moved', 'O'),\n",
       " ('with', 'O'),\n",
       " ('his', 'O'),\n",
       " ('family', 'O'),\n",
       " ('to', 'O'),\n",
       " ('Delaware', 'B-LOCATION'),\n",
       " ('in', 'O'),\n",
       " ('1953', 'B-DATE'),\n",
       " ('when', 'O'),\n",
       " ('he', 'O'),\n",
       " ('was', 'O'),\n",
       " ('ten', 'O'),\n",
       " ('years', 'O'),\n",
       " ('old', 'O'),\n",
       " ('.', '.'),\n",
       " ('He', 'O'),\n",
       " ('studied', 'O'),\n",
       " ('at', 'O'),\n",
       " ('the', 'O'),\n",
       " ('University', 'B-ORGANIZATION'),\n",
       " ('of', 'I-ORGANIZATION'),\n",
       " ('Delaware', 'I-ORGANIZATION'),\n",
       " ('before', 'O'),\n",
       " ('earning', 'O'),\n",
       " ('his', 'O'),\n",
       " ('law', 'O'),\n",
       " ('degree', 'O'),\n",
       " ('from', 'O'),\n",
       " ('Syracuse', 'B-ORGANIZATION'),\n",
       " ('University', 'I-ORGANIZATION'),\n",
       " ('.', 'O')]"
      ]
     },
     "execution_count": 5,
     "metadata": {},
     "output_type": "execute_result"
    }
   ],
   "source": [
    "tag_list"
   ]
  },
  {
   "cell_type": "markdown",
   "metadata": {},
   "source": [
    "## Problem 2:  HMM and Viterbi Decoding (14 points)"
   ]
  },
  {
   "cell_type": "markdown",
   "metadata": {},
   "source": [
    "As part of a mission to Mars, a rover performs ground surveys to study randomly sampled rocks. The mission is divided into four search areas (quadrants: A,B,C,D). The rover can move north-south and west-east between adjacent search areas such as `(A,B)`, `(A,C)`, but **can not** make diagonal moves between search areas such as `(A,D)` due to physical constraints. \n",
    "\n",
    "![nav.png](nav.png)\n",
    "\n",
    "\n",
    "The rover samples a rock from the search quadrants with the following probabilities:\n",
    "\n",
    "\n",
    "| Rock Type | Area A | Area B | Area C | Area D |\n",
    "|---|---|---|---|---|\n",
    "|Meteorite          | 50% |           20% |   10%  | 0%  |           \n",
    "|Sandstone          | 40% |           30% |   60%  | 90% |          \n",
    "|Igneous Rock       | 10% |           50% |   30%  | 10% |            \n",
    "\n",
    "\n",
    "**Problem 2.1** (2 points) Navigation data sent to and received from the rover is corrupted. State how the path taken by the rover between the search quadrants could be recovered using a first order Hidden Markov Model given observations of the surveyed rocks. Describe modelling assumptions and relevant formula. Ignore start and end states for now.\n"
   ]
  },
  {
   "cell_type": "markdown",
   "metadata": {},
   "source": [
    " Assumptions:\n",
    " \n",
    " $P(y) = P(y_1)P(y_2|y_1)...P(y_m|y_1,...,y_{m-1})\\approx\\prod_{t=1}^{m}P(y_t|y_{t-1}) ->$ provided by the restriction of rover movements, each new area to which rover is moving depends on previous movement \n",
    " \n",
    " $X ~ constant$ \n",
    " \n",
    " Formulas: \n",
    " \n",
    " \n",
    " $\\prod_{t=1}^{m}P(y_t|y_{t-1})$ - probability of going to area $y_t$ given previous area $y_{t-1}$\n",
    " \n",
    " From A we can go only to B, C with 50% probability ect. -> assumption \n",
    " \n",
    " $P(x_t|y_t)$ - probability of finding each rock type $x_t$ in given area $y_t$\n",
    " \n",
    " Decision on label: \n",
    " \n",
    " $\\hat Y = argmax\\prod_{t=1}^{m}P(y_t|y_{t-1})P(x_t|y_t) $"
   ]
  },
  {
   "cell_type": "markdown",
   "metadata": {},
   "source": [
    "**Problem 2.2** (2 points) Inspection of the corrupted navigation plans indicate that 50% of the time, the rover remains in the same quadrant. Otherwise, the rover randomly navigates along the north-south or west-east axis. Movements in the north-south axis occur twice as often as the west-east axis. Use this information to complete the parameter matrices for your Hidden Markov Model. \n",
    "\n",
    "**Provide your answer as two tensors/matrices using Numpy or PyTorch**"
   ]
  },
  {
   "cell_type": "code",
   "execution_count": 6,
   "metadata": {},
   "outputs": [],
   "source": [
    "import torch\n",
    "from tqdm.notebook import tqdm\n",
    "import numpy as np "
   ]
  },
  {
   "cell_type": "markdown",
   "metadata": {},
   "source": [
    "|            | Area A | Area B | Area C | Area D |\n",
    "|---|---|---|---|---|\n",
    "|Area A      |    50% |        16.67% | 33.34%  |     0% |           \n",
    "|Area B      | 16.67% |           50% |     0%  | 33.34% |          \n",
    "|Area C      | 33.34% |            0% |    50%  | 16.67% |   \n",
    "|Area D      |     0% |        33.34% | 16.67%  |    50% |    "
   ]
  },
  {
   "cell_type": "code",
   "execution_count": 101,
   "metadata": {},
   "outputs": [
    {
     "data": {
      "text/plain": [
       "tensor([[0.5000, 0.1667, 0.3333, 0.0000],\n",
       "        [0.1667, 0.5000, 0.0000, 0.3333],\n",
       "        [0.3333, 0.0000, 0.5000, 0.1667],\n",
       "        [0.0000, 0.3333, 0.1667, 0.5000]])"
      ]
     },
     "execution_count": 101,
     "metadata": {},
     "output_type": "execute_result"
    }
   ],
   "source": [
    "#area by row, column each rock type\n",
    "p_x_y = torch.Tensor([[0.5,0.4,0.1],[0.2,0.3,0.5],[0.1,0.6,0.3],[0,0.9,0.1]])\n",
    "\n",
    "#area column and area by row \n",
    "p_y_yp = torch.Tensor([[0.5,1/6,2/6,0.],[1/6,0.5,0.,1/3],[1/3,0.,0.5,1/6],[0.,1/3,1/6,0.5]])\n",
    "\n",
    "p_y_yp"
   ]
  },
  {
   "cell_type": "markdown",
   "metadata": {},
   "source": [
    "**Problem 2.3** (2 points) Part of the data recovered from the rover indicates that the rover indicates that the rover identified the following sequence of rock types as `Sandstone, Meteorite, Meteorite, Igneous, Sandstone, Igneous, Sandstone`.\n",
    "\n",
    "An researcher suggests two routes the rover could have taken: `A, A, A, B, D, B, D` or `D, C, C, C, A, A, A`\n",
    "\n",
    "Use this information, combined with your answer from 2.2, to predict which path is most likely. What are the probabilities of these two paths? Do you observe any difference when scoring each path using log probabilities?\n",
    "\n",
    "It is acceptable to use either Numpy or PyTorch for your answer. "
   ]
  },
  {
   "cell_type": "markdown",
   "metadata": {},
   "source": [
    "|           | 0 |             1 |        2|      3 |\n",
    "|---|---|---|---|---|\n",
    "|Meteorite       0   | 50% |           20% |   10%  | 0%  |           \n",
    "|Sandstone       1   | 40% |           30% |   60%  | 90% |          \n",
    "|Igneous Rock    2   | 10% |           50% |   30%  | 10% |   \n",
    "\n",
    "|           | 0 |             1 |        2|      3 |\n",
    "|---|---|---|---|---|\n",
    "|0     |    50% |        16.67% | 33.34%  |     0% |           \n",
    "|1     | 16.67% |           50% |     0%  | 33.34% |          \n",
    "|2     | 33.34% |            0% |    50%  | 16.67% |   \n",
    "|3     |     0% |        33.34% | 16.67%  |    50% |   \n"
   ]
  },
  {
   "cell_type": "code",
   "execution_count": 8,
   "metadata": {},
   "outputs": [],
   "source": [
    "first_path = [0,0,0,1,3,2,3]\n",
    "s_path = [3,2,2,2,0,0,0]\n",
    "rock_types = [1,0,0,2,1,2,1]\n",
    "#Sandstone, Meteorite, Meteorite, Igneous, Sandstone, Igneous, Sandstone\n",
    "\n",
    "def get_prob(path,rock_types):\n",
    "    previous_area = path[0]\n",
    "    result = 1\n",
    "    for i, area in enumerate(path[1:]):\n",
    "        result = result *p_y_yp[area][previous_area]* p_x_y[area][rock_types[i+1]]\n",
    "        previous_area = path[i+1]\n",
    "    return result\n"
   ]
  },
  {
   "cell_type": "code",
   "execution_count": 9,
   "metadata": {},
   "outputs": [],
   "source": [
    "def get_logprob(path,rock_types):\n",
    "    previous_area = path[0]\n",
    "    result = 1\n",
    "    for i, area in enumerate(path[1:]):\n",
    "        result = result *np.log(p_y_yp[area][previous_area])* np.log(p_x_y[area][rock_types[i+1]])\n",
    "        previous_area = path[i+1]\n",
    "    return result"
   ]
  },
  {
   "cell_type": "code",
   "execution_count": 10,
   "metadata": {},
   "outputs": [
    {
     "name": "stdout",
     "output_type": "stream",
     "text": [
      "tensor(1.1728e-05)\n",
      "tensor(1.6673e-07)\n"
     ]
    }
   ],
   "source": [
    "print(get_prob(first_path,rock_types)) # more possible \n",
    "print(get_prob(s_path,rock_types))"
   ]
  },
  {
   "cell_type": "code",
   "execution_count": 11,
   "metadata": {},
   "outputs": [
    {
     "name": "stdout",
     "output_type": "stream",
     "text": [
      "tensor(0.0135)\n",
      "tensor(5.6057)\n"
     ]
    }
   ],
   "source": [
    "# with logs \n",
    "print(get_logprob(first_path,rock_types)) \n",
    "print(get_logprob(s_path,rock_types)) # more possible "
   ]
  },
  {
   "cell_type": "markdown",
   "metadata": {},
   "source": [
    "Using the log probability changes the more possible path taken by the rover. "
   ]
  },
  {
   "cell_type": "markdown",
   "metadata": {},
   "source": [
    "**Problem 2.4** (8 points)  Use the observation history (`Sandstone, Meteorite, Meteorite, Igneous, Sandstone, Igneous, Sandstone`), combined with your answer from 2.2, to decode the most likely position history of the rover using the Viterbi algorithm. \n",
    "\n",
    "Also print the dynamic programming table as well as your most likely position history. It is acceptable to use either Numpy or PyTorch for your answer. "
   ]
  },
  {
   "cell_type": "markdown",
   "metadata": {},
   "source": [
    "Viterbi algorith in steps (there is an function implementation at the end, working the same, I was not sure if I should show all the steps or the wole process finished):"
   ]
  },
  {
   "cell_type": "code",
   "execution_count": 102,
   "metadata": {},
   "outputs": [
    {
     "data": {
      "text/plain": [
       "tensor([[0.5000, 0.4000, 0.1000],\n",
       "        [0.2000, 0.3000, 0.5000],\n",
       "        [0.1000, 0.6000, 0.3000],\n",
       "        [0.0000, 0.9000, 0.1000]])"
      ]
     },
     "execution_count": 102,
     "metadata": {},
     "output_type": "execute_result"
    }
   ],
   "source": [
    "# assuming we do not need the starting point \n",
    "# begginig form the second probability computation \n",
    "# p_x_y #emission matrix column -> each rock type, rows -> each area \n",
    "p_x_y"
   ]
  },
  {
   "cell_type": "code",
   "execution_count": 103,
   "metadata": {},
   "outputs": [
    {
     "data": {
      "text/plain": [
       "tensor([[0.5000, 0.1667, 0.3333, 0.0000],\n",
       "        [0.1667, 0.5000, 0.0000, 0.3333],\n",
       "        [0.3333, 0.0000, 0.5000, 0.1667],\n",
       "        [0.0000, 0.3333, 0.1667, 0.5000]])"
      ]
     },
     "execution_count": 103,
     "metadata": {},
     "output_type": "execute_result"
    }
   ],
   "source": [
    "p_y_yp #transition matrix "
   ]
  },
  {
   "cell_type": "code",
   "execution_count": 104,
   "metadata": {},
   "outputs": [],
   "source": [
    "cod_area = {area_index: area for area_index, area in enumerate(['A','B','C','D'])}\n",
    "\n",
    "cod_roc = {rock_index: rock for rock_index, rock in enumerate(['Sandstone', 'Meteorite', 'Igneous'])}\n"
   ]
  },
  {
   "cell_type": "code",
   "execution_count": 173,
   "metadata": {},
   "outputs": [],
   "source": [
    "# initializing needed variables \n",
    "num_areas = 4\n",
    "num_obs = 3\n",
    "T = torch.zeros((num_areas,len(rock_types)))\n",
    "T2 = torch.zeros((num_areas,len(rock_types)))\n",
    "xt = []\n",
    "zt = []\n",
    "\n",
    "# first step of viterbi algorithm\n",
    "# assuming every start is eqyally possible \n",
    "start_prob = torch.repeat_interleave(torch.tensor([1/4]), num_areas)\n",
    "T[:,0] = start_prob*p_x_y[:,rock_types[0]] # one rock type by each area\n",
    "\n",
    "# T2[:, 0] = torch.arange(0,num_areas)"
   ]
  },
  {
   "cell_type": "code",
   "execution_count": 109,
   "metadata": {},
   "outputs": [],
   "source": [
    "# second stage of viterbi algorithm \n",
    "# for each observation = rock (except the first one) and each state = area \n",
    "# update the matrix with \n"
   ]
  },
  {
   "cell_type": "code",
   "execution_count": 198,
   "metadata": {},
   "outputs": [],
   "source": [
    "for obs in range(1,len(rock_types)):\n",
    "    for area in range(0,num_areas):\n",
    "#         print(f'Previous area {T[:,obs-1]}')\n",
    "#         print(f'Prob of moving form area {area} to every other area {p_y_yp[:,area]}')\n",
    "#         print(f'Prob of getting the obseravtion form each area {p_x_y[:,rock_types[obs]]}\\n')\n",
    "        \n",
    "        T[area,obs] = torch.max(T[:,obs-1]*p_y_yp[:,area]*p_x_y[:,rock_types[obs]])\n",
    "        T2[area,obs] = torch.argmax(T[:,obs-1]*p_y_yp[:,area]*p_x_y[:,rock_types[obs]])\n",
    "        \n"
   ]
  },
  {
   "cell_type": "code",
   "execution_count": 199,
   "metadata": {},
   "outputs": [
    {
     "data": {
      "text/plain": [
       "tensor([[1.0000e-01, 2.5000e-02, 6.2500e-03, 4.1667e-04, 1.2500e-04, 1.8750e-05,\n",
       "         5.6250e-06],\n",
       "        [7.5000e-02, 8.3333e-03, 2.0833e-03, 5.2083e-04, 1.0417e-04, 2.6042e-05,\n",
       "         5.2083e-06],\n",
       "        [1.5000e-01, 1.6667e-02, 4.1667e-03, 6.2500e-04, 1.8750e-04, 2.8125e-05,\n",
       "         8.4375e-06],\n",
       "        [2.2500e-01, 5.0000e-03, 5.5556e-04, 3.4722e-04, 1.5625e-04, 1.7361e-05,\n",
       "         7.8125e-06]])"
      ]
     },
     "execution_count": 199,
     "metadata": {},
     "output_type": "execute_result"
    }
   ],
   "source": [
    "T #dynamic matrix"
   ]
  },
  {
   "cell_type": "code",
   "execution_count": 214,
   "metadata": {},
   "outputs": [],
   "source": [
    "zt = []\n",
    "xt = []\n",
    "\n",
    "zt.append(torch.argmax(T[:,obs]))\n",
    "xt.append(zt[0])\n",
    "for i in reversed(range(0, 6)):\n",
    "    zt.insert(0,T2[int(zt[0]),i])\n",
    "    xt.insert(0,zt[0])\n"
   ]
  },
  {
   "cell_type": "code",
   "execution_count": 184,
   "metadata": {},
   "outputs": [
    {
     "data": {
      "text/plain": [
       "['A', 'A', 'A', 'C', 'C', 'C', 'C']"
      ]
     },
     "execution_count": 184,
     "metadata": {},
     "output_type": "execute_result"
    }
   ],
   "source": [
    "[cod_area[int(i)] for i in xt]"
   ]
  },
  {
   "cell_type": "markdown",
   "metadata": {},
   "source": [
    "Viterbi algorithm in one function:"
   ]
  },
  {
   "cell_type": "code",
   "execution_count": 215,
   "metadata": {},
   "outputs": [],
   "source": [
    "def Viterbi_alg(num_areas, num_obs, p_x_y, p_y_yp, obs_list):\n",
    "    # initializing needed variables \n",
    "    T = torch.zeros((num_areas,len(obs_list)))\n",
    "    T2 = torch.zeros((num_areas,len(obs_list)))\n",
    "\n",
    "    # first step of viterbi algorithm\n",
    "    # assuming every start is eqally possible \n",
    "    T[:,0] = (1/4)*p_x_y[:,obs_list[0]] # one rock type by each area\n",
    "    \n",
    "    # second step, uploading dynamic matrix T with probabilieties \n",
    "    # and the matrix T2 with with moves got that best probability \n",
    "    for obs in range(1,len(obs_list)):\n",
    "        for area in range(num_areas):\n",
    "            T[area,obs] = torch.max(T[:,obs-1]*p_y_yp[:,area]*p_x_y[:,rock_types[obs]])\n",
    "            T2[area,obs] = torch.argmax(T[:,obs-1]*p_y_yp[:,area]*p_x_y[:,rock_types[obs]])\n",
    "    \n",
    "    # last step reverse anaysis of best path \n",
    "    zt = []\n",
    "    xt = []\n",
    "\n",
    "    zt.append(torch.argmax(T[:,obs]))\n",
    "    xt.append(zt[0])\n",
    "\n",
    "    for i in reversed(range(0, 6)):\n",
    "        zt.insert(0,T2[int(zt[0]),i])\n",
    "        xt.insert(0,zt[0])\n",
    "\n",
    "    result = [cod_area[int(i)] for i in zt]\n",
    "    return result, T"
   ]
  },
  {
   "cell_type": "code",
   "execution_count": 216,
   "metadata": {},
   "outputs": [
    {
     "data": {
      "text/plain": [
       "['A', 'A', 'A', 'C', 'C', 'C', 'C']"
      ]
     },
     "execution_count": 216,
     "metadata": {},
     "output_type": "execute_result"
    }
   ],
   "source": [
    "result, dynamic_matrix = Viterbi_alg(num_areas, num_obs, p_x_y, p_y_yp, rock_types)\n",
    "\n",
    "result"
   ]
  },
  {
   "cell_type": "markdown",
   "metadata": {},
   "source": [
    "The pseudocode was taken form Wikipedia page: https://en.wikipedia.org/wiki/Viterbi_algorithm. "
   ]
  },
  {
   "cell_type": "markdown",
   "metadata": {},
   "source": [
    "## Problem 3: Structured Prediction with Conditional Random Fields (12 points)"
   ]
  },
  {
   "cell_type": "markdown",
   "metadata": {},
   "source": [
    "**Problem 3.1** (2 points) Linear chain conditional random fields have been used in many deep-learning tagging models for natural language processing. Discuss the key difference between this type of Conditional Random Fields and Hidden Markov Models. Highlight why conditional random fields can be used when training deep-learning models. Provide formula as appropriate."
   ]
  },
  {
   "cell_type": "markdown",
   "metadata": {},
   "source": [
    "Hidden Markov Models are one way dependencies while CRF works in both ways. CRF allowed to create any edges between any pair of nodes. \n",
    "\n",
    "HMM is generative model while CRF is discriminative model. Which means that in HMM formulation we are modeling $P(X,Y)$ thanks to Bayes Rule and with CRF we are directly modeling $P(Y|X)$.\n",
    "\n",
    "CFR we use a shortcut to use scores for edges with constraint on direction (edges potential) not to model emissions and transmissions like in HMM. \n",
    "\n",
    "Difference in modulation: \n",
    "\n",
    "HMM: $P(Y|X) = \\prod_{t=1}^{m} P(x_t|y_t)P(y_t|y_{t-1})$\n",
    "\n",
    "CRF: $P(Y|X) = \\frac{1}{Z(X)}\\prod_{t=1}^{m} \\phi_t(X,y_{t-1},y_t)$ extra normalization $Z(X)$."
   ]
  },
  {
   "cell_type": "markdown",
   "metadata": {},
   "source": [
    "The remainder of this problem will use data from the MIT Restaurants dataset. First, download the correct package and load the data:"
   ]
  },
  {
   "cell_type": "code",
   "execution_count": 23,
   "metadata": {},
   "outputs": [
    {
     "name": "stderr",
     "output_type": "stream",
     "text": [
      "Found cached dataset mit_restaurant (C:/Users/User/.cache/huggingface/datasets/tner___mit_restaurant/mit_restaurant/1.0.0/cbe6493ab0c7e85b35cdf7fcaadc2c548de45f0e2bd74513f0a36a5288b67e92)\n"
     ]
    },
    {
     "data": {
      "application/vnd.jupyter.widget-view+json": {
       "model_id": "c99220699fba4ff8b86fda5990331d3d",
       "version_major": 2,
       "version_minor": 0
      },
      "text/plain": [
       "  0%|          | 0/3 [00:00<?, ?it/s]"
      ]
     },
     "metadata": {},
     "output_type": "display_data"
    }
   ],
   "source": [
    "from datasets import load_dataset\n",
    "dataset = load_dataset('tner/mit_restaurant')"
   ]
  },
  {
   "cell_type": "markdown",
   "metadata": {},
   "source": [
    "We can check the dataset with the following parameter\n"
   ]
  },
  {
   "cell_type": "code",
   "execution_count": 24,
   "metadata": {},
   "outputs": [
    {
     "name": "stdout",
     "output_type": "stream",
     "text": [
      "DatasetDict({\n",
      "    train: Dataset({\n",
      "        features: ['tokens', 'tags'],\n",
      "        num_rows: 6900\n",
      "    })\n",
      "    validation: Dataset({\n",
      "        features: ['tokens', 'tags'],\n",
      "        num_rows: 760\n",
      "    })\n",
      "    test: Dataset({\n",
      "        features: ['tokens', 'tags'],\n",
      "        num_rows: 1521\n",
      "    })\n",
      "})\n",
      "{'tokens': ['can', 'you', 'find', 'me', 'the', 'cheapest', 'mexican', 'restaurant', 'nearby'], 'tags': [0, 0, 0, 0, 0, 9, 14, 0, 5]}\n",
      "{'tokens': ['2', 'start', 'restaurants', 'with', 'inside', 'dining'], 'tags': [1, 2, 0, 0, 3, 4]}\n",
      "{'tokens': ['a', 'four', 'star', 'restaurant', 'with', 'a', 'bar'], 'tags': [0, 1, 2, 0, 5, 6, 3]}\n"
     ]
    }
   ],
   "source": [
    "print(dataset)\n",
    "print(dataset['train'][0])\n",
    "print(dataset['validation'][0])\n",
    "print(dataset['test'][0])"
   ]
  },
  {
   "cell_type": "markdown",
   "metadata": {},
   "source": [
    "Notice that the dataset is pre-tokenized and that there is a list of tags: one tag for each token. The meaning of the tags is given with the following dictionary:"
   ]
  },
  {
   "cell_type": "code",
   "execution_count": 25,
   "metadata": {},
   "outputs": [],
   "source": [
    "START_TAG = \"<START>\"\n",
    "STOP_TAG = \"<STOP>\"\n",
    "\n",
    "tag_to_ix = {\n",
    "    \"O\": 0,\n",
    "    \"B-Rating\": 1,\n",
    "    \"I-Rating\": 2,\n",
    "    \"B-Amenity\": 3,\n",
    "    \"I-Amenity\": 4,\n",
    "    \"B-Location\": 5,\n",
    "    \"I-Location\": 6,\n",
    "    \"B-Restaurant_Name\": 7,\n",
    "    \"I-Restaurant_Name\": 8,\n",
    "    \"B-Price\": 9,\n",
    "    \"B-Hours\": 10,\n",
    "    \"I-Hours\": 11,\n",
    "    \"B-Dish\": 12,\n",
    "    \"I-Dish\": 13,\n",
    "    \"B-Cuisine\": 14,\n",
    "    \"I-Price\": 15,\n",
    "    \"I-Cuisine\": 16,\n",
    "    START_TAG: 17,\n",
    "    STOP_TAG: 18\n",
    "}\n"
   ]
  },
  {
   "cell_type": "markdown",
   "metadata": {},
   "source": [
    "And we can construct the vocabulary and word_to_index dictionary as shown below:"
   ]
  },
  {
   "cell_type": "code",
   "execution_count": 26,
   "metadata": {},
   "outputs": [
    {
     "name": "stdout",
     "output_type": "stream",
     "text": [
      "4166 4166\n"
     ]
    }
   ],
   "source": [
    "vocab = set()\n",
    "for split in dataset.values():\n",
    "    for instance in split:\n",
    "        vocab.update(instance['tokens'])\n",
    "word_to_ix = {word: ix for ix, word in enumerate(vocab)}\n",
    "print(len(vocab), len(word_to_ix))"
   ]
  },
  {
   "cell_type": "markdown",
   "metadata": {},
   "source": [
    "**Problem 3.2** (8 points) Using the BaseCRF class provided during the Week 7 lab (code given below), construct and train an LSTM-CRF tagger and report the **recall** for each type of tag on the validation set. It is recommended to use the following configuration for your model. It is acceptable to use sklearn's implementation of the recall function.\n",
    "\n",
    "* Embedding size: 20\n",
    "* LSTM hidden size: 10 \n",
    "* Optimizer: Adam, Learning Rate 0.01, Weight Decay 1e-4\n",
    "* Number of epochs: 1\n",
    "\n",
    "**For speed, limit training to the to the first 1000 instances from the training data.** No additional bonus is provided for using all data. Training may take approx 5-10 minutes. If it takes significantly longer, please check your implementation. It is acceptable to use fewer data if training takes too long.\n",
    "\n",
    "Hints: \n",
    "* the recall for special start/stop tokens may be `NaN` values - remove these.  \n",
    "* the recall for some tags may be zero, this is acceptable as we are not using all data"
   ]
  },
  {
   "cell_type": "code",
   "execution_count": 27,
   "metadata": {},
   "outputs": [],
   "source": [
    "from torch import nn\n",
    "import torch \n",
    "import math\n",
    "\n",
    "class AI605ConditionalRandomField(nn.Module):\n",
    "\n",
    "    def __init__(self, word_to_ix, tag_to_ix,emb_size,lstm_size):\n",
    "        super(AI605ConditionalRandomField, self).__init__()\n",
    "        self.word_to_ix = word_to_ix\n",
    "        self.tag_to_ix = tag_to_ix\n",
    "        self.vocab_size = len(word_to_ix)\n",
    "        self.tagset_size = len(tag_to_ix)\n",
    "        self.emb_size = emb_size\n",
    "        self.lstm_size = lstm_size\n",
    "        self.word_embeds = nn.Parameter(torch.randn(self.vocab_size, self.tagset_size))\n",
    "        \n",
    "        # Matrix of transition parameters.  Entry i,j is the score of\n",
    "        # transitioning *to* i *from* j.\n",
    "        self.transitions = nn.Parameter(\n",
    "            torch.randn(self.tagset_size, self.tagset_size))\n",
    "\n",
    "        # These two statements enforce the constraint that we never transfer\n",
    "        # to the start tag and we never transfer from the stop tag\n",
    "        self.transitions.data[tag_to_ix[START_TAG], :] = -10000\n",
    "        self.transitions.data[:, tag_to_ix[STOP_TAG]] = -10000\n",
    "        \n",
    "        # TODO: Add LSTM, Embedding and Classification Layer\n",
    "        self.embedding = torch.nn.Embedding(self.vocab_size,emb_size)\n",
    "        self.lstm = torch.nn.LSTM(emb_size,lstm_size)\n",
    "        self.linear = torch.nn.Linear(lstm_size,self.tagset_size)\n",
    "\n",
    "        ##############\n",
    "        \n",
    "\n",
    "    # Edit this function\n",
    "    def get_features(self, sentence, position):\n",
    "        # TODO: Complete\n",
    "        #\n",
    "        # sentence: list of strings (words)\n",
    "        # position: int\n",
    "        #\n",
    "        # return: a vector (PyTorch Tensor object) (size:  num_tags = len(tag_to_ix))\n",
    "        #\n",
    "        # Step 1: Convert sentence to a tensor using the self.word_to_ix\n",
    "        # Step 2: Encode the sentence tensor using embeddings, LSTM, classification layer\n",
    "        # Step 3: Return the output from the classification layer for token at position \n",
    "        #         defined by the variable `position` \n",
    "        ######################\n",
    "        sentence = torch.LongTensor([torch.tensor([self.word_to_ix[char]], dtype=torch.long) for char in sentence])\n",
    "        \n",
    "        sent_emb = self.embedding(sentence)\n",
    "#         print(sent_emb[0])\n",
    "#         print(sent_emb.shape)\n",
    "        output, (hn, cn) = self.lstm(sent_emb)\n",
    "#         print(output)\n",
    "#         print(output.shape)\n",
    "        sent_targ = self.linear(output[position])\n",
    "#         print(sent_targ)\n",
    "#         print(sent_targ.shape)\n",
    "        return sent_targ# [position] # The pytorch tensor\n",
    "        #######################\n",
    "\n",
    "                \n",
    "    ########\n",
    "    # There is no need to edit the functions below this point. \n",
    "    # But reading this code might help with your implementation \n",
    "    ########\n",
    "    \n",
    "    # PyTorch Neural Network forward algorithm\n",
    "    def forward(self, sentence):  # dont confuse this with _crf_forward_alg above.\n",
    "        \n",
    "        features = []\n",
    "        for position in range(len(sentence)):\n",
    "            feature = self.get_features(sentence, position)\n",
    "            features.append(feature)\n",
    "        features = torch.vstack(features)\n",
    "\n",
    "        # Find the best path, given the features.\n",
    "        score, tag_seq = self._viterbi_decode(features)\n",
    "        return score, torch.stack(tag_seq)\n",
    "    \n",
    "    def _score_sentence(self, sentence, tags):\n",
    "        # Gives the score of a provided tag sequence\n",
    "        score = torch.zeros(1)\n",
    "        tags = torch.cat([torch.tensor([self.tag_to_ix[START_TAG]], dtype=torch.long), tags])\n",
    "        for position in range(len(sentence)):\n",
    "            feat = self.get_features(sentence, position)\n",
    "            \n",
    "            try:\n",
    "                score = score + \\\n",
    "                    self.transitions[tags[position + 1], tags[position]] + feat[tags[position + 1]]\n",
    "            except Exception as e:\n",
    "                print(\"If you are seeing this error, then it is likely that your output of get_features function is not correct shape\")\n",
    "                raise e\n",
    "                \n",
    "        score = score + self.transitions[self.tag_to_ix[STOP_TAG], tags[-1]]\n",
    "        return score\n",
    "\n",
    "    def _viterbi_decode(self, feats):\n",
    "        backpointers = []\n",
    "\n",
    "        # Initialize the viterbi variables in log space\n",
    "        init_vvars = torch.full((1, self.tagset_size), -10000.)\n",
    "        init_vvars[0][self.tag_to_ix[START_TAG]] = 0\n",
    "\n",
    "        # forward_var at step i holds the viterbi variables for step i-1\n",
    "        forward_var = init_vvars\n",
    "        for feat in feats:\n",
    "            bptrs_t = []  # holds the backpointers for this step\n",
    "            viterbivars_t = []  # holds the viterbi variables for this step\n",
    "\n",
    "            for next_tag in range(self.tagset_size):\n",
    "                # next_tag_var[i] holds the viterbi variable for tag i at the\n",
    "                # previous step, plus the score of transitioning\n",
    "                # from tag i to next_tag.\n",
    "                # We don't include the emission scores here because the max\n",
    "                # does not depend on them (we add them in below)\n",
    "                next_tag_var = forward_var + self.transitions[next_tag]\n",
    "                best_tag_id = torch.argmax(next_tag_var)\n",
    "                bptrs_t.append(best_tag_id)\n",
    "                viterbivars_t.append(next_tag_var[0][best_tag_id].view(1))\n",
    "                \n",
    "            # Now add in the emission scores, and assign forward_var to the set\n",
    "            # of viterbi variables we just computed\n",
    "            forward_var = (torch.cat(viterbivars_t) + feat).view(1, -1)\n",
    "            backpointers.append(bptrs_t)\n",
    "\n",
    "        # Transition to STOP_TAG\n",
    "        terminal_var = forward_var + self.transitions[self.tag_to_ix[STOP_TAG]]\n",
    "        best_tag_id = torch.argmax(terminal_var)\n",
    "        path_score = terminal_var[0][best_tag_id]\n",
    "\n",
    "        # Follow the back pointers to decode the best path.\n",
    "        best_path = [best_tag_id]\n",
    "        for bptrs_t in reversed(backpointers):\n",
    "            best_tag_id = bptrs_t[best_tag_id]\n",
    "            best_path.append(best_tag_id)\n",
    "        # Pop off the start tag (we dont want to return that to the caller)\n",
    "        start = best_path.pop()\n",
    "        assert start == self.tag_to_ix[START_TAG]  # Sanity check\n",
    "        best_path.reverse()\n",
    "        return path_score, best_path\n",
    "\n",
    "    \n",
    "    def _crf_forward_alg(self, sentence):\n",
    "        # Do the forward algorithm to compute the partition function\n",
    "        init_alphas = torch.full((1, self.tagset_size), -10000.)\n",
    "        # START_TAG has all of the score.\n",
    "        init_alphas[0][self.tag_to_ix[START_TAG]] = 0.\n",
    "\n",
    "        # Wrap in a variable so that we will get automatic backprop\n",
    "        forward_var = init_alphas\n",
    "\n",
    "        # Iterate through the sentence\n",
    "        for position in range(len(sentence)):\n",
    "            alphas_t = []  # The forward tensors at this timestep\n",
    "            for next_tag in range(self.tagset_size):\n",
    "                # broadcast the emission score: it is the same regardless of\n",
    "                # the previous tag\n",
    "                emit_score = self.get_features(sentence, position)\n",
    "                emit_score = emit_score.view(\n",
    "                    1, -1).expand(1, self.tagset_size)\n",
    "                # the ith entry of trans_score is the score of transitioning to\n",
    "                # next_tag from i\n",
    "                trans_score = self.transitions[next_tag].view(1, -1)\n",
    "                # The ith entry of next_tag_var is the value for the\n",
    "                # edge (i -> next_tag) before we do log-sum-exp\n",
    "                next_tag_var = forward_var + trans_score + emit_score\n",
    "                # The forward variable for this tag is log-sum-exp of all the\n",
    "                # scores.\n",
    "                alphas_t.append(log_sum_exp(next_tag_var).view(1))\n",
    "            forward_var = torch.cat(alphas_t).view(1, -1)\n",
    "        terminal_var = forward_var + self.transitions[self.tag_to_ix[STOP_TAG]]\n",
    "        alpha = log_sum_exp(terminal_var)\n",
    "        return alpha\n",
    "    \n",
    "    def neg_log_likelihood(self, sentence, tags):\n",
    "        forward_score = self._crf_forward_alg(sentence)\n",
    "        gold_score = self._score_sentence(sentence, tags)\n",
    "        return forward_score - gold_score\n",
    "\n",
    "# Compute log sum exp in a numerically stable way for the forward algorithm\n",
    "def log_sum_exp(vec):\n",
    "    max_score = vec[0, torch.argmax(vec)]\n",
    "    max_score_broadcast = max_score.view(1, -1).expand(1, vec.size()[1])\n",
    "    return max_score + torch.log(torch.sum(torch.exp(vec - max_score_broadcast)))\n",
    "\n"
   ]
  },
  {
   "cell_type": "code",
   "execution_count": 28,
   "metadata": {},
   "outputs": [
    {
     "name": "stderr",
     "output_type": "stream",
     "text": [
      "999it [08:56,  1.86it/s]"
     ]
    },
    {
     "name": "stdout",
     "output_type": "stream",
     "text": [
      "[1,  1000] loss: -54.922\n"
     ]
    },
    {
     "name": "stderr",
     "output_type": "stream",
     "text": [
      "\n"
     ]
    }
   ],
   "source": [
    "from tqdm import tqdm\n",
    "from sklearn.metrics import recall_score\n",
    "emb_size = 20 \n",
    "lstm_size = 10 \n",
    "\n",
    "model = AI605ConditionalRandomField(word_to_ix, tag_to_ix,emb_size,lstm_size)\n",
    "optimizer = torch.optim.Adam(model.parameters(), lr=0.01, weight_decay = 1e-4)\n",
    "\n",
    "loss_sum = 0\n",
    "for epoch in range(1):\n",
    "    \n",
    "    for i , data in tqdm(enumerate(dataset['train'])):\n",
    "        tokens = data['tokens']\n",
    "        tags = data['tags']\n",
    "        \n",
    "        optimizer.zero_grad()\n",
    "#         score, tags_pred = model(tokens)\n",
    "\n",
    "        tags = torch.LongTensor(tags)\n",
    "    \n",
    "        loss = model.neg_log_likelihood(tokens, tags)\n",
    "        \n",
    "        loss.backward()\n",
    "        optimizer.step()\n",
    "        \n",
    "        \n",
    "        loss_sum+= loss.item()\n",
    "        \n",
    "        if(i == 999): break\n",
    "    print(f'[{epoch + 1}, {i + 1:5d}] loss: {loss_sum / (i+1):.3f}')\n",
    "\n",
    "#     print(f'Recall: {recall_score(tags,tags_pred, average = \"macro\", zero_division=1)}')\n",
    "        \n",
    "    "
   ]
  },
  {
   "cell_type": "code",
   "execution_count": 29,
   "metadata": {},
   "outputs": [
    {
     "name": "stderr",
     "output_type": "stream",
     "text": [
      "760it [00:11, 69.01it/s] \n"
     ]
    }
   ],
   "source": [
    "# recall on validation set \n",
    "real_tags = []\n",
    "pred_tags = []\n",
    "for i , data in tqdm(enumerate(dataset['validation'])):\n",
    "    tokens = data['tokens']\n",
    "    tags = data['tags']\n",
    "    score, tags_pred = model(tokens)\n",
    "    real_tags = [*real_tags, *tags]\n",
    "    pred_tags = [*pred_tags, *tags_pred]\n",
    "\n",
    "    \n",
    "    "
   ]
  },
  {
   "cell_type": "code",
   "execution_count": 75,
   "metadata": {},
   "outputs": [
    {
     "data": {
      "text/plain": [
       "array([0.88447992, 0.        , 0.        , 0.31849315, 0.31914894,\n",
       "       0.24458874, 0.60147601, 0.09589041, 0.04672897, 0.04      ,\n",
       "       0.        , 0.        , 0.        , 0.        , 0.37459283,\n",
       "       0.        , 0.        ])"
      ]
     },
     "execution_count": 75,
     "metadata": {},
     "output_type": "execute_result"
    }
   ],
   "source": [
    "recall_score(real_tags,pred_tags , average = None)\n",
    "\n"
   ]
  },
  {
   "cell_type": "code",
   "execution_count": 76,
   "metadata": {},
   "outputs": [
    {
     "data": {
      "text/plain": [
       "{'O': 0.8844799248649918,\n",
       " 'B-Rating': 0.0,\n",
       " 'I-Rating': 0.0,\n",
       " 'B-Amenity': 0.3184931506849315,\n",
       " 'I-Amenity': 0.3191489361702128,\n",
       " 'B-Location': 0.24458874458874458,\n",
       " 'I-Location': 0.6014760147601476,\n",
       " 'B-Restaurant_Name': 0.0958904109589041,\n",
       " 'I-Restaurant_Name': 0.04672897196261682,\n",
       " 'B-Price': 0.04,\n",
       " 'B-Hours': 0.0,\n",
       " 'I-Hours': 0.0,\n",
       " 'B-Dish': 0.0,\n",
       " 'I-Dish': 0.0,\n",
       " 'B-Cuisine': 0.3745928338762215,\n",
       " 'I-Price': 0.0,\n",
       " 'I-Cuisine': 0.0}"
      ]
     },
     "execution_count": 76,
     "metadata": {},
     "output_type": "execute_result"
    }
   ],
   "source": [
    "recall_scores = {}\n",
    "for tag_name, tag in tag_to_ix.items():\n",
    "    if(tag ==17): break\n",
    "    #     recall_scores.append(recall_score(tags,tags_pred, average = \"macro\", zero_division=1))\n",
    "    #indices for each type of tag \n",
    "    real_tags = np.array(real_tags)\n",
    "    pred_tags = np.array(pred_tags)\n",
    "    indices = np.where(real_tags==tag)\n",
    "    recall = recall_score(real_tags[indices],pred_tags[indices] , average = \"micro\")\n",
    "#     recall = recall_score(real_tags[indices],pred_tags[indices] ,labels = [real_tags[indices][0]], average = None, zero_division=1)\n",
    "    \n",
    "    recall_scores[tag_name] = recall\n",
    "    \n",
    "    \n",
    "recall_scores # tag name : recall "
   ]
  },
  {
   "cell_type": "markdown",
   "metadata": {},
   "source": [
    "**Problem 3.3** (2 points) Create a copy of of your model and add one additional features to your model:\n",
    "\n",
    "1) The number of characters (the length) of the token\n",
    "\n",
    "Train this model and report the new recall scores. How does this new feature change the model behaviour? \n",
    "\n",
    "Hint: the number of input features for your classifier layer is 11 (LSTM hidden size is 10 + this 1 additional feature)."
   ]
  },
  {
   "cell_type": "code",
   "execution_count": 31,
   "metadata": {},
   "outputs": [],
   "source": [
    "from torch import nn\n",
    "import torch \n",
    "import math\n",
    "\n",
    "class AI605ConditionalRandomField(nn.Module):\n",
    "\n",
    "    def __init__(self, word_to_ix, tag_to_ix,emb_size,lstm_size):\n",
    "        super(AI605ConditionalRandomField, self).__init__()\n",
    "        self.word_to_ix = word_to_ix\n",
    "        self.tag_to_ix = tag_to_ix\n",
    "        self.vocab_size = len(word_to_ix)\n",
    "        self.tagset_size = len(tag_to_ix)\n",
    "        self.emb_size = emb_size\n",
    "        self.lstm_size = lstm_size\n",
    "        self.word_embeds = nn.Parameter(torch.randn(self.vocab_size, self.tagset_size))\n",
    "        \n",
    "        # Matrix of transition parameters.  Entry i,j is the score of\n",
    "        # transitioning *to* i *from* j.\n",
    "        self.transitions = nn.Parameter(\n",
    "            torch.randn(self.tagset_size, self.tagset_size))\n",
    "\n",
    "        # These two statements enforce the constraint that we never transfer\n",
    "        # to the start tag and we never transfer from the stop tag\n",
    "        self.transitions.data[tag_to_ix[START_TAG], :] = -10000\n",
    "        self.transitions.data[:, tag_to_ix[STOP_TAG]] = -10000\n",
    "        \n",
    "        # TODO: Add LSTM, Embedding and Classification Layer\n",
    "        self.embedding = torch.nn.Embedding(self.vocab_size,emb_size)\n",
    "        self.lstm = torch.nn.LSTM(emb_size,lstm_size)\n",
    "        self.linear = torch.nn.Linear(lstm_size + 1,self.tagset_size)\n",
    "\n",
    "        ##############\n",
    "        \n",
    "\n",
    "    # Edit this function\n",
    "    def get_features(self, sentence, position):\n",
    "        # TODO: Complete\n",
    "        #\n",
    "        # sentence: list of strings (words)\n",
    "        # position: int\n",
    "        #\n",
    "        # return: a vector (PyTorch Tensor object) (size:  num_tags = len(tag_to_ix))\n",
    "        #\n",
    "        # Step 1: Convert sentence to a tensor using the self.word_to_ix\n",
    "        # Step 2: Encode the sentence tensor using embeddings, LSTM, classification layer\n",
    "        # Step 3: Return the output from the classification layer for token at position \n",
    "        #         defined by the variable `position` \n",
    "        ######################\n",
    "        sentence = torch.LongTensor([torch.tensor([self.word_to_ix[char]], dtype=torch.long) for char in sentence])\n",
    "        \n",
    "        sent_emb = self.embedding(sentence)\n",
    "\n",
    "        output, (hn, cn) = self.lstm(sent_emb)\n",
    "        \n",
    "        # adding the lenght repeated \n",
    "        x = torch.repeat_interleave(torch.tensor([len(sentence)]), output.shape[0])\n",
    "        \n",
    "        output = torch.hstack((output, x.view(-1,1)))\n",
    "        \n",
    "        sent_targ = self.linear(output)\n",
    "        \n",
    "        return sent_targ[position] # The pytorch tensor\n",
    "        #######################\n",
    "\n",
    "                \n",
    "    ########\n",
    "    # There is no need to edit the functions below this point. \n",
    "    # But reading this code might help with your implementation \n",
    "    ########\n",
    "    \n",
    "    # PyTorch Neural Network forward algorithm\n",
    "    def forward(self, sentence):  # dont confuse this with _crf_forward_alg above.\n",
    "        \n",
    "        features = []\n",
    "        for position in range(len(sentence)):\n",
    "            feature = self.get_features(sentence, position)\n",
    "            features.append(feature)\n",
    "        features = torch.vstack(features)\n",
    "\n",
    "        # Find the best path, given the features.\n",
    "        score, tag_seq = self._viterbi_decode(features)\n",
    "        return score, torch.stack(tag_seq)\n",
    "    \n",
    "    def _score_sentence(self, sentence, tags):\n",
    "        # Gives the score of a provided tag sequence\n",
    "        score = torch.zeros(1)\n",
    "        tags = torch.cat([torch.tensor([self.tag_to_ix[START_TAG]], dtype=torch.long), tags])\n",
    "        for position in range(len(sentence)):\n",
    "            feat = self.get_features(sentence, position)\n",
    "            \n",
    "            try:\n",
    "                score = score + \\\n",
    "                    self.transitions[tags[position + 1], tags[position]] + feat[tags[position + 1]]\n",
    "            except Exception as e:\n",
    "                print(\"If you are seeing this error, then it is likely that your output of get_features function is not correct shape\")\n",
    "                raise e\n",
    "                \n",
    "        score = score + self.transitions[self.tag_to_ix[STOP_TAG], tags[-1]]\n",
    "        return score\n",
    "\n",
    "    def _viterbi_decode(self, feats):\n",
    "        backpointers = []\n",
    "\n",
    "        # Initialize the viterbi variables in log space\n",
    "        init_vvars = torch.full((1, self.tagset_size), -10000.)\n",
    "        init_vvars[0][self.tag_to_ix[START_TAG]] = 0\n",
    "\n",
    "        # forward_var at step i holds the viterbi variables for step i-1\n",
    "        forward_var = init_vvars\n",
    "        for feat in feats:\n",
    "            bptrs_t = []  # holds the backpointers for this step\n",
    "            viterbivars_t = []  # holds the viterbi variables for this step\n",
    "\n",
    "            for next_tag in range(self.tagset_size):\n",
    "                # next_tag_var[i] holds the viterbi variable for tag i at the\n",
    "                # previous step, plus the score of transitioning\n",
    "                # from tag i to next_tag.\n",
    "                # We don't include the emission scores here because the max\n",
    "                # does not depend on them (we add them in below)\n",
    "                next_tag_var = forward_var + self.transitions[next_tag]\n",
    "                best_tag_id = torch.argmax(next_tag_var)\n",
    "                bptrs_t.append(best_tag_id)\n",
    "                viterbivars_t.append(next_tag_var[0][best_tag_id].view(1))\n",
    "                \n",
    "            # Now add in the emission scores, and assign forward_var to the set\n",
    "            # of viterbi variables we just computed\n",
    "            forward_var = (torch.cat(viterbivars_t) + feat).view(1, -1)\n",
    "            backpointers.append(bptrs_t)\n",
    "\n",
    "        # Transition to STOP_TAG\n",
    "        terminal_var = forward_var + self.transitions[self.tag_to_ix[STOP_TAG]]\n",
    "        best_tag_id = torch.argmax(terminal_var)\n",
    "        path_score = terminal_var[0][best_tag_id]\n",
    "\n",
    "        # Follow the back pointers to decode the best path.\n",
    "        best_path = [best_tag_id]\n",
    "        for bptrs_t in reversed(backpointers):\n",
    "            best_tag_id = bptrs_t[best_tag_id]\n",
    "            best_path.append(best_tag_id)\n",
    "        # Pop off the start tag (we dont want to return that to the caller)\n",
    "        start = best_path.pop()\n",
    "        assert start == self.tag_to_ix[START_TAG]  # Sanity check\n",
    "        best_path.reverse()\n",
    "        return path_score, best_path\n",
    "\n",
    "    \n",
    "    def _crf_forward_alg(self, sentence):\n",
    "        # Do the forward algorithm to compute the partition function\n",
    "        init_alphas = torch.full((1, self.tagset_size), -10000.)\n",
    "        # START_TAG has all of the score.\n",
    "        init_alphas[0][self.tag_to_ix[START_TAG]] = 0.\n",
    "\n",
    "        # Wrap in a variable so that we will get automatic backprop\n",
    "        forward_var = init_alphas\n",
    "\n",
    "        # Iterate through the sentence\n",
    "        for position in range(len(sentence)):\n",
    "            alphas_t = []  # The forward tensors at this timestep\n",
    "            for next_tag in range(self.tagset_size):\n",
    "                # broadcast the emission score: it is the same regardless of\n",
    "                # the previous tag\n",
    "                emit_score = self.get_features(sentence, position)\n",
    "                emit_score = emit_score.view(\n",
    "                    1, -1).expand(1, self.tagset_size)\n",
    "                # the ith entry of trans_score is the score of transitioning to\n",
    "                # next_tag from i\n",
    "                trans_score = self.transitions[next_tag].view(1, -1)\n",
    "                # The ith entry of next_tag_var is the value for the\n",
    "                # edge (i -> next_tag) before we do log-sum-exp\n",
    "                next_tag_var = forward_var + trans_score + emit_score\n",
    "                # The forward variable for this tag is log-sum-exp of all the\n",
    "                # scores.\n",
    "                alphas_t.append(log_sum_exp(next_tag_var).view(1))\n",
    "            forward_var = torch.cat(alphas_t).view(1, -1)\n",
    "        terminal_var = forward_var + self.transitions[self.tag_to_ix[STOP_TAG]]\n",
    "        alpha = log_sum_exp(terminal_var)\n",
    "        return alpha\n",
    "    \n",
    "    def neg_log_likelihood(self, sentence, tags):\n",
    "        forward_score = self._crf_forward_alg(sentence)\n",
    "        gold_score = self._score_sentence(sentence, tags)\n",
    "        return forward_score - gold_score\n",
    "\n",
    "# Compute log sum exp in a numerically stable way for the forward algorithm\n",
    "def log_sum_exp(vec):\n",
    "    max_score = vec[0, torch.argmax(vec)]\n",
    "    max_score_broadcast = max_score.view(1, -1).expand(1, vec.size()[1])\n",
    "    return max_score + torch.log(torch.sum(torch.exp(vec - max_score_broadcast)))\n",
    "\n"
   ]
  },
  {
   "cell_type": "code",
   "execution_count": 78,
   "metadata": {},
   "outputs": [
    {
     "name": "stderr",
     "output_type": "stream",
     "text": [
      "999it [11:02,  1.51it/s]"
     ]
    },
    {
     "name": "stdout",
     "output_type": "stream",
     "text": [
      "[1,  1000] loss: -97.854\n"
     ]
    },
    {
     "name": "stderr",
     "output_type": "stream",
     "text": [
      "\n"
     ]
    }
   ],
   "source": [
    "from tqdm import tqdm\n",
    "from sklearn.metrics import recall_score\n",
    "emb_size = 20 \n",
    "lstm_size = 10 \n",
    "\n",
    "model = AI605ConditionalRandomField(word_to_ix, tag_to_ix,emb_size,lstm_size)\n",
    "optimizer = torch.optim.Adam(model.parameters(), lr=0.01, weight_decay = 1e-4)\n",
    "\n",
    "loss_sum = 0\n",
    "for epoch in range(1):\n",
    "    \n",
    "    for i , data in tqdm(enumerate(dataset['train'])):\n",
    "        tokens = data['tokens']\n",
    "        tags = data['tags']\n",
    "        \n",
    "        optimizer.zero_grad()\n",
    "#         score, tags_pred = model(tokens)\n",
    "\n",
    "        tags = torch.LongTensor(tags)\n",
    "    \n",
    "        loss = model.neg_log_likelihood(tokens, tags)\n",
    "        \n",
    "        loss.backward()\n",
    "        optimizer.step()\n",
    "        \n",
    "        \n",
    "        loss_sum+= loss.item()\n",
    "        \n",
    "        if(i == 999): break\n",
    "    print(f'[{epoch + 1}, {i + 1:5d}] loss: {loss_sum / (i+1):.3f}')\n",
    "\n",
    "#     print(f'Recall: {recall_score(tags,tags_pred, average = \"macro\", zero_division=1)}')\n",
    "        \n",
    "    "
   ]
  },
  {
   "cell_type": "code",
   "execution_count": 79,
   "metadata": {},
   "outputs": [
    {
     "name": "stderr",
     "output_type": "stream",
     "text": [
      "760it [00:19, 39.18it/s]\n"
     ]
    },
    {
     "data": {
      "text/plain": [
       "{'O': 0.8678093449166471,\n",
       " 'B-Rating': 0.012048192771084338,\n",
       " 'I-Rating': 0.0,\n",
       " 'B-Amenity': 0.3767123287671233,\n",
       " 'I-Amenity': 0.43465045592705165,\n",
       " 'B-Location': 0.26406926406926406,\n",
       " 'I-Location': 0.3985239852398524,\n",
       " 'B-Restaurant_Name': 0.06164383561643835,\n",
       " 'I-Restaurant_Name': 0.028037383177570093,\n",
       " 'B-Price': 0.2,\n",
       " 'B-Hours': 0.23529411764705882,\n",
       " 'I-Hours': 0.5803108808290155,\n",
       " 'B-Dish': 0.0,\n",
       " 'I-Dish': 0.0,\n",
       " 'B-Cuisine': 0.3778501628664495,\n",
       " 'I-Price': 0.0,\n",
       " 'I-Cuisine': 0.0136986301369863}"
      ]
     },
     "execution_count": 79,
     "metadata": {},
     "output_type": "execute_result"
    }
   ],
   "source": [
    "# recall on validation set \n",
    "real_tags = []\n",
    "pred_tags = []\n",
    "for i , data in tqdm(enumerate(dataset['validation'])):\n",
    "    tokens = data['tokens']\n",
    "    tags = data['tags']\n",
    "    score, tags_pred = model(tokens)\n",
    "    real_tags = [*real_tags, *tags]\n",
    "    pred_tags = [*pred_tags, *tags_pred]\n",
    "\n",
    "recall_scores = {}\n",
    "for tag_name, tag in tag_to_ix.items():\n",
    "    if(tag ==17): break\n",
    "    #     recall_scores.append(recall_score(tags,tags_pred, average = \"macro\", zero_division=1))\n",
    "    #indices for each type of tag \n",
    "    real_tags = np.array(real_tags)\n",
    "    pred_tags = np.array(pred_tags)\n",
    "    indices = np.where(real_tags==tag)\n",
    "    recall = recall_score(real_tags[indices],pred_tags[indices] , average = \"micro\")\n",
    "#     recall = recall_score(real_tags[indices],pred_tags[indices] ,labels = [real_tags[indices][0]], average = None, zero_division=1)\n",
    "    \n",
    "    recall_scores[tag_name] = recall\n",
    "    \n",
    "    \n",
    "recall_scores # tag name : recall \n",
    "    "
   ]
  },
  {
   "attachments": {
    "obraz.png": {
     "image/png": "[encoded data removed]"
    }
   },
   "cell_type": "markdown",
   "metadata": {},
   "source": [
    "![obraz.png](attachment:obraz.png)"
   ]
  },
  {
   "cell_type": "markdown",
   "metadata": {},
   "source": [
    "The model is performing similar then previous model but it's performence is slightly better than first model considering this task. It's better discriminating between tokens overall. The conclusion is not very well backed since the models were trained not on full data. Apart from 3 tokens I-Location, B-restaurants and I-Restaurant we see the significant increase in recall score. \n",
    "\n",
    "Based on the loss of model we could assume that this model should perform better then the first one. "
   ]
  }
 ],
 "metadata": {
  "kernelspec": {
   "display_name": "Python 3",
   "language": "python",
   "name": "python3"
  },
  "language_info": {
   "codemirror_mode": {
    "name": "ipython",
    "version": 3
   },
   "file_extension": ".py",
   "mimetype": "text/x-python",
   "name": "python",
   "nbconvert_exporter": "python",
   "pygments_lexer": "ipython3",
   "version": "3.8.6rc1"
  }
 },
 "nbformat": 4,
 "nbformat_minor": 5
}
