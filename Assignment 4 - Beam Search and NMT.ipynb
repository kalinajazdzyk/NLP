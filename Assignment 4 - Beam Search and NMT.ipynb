{
 "cells": [
  {
   "cell_type": "markdown",
   "id": "de66669d",
   "metadata": {},
   "source": [
    "# KAIST AI605 Assignment 4: Attention, Transformer, NMT, Beam Search\n",
    "\n",
    "## Rubric\n",
    "\n",
    "### Deadline \n",
    "The deadline for this assignment is: Friday 18th November 2022 (Week 12) 11:59pm\n",
    "\n",
    "### Submission\n",
    "Please submit your assignment via [KLMS](https://klms.kaist.ac.kr). You must submit both (1) a PDF of your solutions and (2) the Jupyter Notebook file (.ipynb).\n",
    "\n",
    "Use in-line LaTeX for mathematical expressions. \n",
    "\n",
    "### Collaboration\n",
    "This assignment is not a group assignment so make sure your answer and code are your own. \n",
    "\n",
    "**For Problem 2 of this assignment ONLY** it acceptable to use and copy code from the annotated transformer: http://nlp.seas.harvard.edu/annotated-transformer/\n",
    "\n",
    "### Grading\n",
    "The total number of marks avaiable is 30 points.\n",
    "\n",
    "### Environment\n",
    "The use of a GPU will be beneficial for this assignment.\n",
    "\n",
    "If you do not have a GPU on your laptop, it is acceptable to use [Google Colab (free)](https://colab.research.google.com) or the departmental subscription of [VESSL](https://vessl.ai), \n",
    "**please contact me ASAP to be added if you are from a different department**.\n",
    "\n",
    "\n",
    "The required environment for this is Python 3.9. Run the following cell to set up the environment."
   ]
  },
  {
   "cell_type": "code",
   "execution_count": 1,
   "id": "c8d8ab12",
   "metadata": {},
   "outputs": [],
   "source": [
    "# !pip install torch nltk scipy tqdm datasets"
   ]
  },
  {
   "cell_type": "markdown",
   "id": "849714ef",
   "metadata": {},
   "source": [
    "# Problem 1 - Attention (10 points)"
   ]
  },
  {
   "cell_type": "markdown",
   "id": "fee757d1",
   "metadata": {},
   "source": [
    "## Problem 1.1 (8 points) - Self Attention for Natural Language Inference\n",
    "\n",
    "Recall from Week 3 and 4, recall that Natural Language Inference is a sentence-pair classification task. Using the data from Stanford Natural Language Inference dataset (Bowman et al., 2015), build the following network implementations and compare the accuracy on the development set:\n",
    "\n",
    "* A single LSTM model that encodes both the premise and hypothesis sentence. Then performs a classification using a feed forward network over the final hidden state.\n",
    "\n",
    "Let $\\mathbf{X}$ be the embeddings of the premise tokens concatenated with hypothesis tokens.\n",
    "\n",
    "$$\\mathbf{H}, h_n = LSTM(\\mathbf{X})$$\n",
    "\n",
    "$$P(\\mathbf{y}|X) = Softmax(FF(\\mathbf{h_n}))$$\n",
    "\n",
    "* A single LSTM model that encodes both the premise and hypothesis sentence. Then performs a classification using a feed forward network over a pooling of the hidden states of every token\n",
    "\n",
    "Let $\\mathbf{X}$ be the embeddings of the premise tokens concatenated with hypothesis tokens.\n",
    "\n",
    "$$\\mathbf{H}, h_n = LSTM(\\mathbf{X})$$\n",
    "\n",
    "$$P(\\mathbf{y}|X) = Softmax(Pool(\\mathbf{H}))$$\n",
    "\n",
    "\n",
    "\n",
    "* A single LSTM model that encodes both the premise and hypothesis sentence. Then performs **dot product self attention** over all the tokens. For each token, input the concatenation of the attended representation with the LSTM hidden state into a single-layer feed forward network with ReLU activation. Sum these vectors and input them to another feed forward network classifier.\n",
    "\n",
    "Let $\\mathbf{X}$ be the embeddings of the premise tokens concatenated with hypothesis tokens.\n",
    "\n",
    "$$\\mathbf{H}, \\mathbf{h_n} = LSTM(\\mathbf{x})$$ \n",
    "\n",
    "$$\\alpha_{j} = DotProductAttn_j(\\mathbf{H}, \\mathbf{H})$$\n",
    "\n",
    "Let $\\mathbf{h}_i = \\mathbf{H}_{i,:}$ be the vector of LSTM encoding for token $i$\n",
    "\n",
    "$$\\bar{\\mathbf{a}}_i = \\sum_j \\alpha_{j}\\mathbf{h}_j$$ \n",
    "\n",
    "$$\\mathbf{z}_i = FF(\\lbrack \\mathbf{h}_{i}, \\bar{\\mathbf{a}}_i \\rbrack) $$\n",
    "\n",
    "\n",
    "$$P(\\mathbf{y}|X) = Softmax(FF(\\sum_i\\mathbf{z_i}))$$\n",
    "\n",
    "\n",
    "Instructions:\n",
    "\n",
    "* Chose appropriate network architectures, activation functions, vocab size, word embeddings, training objective, loss function, dimensions and hyperparameters for the model based on examples from previous labs. \n",
    "\n",
    "* The data can be downloaded here: https://nlp.stanford.edu/projects/snli/ - some instances have no label (\"-\"). These can be ignored.\n",
    "\n",
    "* Use of GPU acceleration can allow larger network architectures to be trained with more data. \n",
    "\n",
    "* The goal of this exercise is to demonstrate model properties and show that models converge during training. It is not necessary to try and achieve state of the art performance\n",
    "\n",
    "* It may be challenging to use all data and it is acceptable to use a subset of the SNLI dataset for this question. HOWEVER, it is expected that students use a sufficient size model and sufficient number of data to demonstrate the differences between the models. \n",
    "\n"
   ]
  },
  {
   "cell_type": "code",
   "execution_count": 2,
   "id": "8cce20ba",
   "metadata": {},
   "outputs": [],
   "source": [
    "# pip install collection"
   ]
  },
  {
   "cell_type": "code",
   "execution_count": 80,
   "id": "047c7cb8",
   "metadata": {},
   "outputs": [],
   "source": [
    "import json\n",
    "import torch\n",
    "from torch import nn\n",
    "import json\n",
    "from nltk import word_tokenize\n",
    "from collections import defaultdict, Counter\n",
    "import torch.nn.functional as F\n",
    "import numpy as np"
   ]
  },
  {
   "cell_type": "markdown",
   "id": "f38243b6",
   "metadata": {},
   "source": [
    "Data preparation: "
   ]
  },
  {
   "cell_type": "code",
   "execution_count": 15,
   "id": "79092513",
   "metadata": {},
   "outputs": [],
   "source": [
    "def load_instances(filename):\n",
    "    with open(filename) as f:\n",
    "        for line in f:\n",
    "            inst = json.loads(line)\n",
    "            label = inst[\"gold_label\"]\n",
    "\n",
    "            if label == \"-\":\n",
    "                continue\n",
    "\n",
    "            sent1 = word_tokenize(inst['sentence1'])\n",
    "            sent2 = word_tokenize(inst['sentence2'])\n",
    "\n",
    "            yield (sent1, sent2, label)\n",
    "            \n",
    "train_instances = list(load_instances(\"C:/Users/User/Desktop/NLP/assignment4/snli_1.0/snli_1.0_train.jsonl\"))\n",
    "dev_instances = list(load_instances(\"C:/Users/User/Desktop/NLP/assignment4/snli_1.0/snli_1.0_dev.jsonl\"))"
   ]
  },
  {
   "cell_type": "code",
   "execution_count": 16,
   "id": "69015555",
   "metadata": {},
   "outputs": [],
   "source": [
    "vocab_counter = Counter()\n",
    "labels = set()\n",
    "for s1, s2, label in train_instances:\n",
    "    vocab_counter.update(s1)\n",
    "    vocab_counter.update(s2)\n",
    "    labels.add(label)"
   ]
  },
  {
   "cell_type": "code",
   "execution_count": 17,
   "id": "4463b74a",
   "metadata": {},
   "outputs": [],
   "source": [
    "most_common_vocab = [a[0] for a in vocab_counter.most_common(10000)]\n",
    "most_common_vocab.append(\"<UNK>\")"
   ]
  },
  {
   "cell_type": "code",
   "execution_count": 18,
   "id": "7d7b2d43",
   "metadata": {},
   "outputs": [],
   "source": [
    "vocab2idx = {word: idx for idx, word in enumerate(most_common_vocab)}\n",
    "label2idx = {word: idx for idx, word in enumerate(labels)}"
   ]
  },
  {
   "cell_type": "code",
   "execution_count": 22,
   "id": "e6ca97cf",
   "metadata": {},
   "outputs": [],
   "source": [
    "def vectorize(instance, vocab, labelvocab):\n",
    "    s1 = [vocab.get(tok, vocab.get(\"<UNK>\")) for tok in instance[0]]\n",
    "    s2 = [vocab.get(tok, vocab.get(\"<UNK>\")) for tok in instance[1]]\n",
    "\n",
    "    label = labelvocab.get(instance[2])\n",
    "\n",
    "\n",
    "    return (torch.LongTensor(s1), torch.LongTensor(s2), torch.LongTensor([label]))\n",
    "\n",
    "train_vectors = [vectorize(instance, vocab2idx, label2idx) for instance in train_instances[:10000]]\n",
    "dev_vectors = [vectorize(instance, vocab2idx, label2idx) for instance in dev_instances]"
   ]
  },
  {
   "attachments": {
    "obraz.png": {
     "image/png": "[encoded data removed]"
    }
   },
   "cell_type": "markdown",
   "id": "a47503cd",
   "metadata": {},
   "source": [
    "![obraz.png](attachment:obraz.png)"
   ]
  },
  {
   "cell_type": "code",
   "execution_count": 8,
   "id": "8fddb145",
   "metadata": {},
   "outputs": [],
   "source": [
    "# class LSTM_final_state(nn.Module):\n",
    "#     def __init__(self, vocab_dict, classes_dict, embedding_size, hidden_size):\n",
    "#         super().__init__()\n",
    "        \n",
    "#         self.emb = nn.Embedding(len(vocab_dict), embedding_size)\n",
    "#         self.encoder = nn.LSTM(embedding_size, hidden_size)\n",
    "#         self.linear1 = nn.Linear(2*hidden_size,200)\n",
    "#         self.linear2 = nn.Linear(200,200)\n",
    "#         self.linear3 = nn.Linear(200,200)\n",
    "#         self.classifier = nn.Linear(200, len(classes_dict))\n",
    "#         self.softmax = nn.Softmax(dim=1)\n",
    "        \n",
    "#     def forward(self, premise, hypothesis):    \n",
    "#         # Embeddings\n",
    "#         emb_premise = self.emb(premise)    \n",
    "#         emb_hypothesis = self.emb(hypothesis)\n",
    "        \n",
    "#         # LSTM Encoding\n",
    "#         # Note output format is hidden_states, (h_n, c_n)\n",
    "#         _, (enc_premise,_) = self.encoder(emb_premise)\n",
    "#         _, (enc_hypothesis,_) = self.encoder(emb_hypothesis)\n",
    "        \n",
    "#         # Concatenate (axis=-1 = last axis)\n",
    "#         combined = torch.cat([enc_premise, enc_hypothesis],axis=-1)\n",
    "        \n",
    "#         # Classify\n",
    "#         combined = torch.tanh(self.linear1(combined))\n",
    "#         combined = torch.tanh(self.linear2(combined))\n",
    "#         combined = torch.tanh(self.linear3(combined))\n",
    "        \n",
    "#         logits = self.softmax(self.classifier(combined))\n",
    "#         return logits \n",
    "    \n",
    "        "
   ]
  },
  {
   "cell_type": "code",
   "execution_count": 23,
   "id": "84cdb290",
   "metadata": {},
   "outputs": [],
   "source": [
    "class LSTM_final_state(nn.Module):\n",
    "    def __init__(self, vocab_dict, classes_dict, embedding_size, hidden_size):\n",
    "        super().__init__()\n",
    "        \n",
    "        self.emb = nn.Embedding(len(vocab_dict), embedding_size)\n",
    "        self.encoder = nn.LSTM(embedding_size, hidden_size)\n",
    "        self.linear1 = nn.Linear(hidden_size,200)\n",
    "        self.linear2 = nn.Linear(200,200)\n",
    "        self.linear3 = nn.Linear(200,200)\n",
    "        self.classifier = nn.Linear(200, len(classes_dict))\n",
    "        self.softmax = nn.Softmax(dim=1)\n",
    "        \n",
    "    def forward(self, premise, hypothesis):    \n",
    "        \n",
    "        #Concatenate premise and hypotesis\n",
    "        combined = torch.cat([premise, hypothesis],axis=-1)\n",
    "        # Embeddings\n",
    "        emb_combined = self.emb(combined)    \n",
    "        \n",
    "        # LSTM Encoding\n",
    "        _, (enc_combined,_) = self.encoder(emb_combined)\n",
    "\n",
    "        # Classify\n",
    "        combined = torch.tanh(self.linear1(enc_combined))\n",
    "        combined = torch.tanh(self.linear2(combined))\n",
    "        combined = torch.tanh(self.linear3(combined))\n",
    "        \n",
    "        logits = self.softmax(self.classifier(combined))\n",
    "        return logits \n",
    "    \n",
    "        "
   ]
  },
  {
   "cell_type": "code",
   "execution_count": 24,
   "id": "07478fc7",
   "metadata": {},
   "outputs": [
    {
     "data": {
      "application/vnd.jupyter.widget-view+json": {
       "model_id": "de083f20e1d54c4e9dd5e3afffb8b844",
       "version_major": 2,
       "version_minor": 0
      },
      "text/plain": [
       "  0%|          | 0/10000 [00:00<?, ?it/s]"
      ]
     },
     "metadata": {},
     "output_type": "display_data"
    },
    {
     "data": {
      "application/vnd.jupyter.widget-view+json": {
       "model_id": "e3ae3740bcee4700abd79833c0e770a4",
       "version_major": 2,
       "version_minor": 0
      },
      "text/plain": [
       "  0%|          | 0/9842 [00:00<?, ?it/s]"
      ]
     },
     "metadata": {},
     "output_type": "display_data"
    },
    {
     "name": "stdout",
     "output_type": "stream",
     "text": [
      "Epoch: 1 accuracy: 0.438528754318228\n"
     ]
    },
    {
     "data": {
      "application/vnd.jupyter.widget-view+json": {
       "model_id": "795a720acd754767a91017a37cbfceb2",
       "version_major": 2,
       "version_minor": 0
      },
      "text/plain": [
       "  0%|          | 0/10000 [00:00<?, ?it/s]"
      ]
     },
     "metadata": {},
     "output_type": "display_data"
    },
    {
     "data": {
      "application/vnd.jupyter.widget-view+json": {
       "model_id": "b720c27836d846289fd39232bae251d3",
       "version_major": 2,
       "version_minor": 0
      },
      "text/plain": [
       "  0%|          | 0/9842 [00:00<?, ?it/s]"
      ]
     },
     "metadata": {},
     "output_type": "display_data"
    },
    {
     "name": "stdout",
     "output_type": "stream",
     "text": [
      "Epoch: 2 accuracy: 0.4650477545214387\n"
     ]
    },
    {
     "data": {
      "application/vnd.jupyter.widget-view+json": {
       "model_id": "fc9845560cf84d8b8bd6732f8a6c8491",
       "version_major": 2,
       "version_minor": 0
      },
      "text/plain": [
       "  0%|          | 0/10000 [00:00<?, ?it/s]"
      ]
     },
     "metadata": {},
     "output_type": "display_data"
    },
    {
     "data": {
      "application/vnd.jupyter.widget-view+json": {
       "model_id": "27cde5ff4ba447e0b61b18afec3762b9",
       "version_major": 2,
       "version_minor": 0
      },
      "text/plain": [
       "  0%|          | 0/9842 [00:00<?, ?it/s]"
      ]
     },
     "metadata": {},
     "output_type": "display_data"
    },
    {
     "name": "stdout",
     "output_type": "stream",
     "text": [
      "Epoch: 3 accuracy: 0.48110140215403374\n"
     ]
    },
    {
     "data": {
      "application/vnd.jupyter.widget-view+json": {
       "model_id": "de12a00a0f4d40ac9e02f68160737fce",
       "version_major": 2,
       "version_minor": 0
      },
      "text/plain": [
       "  0%|          | 0/10000 [00:00<?, ?it/s]"
      ]
     },
     "metadata": {},
     "output_type": "display_data"
    },
    {
     "data": {
      "application/vnd.jupyter.widget-view+json": {
       "model_id": "953b97904ce64d0f9fcdfe6a5e4af8af",
       "version_major": 2,
       "version_minor": 0
      },
      "text/plain": [
       "  0%|          | 0/9842 [00:00<?, ?it/s]"
      ]
     },
     "metadata": {},
     "output_type": "display_data"
    },
    {
     "name": "stdout",
     "output_type": "stream",
     "text": [
      "Epoch: 4 accuracy: 0.4897378581589108\n"
     ]
    },
    {
     "data": {
      "application/vnd.jupyter.widget-view+json": {
       "model_id": "07697cc9e8984472bafd3c4801f80f92",
       "version_major": 2,
       "version_minor": 0
      },
      "text/plain": [
       "  0%|          | 0/10000 [00:00<?, ?it/s]"
      ]
     },
     "metadata": {},
     "output_type": "display_data"
    },
    {
     "data": {
      "application/vnd.jupyter.widget-view+json": {
       "model_id": "a16cda252d21494b835794fa878d6646",
       "version_major": 2,
       "version_minor": 0
      },
      "text/plain": [
       "  0%|          | 0/9842 [00:00<?, ?it/s]"
      ]
     },
     "metadata": {},
     "output_type": "display_data"
    },
    {
     "name": "stdout",
     "output_type": "stream",
     "text": [
      "Epoch: 5 accuracy: 0.500406421459053\n"
     ]
    },
    {
     "data": {
      "application/vnd.jupyter.widget-view+json": {
       "model_id": "bafc47ddccbc41e890a10e7b0dca8e22",
       "version_major": 2,
       "version_minor": 0
      },
      "text/plain": [
       "  0%|          | 0/10000 [00:00<?, ?it/s]"
      ]
     },
     "metadata": {},
     "output_type": "display_data"
    },
    {
     "data": {
      "application/vnd.jupyter.widget-view+json": {
       "model_id": "5ff30bbdcf5e453e90722a161169b752",
       "version_major": 2,
       "version_minor": 0
      },
      "text/plain": [
       "  0%|          | 0/9842 [00:00<?, ?it/s]"
      ]
     },
     "metadata": {},
     "output_type": "display_data"
    },
    {
     "name": "stdout",
     "output_type": "stream",
     "text": [
      "Epoch: 6 accuracy: 0.5039626092257671\n"
     ]
    },
    {
     "data": {
      "application/vnd.jupyter.widget-view+json": {
       "model_id": "7cc1810e45ba45899823796e74985ade",
       "version_major": 2,
       "version_minor": 0
      },
      "text/plain": [
       "  0%|          | 0/10000 [00:00<?, ?it/s]"
      ]
     },
     "metadata": {},
     "output_type": "display_data"
    },
    {
     "data": {
      "application/vnd.jupyter.widget-view+json": {
       "model_id": "429f5aec004f44dcb985d762cd9679c4",
       "version_major": 2,
       "version_minor": 0
      },
      "text/plain": [
       "  0%|          | 0/9842 [00:00<?, ?it/s]"
      ]
     },
     "metadata": {},
     "output_type": "display_data"
    },
    {
     "name": "stdout",
     "output_type": "stream",
     "text": [
      "Epoch: 7 accuracy: 0.510160536476326\n"
     ]
    },
    {
     "data": {
      "application/vnd.jupyter.widget-view+json": {
       "model_id": "5f02aa223e87405ea1313e06ec0dc074",
       "version_major": 2,
       "version_minor": 0
      },
      "text/plain": [
       "  0%|          | 0/10000 [00:00<?, ?it/s]"
      ]
     },
     "metadata": {},
     "output_type": "display_data"
    },
    {
     "data": {
      "application/vnd.jupyter.widget-view+json": {
       "model_id": "2812a59a845c42e0be815fab8b80eecd",
       "version_major": 2,
       "version_minor": 0
      },
      "text/plain": [
       "  0%|          | 0/9842 [00:00<?, ?it/s]"
      ]
     },
     "metadata": {},
     "output_type": "display_data"
    },
    {
     "name": "stdout",
     "output_type": "stream",
     "text": [
      "Epoch: 8 accuracy: 0.5083316399105873\n"
     ]
    },
    {
     "data": {
      "application/vnd.jupyter.widget-view+json": {
       "model_id": "c3becf8e26c241dfbd28cc03f2805fa7",
       "version_major": 2,
       "version_minor": 0
      },
      "text/plain": [
       "  0%|          | 0/10000 [00:00<?, ?it/s]"
      ]
     },
     "metadata": {},
     "output_type": "display_data"
    },
    {
     "data": {
      "application/vnd.jupyter.widget-view+json": {
       "model_id": "70caa1e57bf040cca4376c39048de6ae",
       "version_major": 2,
       "version_minor": 0
      },
      "text/plain": [
       "  0%|          | 0/9842 [00:00<?, ?it/s]"
      ]
     },
     "metadata": {},
     "output_type": "display_data"
    },
    {
     "name": "stdout",
     "output_type": "stream",
     "text": [
      "Epoch: 9 accuracy: 0.5224547856126803\n"
     ]
    },
    {
     "data": {
      "application/vnd.jupyter.widget-view+json": {
       "model_id": "7c4e830e2c1145289684d34c8b3cc577",
       "version_major": 2,
       "version_minor": 0
      },
      "text/plain": [
       "  0%|          | 0/10000 [00:00<?, ?it/s]"
      ]
     },
     "metadata": {},
     "output_type": "display_data"
    },
    {
     "data": {
      "application/vnd.jupyter.widget-view+json": {
       "model_id": "43bd86ba15c940699999da9de32e009d",
       "version_major": 2,
       "version_minor": 0
      },
      "text/plain": [
       "  0%|          | 0/9842 [00:00<?, ?it/s]"
      ]
     },
     "metadata": {},
     "output_type": "display_data"
    },
    {
     "name": "stdout",
     "output_type": "stream",
     "text": [
      "Epoch: 10 accuracy: 0.5159520422678318\n"
     ]
    },
    {
     "data": {
      "application/vnd.jupyter.widget-view+json": {
       "model_id": "8ba96922c9b44272bdfdc6c4e0b471ff",
       "version_major": 2,
       "version_minor": 0
      },
      "text/plain": [
       "  0%|          | 0/10000 [00:00<?, ?it/s]"
      ]
     },
     "metadata": {},
     "output_type": "display_data"
    },
    {
     "data": {
      "application/vnd.jupyter.widget-view+json": {
       "model_id": "d265af8b970947bf94fd60da7dad6e17",
       "version_major": 2,
       "version_minor": 0
      },
      "text/plain": [
       "  0%|          | 0/9842 [00:00<?, ?it/s]"
      ]
     },
     "metadata": {},
     "output_type": "display_data"
    },
    {
     "name": "stdout",
     "output_type": "stream",
     "text": [
      "Epoch: 11 accuracy: 0.5032513716724243\n"
     ]
    },
    {
     "data": {
      "application/vnd.jupyter.widget-view+json": {
       "model_id": "ebbb3ff1c3fc44168a09e18d3aab0482",
       "version_major": 2,
       "version_minor": 0
      },
      "text/plain": [
       "  0%|          | 0/10000 [00:00<?, ?it/s]"
      ]
     },
     "metadata": {},
     "output_type": "display_data"
    },
    {
     "data": {
      "application/vnd.jupyter.widget-view+json": {
       "model_id": "36e1da8893ad4a72beefc445b5e5b72f",
       "version_major": 2,
       "version_minor": 0
      },
      "text/plain": [
       "  0%|          | 0/9842 [00:00<?, ?it/s]"
      ]
     },
     "metadata": {},
     "output_type": "display_data"
    },
    {
     "name": "stdout",
     "output_type": "stream",
     "text": [
      "Epoch: 12 accuracy: 0.5170697012802276\n"
     ]
    },
    {
     "data": {
      "application/vnd.jupyter.widget-view+json": {
       "model_id": "9911b4585fcf40248e6513d81840b82a",
       "version_major": 2,
       "version_minor": 0
      },
      "text/plain": [
       "  0%|          | 0/10000 [00:00<?, ?it/s]"
      ]
     },
     "metadata": {},
     "output_type": "display_data"
    },
    {
     "data": {
      "application/vnd.jupyter.widget-view+json": {
       "model_id": "bf9ed1eb9e1a40bc8382a53e0fa5375d",
       "version_major": 2,
       "version_minor": 0
      },
      "text/plain": [
       "  0%|          | 0/9842 [00:00<?, ?it/s]"
      ]
     },
     "metadata": {},
     "output_type": "display_data"
    },
    {
     "name": "stdout",
     "output_type": "stream",
     "text": [
      "Epoch: 13 accuracy: 0.5039626092257671\n"
     ]
    },
    {
     "data": {
      "application/vnd.jupyter.widget-view+json": {
       "model_id": "c8f24c8ab283425caf3562fc9095eabb",
       "version_major": 2,
       "version_minor": 0
      },
      "text/plain": [
       "  0%|          | 0/10000 [00:00<?, ?it/s]"
      ]
     },
     "metadata": {},
     "output_type": "display_data"
    },
    {
     "data": {
      "application/vnd.jupyter.widget-view+json": {
       "model_id": "8096dfce9823425dae95c0253b879867",
       "version_major": 2,
       "version_minor": 0
      },
      "text/plain": [
       "  0%|          | 0/9842 [00:00<?, ?it/s]"
      ]
     },
     "metadata": {},
     "output_type": "display_data"
    },
    {
     "name": "stdout",
     "output_type": "stream",
     "text": [
      "Epoch: 14 accuracy: 0.5176793334688071\n"
     ]
    },
    {
     "data": {
      "application/vnd.jupyter.widget-view+json": {
       "model_id": "0a77bfe55d90467d92464c2311f7cdbf",
       "version_major": 2,
       "version_minor": 0
      },
      "text/plain": [
       "  0%|          | 0/10000 [00:00<?, ?it/s]"
      ]
     },
     "metadata": {},
     "output_type": "display_data"
    },
    {
     "data": {
      "application/vnd.jupyter.widget-view+json": {
       "model_id": "0442233755a547ec99191a1f417fd163",
       "version_major": 2,
       "version_minor": 0
      },
      "text/plain": [
       "  0%|          | 0/9842 [00:00<?, ?it/s]"
      ]
     },
     "metadata": {},
     "output_type": "display_data"
    },
    {
     "name": "stdout",
     "output_type": "stream",
     "text": [
      "Epoch: 15 accuracy: 0.5168664905507011\n"
     ]
    },
    {
     "data": {
      "application/vnd.jupyter.widget-view+json": {
       "model_id": "b078cf23eb13491b87a87bd3b31dbd7b",
       "version_major": 2,
       "version_minor": 0
      },
      "text/plain": [
       "  0%|          | 0/10000 [00:00<?, ?it/s]"
      ]
     },
     "metadata": {},
     "output_type": "display_data"
    },
    {
     "data": {
      "application/vnd.jupyter.widget-view+json": {
       "model_id": "bbc1901a57f4424998677df0a620cbdc",
       "version_major": 2,
       "version_minor": 0
      },
      "text/plain": [
       "  0%|          | 0/9842 [00:00<?, ?it/s]"
      ]
     },
     "metadata": {},
     "output_type": "display_data"
    },
    {
     "name": "stdout",
     "output_type": "stream",
     "text": [
      "Epoch: 16 accuracy: 0.5048770575086364\n"
     ]
    },
    {
     "data": {
      "application/vnd.jupyter.widget-view+json": {
       "model_id": "3f5546d2ce284d4eae6bbc5354fbe718",
       "version_major": 2,
       "version_minor": 0
      },
      "text/plain": [
       "  0%|          | 0/10000 [00:00<?, ?it/s]"
      ]
     },
     "metadata": {},
     "output_type": "display_data"
    },
    {
     "data": {
      "application/vnd.jupyter.widget-view+json": {
       "model_id": "e1c969a4f54948b29dc7401ea1993895",
       "version_major": 2,
       "version_minor": 0
      },
      "text/plain": [
       "  0%|          | 0/9842 [00:00<?, ?it/s]"
      ]
     },
     "metadata": {},
     "output_type": "display_data"
    },
    {
     "name": "stdout",
     "output_type": "stream",
     "text": [
      "Epoch: 17 accuracy: 0.5201178622231254\n"
     ]
    },
    {
     "data": {
      "application/vnd.jupyter.widget-view+json": {
       "model_id": "a86138e5ff2c459d95eb4e429e4d1ff4",
       "version_major": 2,
       "version_minor": 0
      },
      "text/plain": [
       "  0%|          | 0/10000 [00:00<?, ?it/s]"
      ]
     },
     "metadata": {},
     "output_type": "display_data"
    },
    {
     "data": {
      "application/vnd.jupyter.widget-view+json": {
       "model_id": "5d13c92e0cf64ecd8d247a34f7d6814c",
       "version_major": 2,
       "version_minor": 0
      },
      "text/plain": [
       "  0%|          | 0/9842 [00:00<?, ?it/s]"
      ]
     },
     "metadata": {},
     "output_type": "display_data"
    },
    {
     "name": "stdout",
     "output_type": "stream",
     "text": [
      "Epoch: 18 accuracy: 0.513310302783987\n"
     ]
    },
    {
     "data": {
      "application/vnd.jupyter.widget-view+json": {
       "model_id": "a1e731ccf2ae4af8a1464310290f7837",
       "version_major": 2,
       "version_minor": 0
      },
      "text/plain": [
       "  0%|          | 0/10000 [00:00<?, ?it/s]"
      ]
     },
     "metadata": {},
     "output_type": "display_data"
    },
    {
     "data": {
      "application/vnd.jupyter.widget-view+json": {
       "model_id": "5db2475ad4f44e778b641b02d80aef32",
       "version_major": 2,
       "version_minor": 0
      },
      "text/plain": [
       "  0%|          | 0/9842 [00:00<?, ?it/s]"
      ]
     },
     "metadata": {},
     "output_type": "display_data"
    },
    {
     "name": "stdout",
     "output_type": "stream",
     "text": [
      "Epoch: 19 accuracy: 0.4919731761837025\n"
     ]
    },
    {
     "data": {
      "application/vnd.jupyter.widget-view+json": {
       "model_id": "ae69c6a79a3b40cb934dc3d60b35f73d",
       "version_major": 2,
       "version_minor": 0
      },
      "text/plain": [
       "  0%|          | 0/10000 [00:00<?, ?it/s]"
      ]
     },
     "metadata": {},
     "output_type": "display_data"
    },
    {
     "data": {
      "application/vnd.jupyter.widget-view+json": {
       "model_id": "9a5f03bb248f4f7d838d16e41d54ee43",
       "version_major": 2,
       "version_minor": 0
      },
      "text/plain": [
       "  0%|          | 0/9842 [00:00<?, ?it/s]"
      ]
     },
     "metadata": {},
     "output_type": "display_data"
    },
    {
     "name": "stdout",
     "output_type": "stream",
     "text": [
      "Epoch: 20 accuracy: 0.5201178622231254\n"
     ]
    },
    {
     "data": {
      "application/vnd.jupyter.widget-view+json": {
       "model_id": "46c40170df9347e4a55f82f0b5810fb6",
       "version_major": 2,
       "version_minor": 0
      },
      "text/plain": [
       "  0%|          | 0/10000 [00:00<?, ?it/s]"
      ]
     },
     "metadata": {},
     "output_type": "display_data"
    },
    {
     "data": {
      "application/vnd.jupyter.widget-view+json": {
       "model_id": "111bad99e94245a1a4a881b2d4ef7a0b",
       "version_major": 2,
       "version_minor": 0
      },
      "text/plain": [
       "  0%|          | 0/9842 [00:00<?, ?it/s]"
      ]
     },
     "metadata": {},
     "output_type": "display_data"
    },
    {
     "name": "stdout",
     "output_type": "stream",
     "text": [
      "Epoch: 21 accuracy: 0.5171713066449909\n"
     ]
    },
    {
     "data": {
      "application/vnd.jupyter.widget-view+json": {
       "model_id": "c23004ab236f4861a076e1eebb296cad",
       "version_major": 2,
       "version_minor": 0
      },
      "text/plain": [
       "  0%|          | 0/10000 [00:00<?, ?it/s]"
      ]
     },
     "metadata": {},
     "output_type": "display_data"
    },
    {
     "data": {
      "application/vnd.jupyter.widget-view+json": {
       "model_id": "0ae14b6b6fc64d358d7cd024fc91a315",
       "version_major": 2,
       "version_minor": 0
      },
      "text/plain": [
       "  0%|          | 0/9842 [00:00<?, ?it/s]"
      ]
     },
     "metadata": {},
     "output_type": "display_data"
    },
    {
     "name": "stdout",
     "output_type": "stream",
     "text": [
      "Epoch: 22 accuracy: 0.48892501524080473\n"
     ]
    },
    {
     "data": {
      "application/vnd.jupyter.widget-view+json": {
       "model_id": "7a84e67e7ee747d5adaf7ec419ca5cdf",
       "version_major": 2,
       "version_minor": 0
      },
      "text/plain": [
       "  0%|          | 0/10000 [00:00<?, ?it/s]"
      ]
     },
     "metadata": {},
     "output_type": "display_data"
    },
    {
     "data": {
      "application/vnd.jupyter.widget-view+json": {
       "model_id": "b75182a974334221bab9dc597bbc101b",
       "version_major": 2,
       "version_minor": 0
      },
      "text/plain": [
       "  0%|          | 0/9842 [00:00<?, ?it/s]"
      ]
     },
     "metadata": {},
     "output_type": "display_data"
    },
    {
     "name": "stdout",
     "output_type": "stream",
     "text": [
      "Epoch: 23 accuracy: 0.513310302783987\n"
     ]
    },
    {
     "data": {
      "application/vnd.jupyter.widget-view+json": {
       "model_id": "2b991eefa0cc4e71bb510ea1889bb353",
       "version_major": 2,
       "version_minor": 0
      },
      "text/plain": [
       "  0%|          | 0/10000 [00:00<?, ?it/s]"
      ]
     },
     "metadata": {},
     "output_type": "display_data"
    },
    {
     "data": {
      "application/vnd.jupyter.widget-view+json": {
       "model_id": "9dacf9408e81415197f647439a876d69",
       "version_major": 2,
       "version_minor": 0
      },
      "text/plain": [
       "  0%|          | 0/9842 [00:00<?, ?it/s]"
      ]
     },
     "metadata": {},
     "output_type": "display_data"
    },
    {
     "name": "stdout",
     "output_type": "stream",
     "text": [
      "Epoch: 24 accuracy: 0.5117862223125381\n"
     ]
    },
    {
     "data": {
      "application/vnd.jupyter.widget-view+json": {
       "model_id": "c6e53fd4ed174ab5b1878046fe917504",
       "version_major": 2,
       "version_minor": 0
      },
      "text/plain": [
       "  0%|          | 0/10000 [00:00<?, ?it/s]"
      ]
     },
     "metadata": {},
     "output_type": "display_data"
    },
    {
     "data": {
      "application/vnd.jupyter.widget-view+json": {
       "model_id": "d7675d0087914954b27af886664a27e0",
       "version_major": 2,
       "version_minor": 0
      },
      "text/plain": [
       "  0%|          | 0/9842 [00:00<?, ?it/s]"
      ]
     },
     "metadata": {},
     "output_type": "display_data"
    },
    {
     "name": "stdout",
     "output_type": "stream",
     "text": [
      "Epoch: 25 accuracy: 0.5073155862629547\n",
      "The epoch with the highest accuracy is: \n",
      "8\n",
      "[0.438528754318228, 0.4650477545214387, 0.48110140215403374, 0.4897378581589108, 0.500406421459053, 0.5039626092257671, 0.510160536476326, 0.5083316399105873, 0.5224547856126803, 0.5159520422678318, 0.5032513716724243, 0.5170697012802276, 0.5039626092257671, 0.5176793334688071, 0.5168664905507011, 0.5048770575086364, 0.5201178622231254, 0.513310302783987, 0.4919731761837025, 0.5201178622231254, 0.5171713066449909, 0.48892501524080473, 0.513310302783987, 0.5117862223125381, 0.5073155862629547]\n"
     ]
    }
   ],
   "source": [
    "from tqdm.notebook import tqdm as tqdm\n",
    "\n",
    "model = LSTM_final_state(vocab2idx, label2idx, 10, 20) \n",
    "\n",
    "cross_entropy = torch.nn.CrossEntropyLoss()\n",
    "optimizer = torch.optim.Adam(model.parameters(), lr=0.0005)\n",
    "\n",
    "epoch_scores = []\n",
    "\n",
    "for epoch in range(25):\n",
    "    \n",
    "    correct = 0 \n",
    "    total = len(dev_vectors)\n",
    "    \n",
    "    for s1, s2, label in tqdm(train_vectors):\n",
    "        optimizer.zero_grad()\n",
    "        \n",
    "        logits = model(s1,s2)\n",
    "        loss = cross_entropy(logits,label)\n",
    "        loss.backward()\n",
    "        \n",
    "        optimizer.step()\n",
    "        \n",
    "        \n",
    "    # We don't need to compute gradients when we test the model. \n",
    "    # This speeds up inference and helps prevent us from accidently training on the dev set\n",
    "    with torch.no_grad():\n",
    "        for s1, s2, label in tqdm(dev_vectors):\n",
    "            logits = model(s1,s2)\n",
    "            loss = cross_entropy(logits,label)\n",
    "            \n",
    "            # Our y_hat is the logit with the highest score\n",
    "            prediction = torch.argmax(logits,axis=-1)\n",
    "            \n",
    "            # If prediction is same as the label, add to the accuracy\n",
    "            correct += torch.count_nonzero(prediction == label).item()\n",
    "            \n",
    "        \n",
    "    accuracy = correct/total\n",
    "    epoch_scores.append(accuracy)\n",
    "    print(f'Epoch: {epoch+1} accuracy: {accuracy}')\n",
    "    \n",
    "\n",
    "print(\"The epoch with the highest accuracy is: \")\n",
    "print(torch.argmax(torch.tensor(epoch_scores)+1).item())\n",
    "print(epoch_scores)\n",
    "        "
   ]
  },
  {
   "attachments": {
    "obraz.png": {
     "image/png": "[encoded data removed]"
    }
   },
   "cell_type": "markdown",
   "id": "d1962dbb",
   "metadata": {},
   "source": [
    "![obraz.png](attachment:obraz.png)"
   ]
  },
  {
   "cell_type": "code",
   "execution_count": 25,
   "id": "6a2c738a",
   "metadata": {},
   "outputs": [],
   "source": [
    "class LSTM_polling(nn.Module):\n",
    "    def __init__(self, vocab_dict, classes_dict, embedding_size, hidden_size):\n",
    "        super().__init__()\n",
    "        \n",
    "        self.emb = nn.Embedding(len(vocab_dict), embedding_size)\n",
    "        self.encoder = nn.LSTM(embedding_size, hidden_size)\n",
    "        self.linear1 = nn.Linear(hidden_size,200)\n",
    "        self.linear2 = nn.Linear(200,200)\n",
    "        self.linear3 = nn.Linear(200,200)\n",
    "        self.classifier = nn.Linear(200, len(classes_dict))\n",
    "        self.softmax = nn.Softmax(dim=1)\n",
    "        \n",
    "    def forward(self, premise, hypothesis):    \n",
    "        #Concatenate premise and hypotesis\n",
    "        combined = torch.cat([premise, hypothesis],axis=-1)\n",
    "        # Embeddings\n",
    "        emb_combined = self.emb(combined)    \n",
    "        \n",
    "        # LSTM Encoding\n",
    "        h_states, (_,_) = self.encoder(emb_combined)\n",
    "\n",
    "#         print(h_states.shape)\n",
    "        polling = nn.MaxPool1d(h_states.shape[0], stride = 1)\n",
    "        enc_comb = polling(torch.transpose(h_states, 0, 1))\n",
    "#         print(enc_comb.shape)\n",
    "        \n",
    "        # Classify\n",
    "        combined = torch.tanh(self.linear1(torch.transpose(enc_comb, 0, 1)))\n",
    "        \n",
    "        combined = torch.tanh(self.linear2(combined))\n",
    "        combined = torch.tanh(self.linear3(combined))\n",
    "        \n",
    "               \n",
    "        \n",
    "        logits = self.softmax(self.classifier(combined))\n",
    "#         print(logits.shape)\n",
    "        return logits \n",
    "    \n",
    "        "
   ]
  },
  {
   "cell_type": "code",
   "execution_count": 26,
   "id": "f1022029",
   "metadata": {},
   "outputs": [
    {
     "data": {
      "application/vnd.jupyter.widget-view+json": {
       "model_id": "51d83616d54a414db9c57b8506e18e5d",
       "version_major": 2,
       "version_minor": 0
      },
      "text/plain": [
       "  0%|          | 0/10000 [00:00<?, ?it/s]"
      ]
     },
     "metadata": {},
     "output_type": "display_data"
    },
    {
     "data": {
      "application/vnd.jupyter.widget-view+json": {
       "model_id": "0cb2c6af433048f6b407755d5614d13e",
       "version_major": 2,
       "version_minor": 0
      },
      "text/plain": [
       "  0%|          | 0/9842 [00:00<?, ?it/s]"
      ]
     },
     "metadata": {},
     "output_type": "display_data"
    },
    {
     "name": "stdout",
     "output_type": "stream",
     "text": [
      "Epoch: 1 accuracy: 0.42806340174761226\n"
     ]
    },
    {
     "data": {
      "application/vnd.jupyter.widget-view+json": {
       "model_id": "91e2468daddc464b96739040c90a2c66",
       "version_major": 2,
       "version_minor": 0
      },
      "text/plain": [
       "  0%|          | 0/10000 [00:00<?, ?it/s]"
      ]
     },
     "metadata": {},
     "output_type": "display_data"
    },
    {
     "data": {
      "application/vnd.jupyter.widget-view+json": {
       "model_id": "2bf5552a3e8042209554dcbb7cd01c6e",
       "version_major": 2,
       "version_minor": 0
      },
      "text/plain": [
       "  0%|          | 0/9842 [00:00<?, ?it/s]"
      ]
     },
     "metadata": {},
     "output_type": "display_data"
    },
    {
     "name": "stdout",
     "output_type": "stream",
     "text": [
      "Epoch: 2 accuracy: 0.45397276976224343\n"
     ]
    },
    {
     "data": {
      "application/vnd.jupyter.widget-view+json": {
       "model_id": "09f955a192c448a6960e79143f97c84c",
       "version_major": 2,
       "version_minor": 0
      },
      "text/plain": [
       "  0%|          | 0/10000 [00:00<?, ?it/s]"
      ]
     },
     "metadata": {},
     "output_type": "display_data"
    },
    {
     "data": {
      "application/vnd.jupyter.widget-view+json": {
       "model_id": "4742c13262324da796081761445ee327",
       "version_major": 2,
       "version_minor": 0
      },
      "text/plain": [
       "  0%|          | 0/9842 [00:00<?, ?it/s]"
      ]
     },
     "metadata": {},
     "output_type": "display_data"
    },
    {
     "name": "stdout",
     "output_type": "stream",
     "text": [
      "Epoch: 3 accuracy: 0.45895143263564314\n"
     ]
    },
    {
     "data": {
      "application/vnd.jupyter.widget-view+json": {
       "model_id": "58b8a326f40c4843bc02bc8196c2bc2a",
       "version_major": 2,
       "version_minor": 0
      },
      "text/plain": [
       "  0%|          | 0/10000 [00:00<?, ?it/s]"
      ]
     },
     "metadata": {},
     "output_type": "display_data"
    },
    {
     "data": {
      "application/vnd.jupyter.widget-view+json": {
       "model_id": "87ebb4b9d53744f7a313846cf68439ac",
       "version_major": 2,
       "version_minor": 0
      },
      "text/plain": [
       "  0%|          | 0/9842 [00:00<?, ?it/s]"
      ]
     },
     "metadata": {},
     "output_type": "display_data"
    },
    {
     "name": "stdout",
     "output_type": "stream",
     "text": [
      "Epoch: 4 accuracy: 0.45295671611461086\n"
     ]
    },
    {
     "data": {
      "application/vnd.jupyter.widget-view+json": {
       "model_id": "22e1a795ea424d64aa47855ea418e86e",
       "version_major": 2,
       "version_minor": 0
      },
      "text/plain": [
       "  0%|          | 0/10000 [00:00<?, ?it/s]"
      ]
     },
     "metadata": {},
     "output_type": "display_data"
    },
    {
     "data": {
      "application/vnd.jupyter.widget-view+json": {
       "model_id": "16c1d70b6ec3466185a7b069ab2ed830",
       "version_major": 2,
       "version_minor": 0
      },
      "text/plain": [
       "  0%|          | 0/9842 [00:00<?, ?it/s]"
      ]
     },
     "metadata": {},
     "output_type": "display_data"
    },
    {
     "name": "stdout",
     "output_type": "stream",
     "text": [
      "Epoch: 5 accuracy: 0.46301564722617355\n"
     ]
    },
    {
     "data": {
      "application/vnd.jupyter.widget-view+json": {
       "model_id": "e22ceeaa2ef24390a583b1bc0ad298b5",
       "version_major": 2,
       "version_minor": 0
      },
      "text/plain": [
       "  0%|          | 0/10000 [00:00<?, ?it/s]"
      ]
     },
     "metadata": {},
     "output_type": "display_data"
    },
    {
     "data": {
      "application/vnd.jupyter.widget-view+json": {
       "model_id": "ba8c03ba46744d639b1f309a9e8955e6",
       "version_major": 2,
       "version_minor": 0
      },
      "text/plain": [
       "  0%|          | 0/9842 [00:00<?, ?it/s]"
      ]
     },
     "metadata": {},
     "output_type": "display_data"
    },
    {
     "name": "stdout",
     "output_type": "stream",
     "text": [
      "Epoch: 6 accuracy: 0.4670798618167039\n"
     ]
    },
    {
     "data": {
      "application/vnd.jupyter.widget-view+json": {
       "model_id": "5b675dc0cb4746cf99c201175521e54f",
       "version_major": 2,
       "version_minor": 0
      },
      "text/plain": [
       "  0%|          | 0/10000 [00:00<?, ?it/s]"
      ]
     },
     "metadata": {},
     "output_type": "display_data"
    },
    {
     "data": {
      "application/vnd.jupyter.widget-view+json": {
       "model_id": "5102719561404b358191cb68bb72bc7d",
       "version_major": 2,
       "version_minor": 0
      },
      "text/plain": [
       "  0%|          | 0/9842 [00:00<?, ?it/s]"
      ]
     },
     "metadata": {},
     "output_type": "display_data"
    },
    {
     "name": "stdout",
     "output_type": "stream",
     "text": [
      "Epoch: 7 accuracy: 0.4769355821987401\n"
     ]
    },
    {
     "data": {
      "application/vnd.jupyter.widget-view+json": {
       "model_id": "073a760833e54e97ac4104c9bf782200",
       "version_major": 2,
       "version_minor": 0
      },
      "text/plain": [
       "  0%|          | 0/10000 [00:00<?, ?it/s]"
      ]
     },
     "metadata": {},
     "output_type": "display_data"
    },
    {
     "data": {
      "application/vnd.jupyter.widget-view+json": {
       "model_id": "fea200a38731475fb5f24884da0fba85",
       "version_major": 2,
       "version_minor": 0
      },
      "text/plain": [
       "  0%|          | 0/9842 [00:00<?, ?it/s]"
      ]
     },
     "metadata": {},
     "output_type": "display_data"
    },
    {
     "name": "stdout",
     "output_type": "stream",
     "text": [
      "Epoch: 8 accuracy: 0.4798821377768746\n"
     ]
    },
    {
     "data": {
      "application/vnd.jupyter.widget-view+json": {
       "model_id": "21a5998d74484989820dd1cc630275bd",
       "version_major": 2,
       "version_minor": 0
      },
      "text/plain": [
       "  0%|          | 0/10000 [00:00<?, ?it/s]"
      ]
     },
     "metadata": {},
     "output_type": "display_data"
    },
    {
     "data": {
      "application/vnd.jupyter.widget-view+json": {
       "model_id": "37c514cb2574485789b09b7178224d43",
       "version_major": 2,
       "version_minor": 0
      },
      "text/plain": [
       "  0%|          | 0/9842 [00:00<?, ?it/s]"
      ]
     },
     "metadata": {},
     "output_type": "display_data"
    },
    {
     "name": "stdout",
     "output_type": "stream",
     "text": [
      "Epoch: 9 accuracy: 0.4799837431416379\n"
     ]
    },
    {
     "data": {
      "application/vnd.jupyter.widget-view+json": {
       "model_id": "ddfc0af274b640c68e60bbdc041d9caf",
       "version_major": 2,
       "version_minor": 0
      },
      "text/plain": [
       "  0%|          | 0/10000 [00:00<?, ?it/s]"
      ]
     },
     "metadata": {},
     "output_type": "display_data"
    },
    {
     "data": {
      "application/vnd.jupyter.widget-view+json": {
       "model_id": "0ebf5fa8bf7446239cb127adf43aae59",
       "version_major": 2,
       "version_minor": 0
      },
      "text/plain": [
       "  0%|          | 0/9842 [00:00<?, ?it/s]"
      ]
     },
     "metadata": {},
     "output_type": "display_data"
    },
    {
     "name": "stdout",
     "output_type": "stream",
     "text": [
      "Epoch: 10 accuracy: 0.4842511684616948\n"
     ]
    },
    {
     "data": {
      "application/vnd.jupyter.widget-view+json": {
       "model_id": "404a67d1a33f4a46b9cb5b287d02246c",
       "version_major": 2,
       "version_minor": 0
      },
      "text/plain": [
       "  0%|          | 0/10000 [00:00<?, ?it/s]"
      ]
     },
     "metadata": {},
     "output_type": "display_data"
    },
    {
     "data": {
      "application/vnd.jupyter.widget-view+json": {
       "model_id": "8712655112f747ea952a69585e8b51e3",
       "version_major": 2,
       "version_minor": 0
      },
      "text/plain": [
       "  0%|          | 0/9842 [00:00<?, ?it/s]"
      ]
     },
     "metadata": {},
     "output_type": "display_data"
    },
    {
     "name": "stdout",
     "output_type": "stream",
     "text": [
      "Epoch: 11 accuracy: 0.48160942897785003\n"
     ]
    },
    {
     "data": {
      "application/vnd.jupyter.widget-view+json": {
       "model_id": "e774bbdaab4348bb866f9a9776c3117f",
       "version_major": 2,
       "version_minor": 0
      },
      "text/plain": [
       "  0%|          | 0/10000 [00:00<?, ?it/s]"
      ]
     },
     "metadata": {},
     "output_type": "display_data"
    },
    {
     "data": {
      "application/vnd.jupyter.widget-view+json": {
       "model_id": "4c70b97325dd430396019c7408f727b8",
       "version_major": 2,
       "version_minor": 0
      },
      "text/plain": [
       "  0%|          | 0/9842 [00:00<?, ?it/s]"
      ]
     },
     "metadata": {},
     "output_type": "display_data"
    },
    {
     "name": "stdout",
     "output_type": "stream",
     "text": [
      "Epoch: 12 accuracy: 0.4878073562284089\n"
     ]
    },
    {
     "data": {
      "application/vnd.jupyter.widget-view+json": {
       "model_id": "9a0d71b6bc614cd0bfa134390a9fa7e9",
       "version_major": 2,
       "version_minor": 0
      },
      "text/plain": [
       "  0%|          | 0/10000 [00:00<?, ?it/s]"
      ]
     },
     "metadata": {},
     "output_type": "display_data"
    },
    {
     "data": {
      "application/vnd.jupyter.widget-view+json": {
       "model_id": "90b022005b88401884b3cddd7c5fddd2",
       "version_major": 2,
       "version_minor": 0
      },
      "text/plain": [
       "  0%|          | 0/9842 [00:00<?, ?it/s]"
      ]
     },
     "metadata": {},
     "output_type": "display_data"
    },
    {
     "name": "stdout",
     "output_type": "stream",
     "text": [
      "Epoch: 13 accuracy: 0.4931924405608616\n"
     ]
    },
    {
     "data": {
      "application/vnd.jupyter.widget-view+json": {
       "model_id": "6a5e514afcbb49eb9c9fabd44ac9aa07",
       "version_major": 2,
       "version_minor": 0
      },
      "text/plain": [
       "  0%|          | 0/10000 [00:00<?, ?it/s]"
      ]
     },
     "metadata": {},
     "output_type": "display_data"
    },
    {
     "data": {
      "application/vnd.jupyter.widget-view+json": {
       "model_id": "773b672c92d6440a93f034a8c5a7ca91",
       "version_major": 2,
       "version_minor": 0
      },
      "text/plain": [
       "  0%|          | 0/9842 [00:00<?, ?it/s]"
      ]
     },
     "metadata": {},
     "output_type": "display_data"
    },
    {
     "name": "stdout",
     "output_type": "stream",
     "text": [
      "Epoch: 14 accuracy: 0.4899410688884373\n"
     ]
    },
    {
     "data": {
      "application/vnd.jupyter.widget-view+json": {
       "model_id": "e3b15cd6f6e649f28c7f07f539ebbc54",
       "version_major": 2,
       "version_minor": 0
      },
      "text/plain": [
       "  0%|          | 0/10000 [00:00<?, ?it/s]"
      ]
     },
     "metadata": {},
     "output_type": "display_data"
    },
    {
     "data": {
      "application/vnd.jupyter.widget-view+json": {
       "model_id": "80c39face0774b9faa0e804b5ddf2e22",
       "version_major": 2,
       "version_minor": 0
      },
      "text/plain": [
       "  0%|          | 0/9842 [00:00<?, ?it/s]"
      ]
     },
     "metadata": {},
     "output_type": "display_data"
    },
    {
     "name": "stdout",
     "output_type": "stream",
     "text": [
      "Epoch: 15 accuracy: 0.4940052834789677\n"
     ]
    },
    {
     "data": {
      "application/vnd.jupyter.widget-view+json": {
       "model_id": "e3f6391588564773ab59dd89bbfab512",
       "version_major": 2,
       "version_minor": 0
      },
      "text/plain": [
       "  0%|          | 0/10000 [00:00<?, ?it/s]"
      ]
     },
     "metadata": {},
     "output_type": "display_data"
    },
    {
     "data": {
      "application/vnd.jupyter.widget-view+json": {
       "model_id": "e01852ac79ac49479d0038a7c10ce4df",
       "version_major": 2,
       "version_minor": 0
      },
      "text/plain": [
       "  0%|          | 0/9842 [00:00<?, ?it/s]"
      ]
     },
     "metadata": {},
     "output_type": "display_data"
    },
    {
     "name": "stdout",
     "output_type": "stream",
     "text": [
      "Epoch: 16 accuracy: 0.4979678927047348\n"
     ]
    },
    {
     "data": {
      "application/vnd.jupyter.widget-view+json": {
       "model_id": "566f2d4ae55a48bb988acf704188eafb",
       "version_major": 2,
       "version_minor": 0
      },
      "text/plain": [
       "  0%|          | 0/10000 [00:00<?, ?it/s]"
      ]
     },
     "metadata": {},
     "output_type": "display_data"
    },
    {
     "data": {
      "application/vnd.jupyter.widget-view+json": {
       "model_id": "2a011c1d9d7f4b9d8e43bf0a45b34f29",
       "version_major": 2,
       "version_minor": 0
      },
      "text/plain": [
       "  0%|          | 0/9842 [00:00<?, ?it/s]"
      ]
     },
     "metadata": {},
     "output_type": "display_data"
    },
    {
     "name": "stdout",
     "output_type": "stream",
     "text": [
      "Epoch: 17 accuracy: 0.5006096321885796\n"
     ]
    },
    {
     "data": {
      "application/vnd.jupyter.widget-view+json": {
       "model_id": "79cccd2c030841c0a97c4fff4bfe3aec",
       "version_major": 2,
       "version_minor": 0
      },
      "text/plain": [
       "  0%|          | 0/10000 [00:00<?, ?it/s]"
      ]
     },
     "metadata": {},
     "output_type": "display_data"
    },
    {
     "data": {
      "application/vnd.jupyter.widget-view+json": {
       "model_id": "289339c8fa094e2aa56275d35e82b214",
       "version_major": 2,
       "version_minor": 0
      },
      "text/plain": [
       "  0%|          | 0/9842 [00:00<?, ?it/s]"
      ]
     },
     "metadata": {},
     "output_type": "display_data"
    },
    {
     "name": "stdout",
     "output_type": "stream",
     "text": [
      "Epoch: 18 accuracy: 0.5034545824019508\n"
     ]
    },
    {
     "data": {
      "application/vnd.jupyter.widget-view+json": {
       "model_id": "a4ac49b8a39e4170ac039a347e37739c",
       "version_major": 2,
       "version_minor": 0
      },
      "text/plain": [
       "  0%|          | 0/10000 [00:00<?, ?it/s]"
      ]
     },
     "metadata": {},
     "output_type": "display_data"
    },
    {
     "data": {
      "application/vnd.jupyter.widget-view+json": {
       "model_id": "2610d2410a164708afb79fd51913c5e3",
       "version_major": 2,
       "version_minor": 0
      },
      "text/plain": [
       "  0%|          | 0/9842 [00:00<?, ?it/s]"
      ]
     },
     "metadata": {},
     "output_type": "display_data"
    },
    {
     "name": "stdout",
     "output_type": "stream",
     "text": [
      "Epoch: 19 accuracy: 0.5\n"
     ]
    },
    {
     "data": {
      "application/vnd.jupyter.widget-view+json": {
       "model_id": "ba108235b7f945d78c8d68ddb4c5041f",
       "version_major": 2,
       "version_minor": 0
      },
      "text/plain": [
       "  0%|          | 0/10000 [00:00<?, ?it/s]"
      ]
     },
     "metadata": {},
     "output_type": "display_data"
    },
    {
     "data": {
      "application/vnd.jupyter.widget-view+json": {
       "model_id": "22c1821bfef5405eb61d2eb5e3e5321d",
       "version_major": 2,
       "version_minor": 0
      },
      "text/plain": [
       "  0%|          | 0/9842 [00:00<?, ?it/s]"
      ]
     },
     "metadata": {},
     "output_type": "display_data"
    },
    {
     "name": "stdout",
     "output_type": "stream",
     "text": [
      "Epoch: 20 accuracy: 0.5025401341190815\n"
     ]
    },
    {
     "data": {
      "application/vnd.jupyter.widget-view+json": {
       "model_id": "ea64d59d0d844d1cbbe4c889f3c0d866",
       "version_major": 2,
       "version_minor": 0
      },
      "text/plain": [
       "  0%|          | 0/10000 [00:00<?, ?it/s]"
      ]
     },
     "metadata": {},
     "output_type": "display_data"
    },
    {
     "data": {
      "application/vnd.jupyter.widget-view+json": {
       "model_id": "f8da34e518e34bc58e76daa91ab14bc6",
       "version_major": 2,
       "version_minor": 0
      },
      "text/plain": [
       "  0%|          | 0/9842 [00:00<?, ?it/s]"
      ]
     },
     "metadata": {},
     "output_type": "display_data"
    },
    {
     "name": "stdout",
     "output_type": "stream",
     "text": [
      "Epoch: 21 accuracy: 0.5005080268238163\n"
     ]
    },
    {
     "data": {
      "application/vnd.jupyter.widget-view+json": {
       "model_id": "ed7f16061e984f139e88ec27bbcd5df0",
       "version_major": 2,
       "version_minor": 0
      },
      "text/plain": [
       "  0%|          | 0/10000 [00:00<?, ?it/s]"
      ]
     },
     "metadata": {},
     "output_type": "display_data"
    },
    {
     "data": {
      "application/vnd.jupyter.widget-view+json": {
       "model_id": "1fdcb9666c29478ab1cf76055adc8c24",
       "version_major": 2,
       "version_minor": 0
      },
      "text/plain": [
       "  0%|          | 0/9842 [00:00<?, ?it/s]"
      ]
     },
     "metadata": {},
     "output_type": "display_data"
    },
    {
     "name": "stdout",
     "output_type": "stream",
     "text": [
      "Epoch: 22 accuracy: 0.4974598658809185\n"
     ]
    },
    {
     "data": {
      "application/vnd.jupyter.widget-view+json": {
       "model_id": "140c488c82034552b5c5afcaed1528a2",
       "version_major": 2,
       "version_minor": 0
      },
      "text/plain": [
       "  0%|          | 0/10000 [00:00<?, ?it/s]"
      ]
     },
     "metadata": {},
     "output_type": "display_data"
    },
    {
     "data": {
      "application/vnd.jupyter.widget-view+json": {
       "model_id": "6eca1387fbda49c386d79d6ef4e4d1ef",
       "version_major": 2,
       "version_minor": 0
      },
      "text/plain": [
       "  0%|          | 0/9842 [00:00<?, ?it/s]"
      ]
     },
     "metadata": {},
     "output_type": "display_data"
    },
    {
     "name": "stdout",
     "output_type": "stream",
     "text": [
      "Epoch: 23 accuracy: 0.4868929079455395\n"
     ]
    },
    {
     "data": {
      "application/vnd.jupyter.widget-view+json": {
       "model_id": "e4a59f7b5865487e8eed35d0e4f3d976",
       "version_major": 2,
       "version_minor": 0
      },
      "text/plain": [
       "  0%|          | 0/10000 [00:00<?, ?it/s]"
      ]
     },
     "metadata": {},
     "output_type": "display_data"
    },
    {
     "data": {
      "application/vnd.jupyter.widget-view+json": {
       "model_id": "696a2237c3f247ab90680f6526a75501",
       "version_major": 2,
       "version_minor": 0
      },
      "text/plain": [
       "  0%|          | 0/9842 [00:00<?, ?it/s]"
      ]
     },
     "metadata": {},
     "output_type": "display_data"
    },
    {
     "name": "stdout",
     "output_type": "stream",
     "text": [
      "Epoch: 24 accuracy: 0.48882340987604145\n"
     ]
    },
    {
     "data": {
      "application/vnd.jupyter.widget-view+json": {
       "model_id": "dd5a11607d994ddc8d73db5faa48bd21",
       "version_major": 2,
       "version_minor": 0
      },
      "text/plain": [
       "  0%|          | 0/10000 [00:00<?, ?it/s]"
      ]
     },
     "metadata": {},
     "output_type": "display_data"
    },
    {
     "data": {
      "application/vnd.jupyter.widget-view+json": {
       "model_id": "c70ed4eb648e494bbb104f0b3118fbd6",
       "version_major": 2,
       "version_minor": 0
      },
      "text/plain": [
       "  0%|          | 0/9842 [00:00<?, ?it/s]"
      ]
     },
     "metadata": {},
     "output_type": "display_data"
    },
    {
     "name": "stdout",
     "output_type": "stream",
     "text": [
      "Epoch: 25 accuracy: 0.5048770575086364\n",
      "The epoch with the highest accuracy is: \n",
      "24\n",
      "[0.42806340174761226, 0.45397276976224343, 0.45895143263564314, 0.45295671611461086, 0.46301564722617355, 0.4670798618167039, 0.4769355821987401, 0.4798821377768746, 0.4799837431416379, 0.4842511684616948, 0.48160942897785003, 0.4878073562284089, 0.4931924405608616, 0.4899410688884373, 0.4940052834789677, 0.4979678927047348, 0.5006096321885796, 0.5034545824019508, 0.5, 0.5025401341190815, 0.5005080268238163, 0.4974598658809185, 0.4868929079455395, 0.48882340987604145, 0.5048770575086364]\n"
     ]
    }
   ],
   "source": [
    "from tqdm.notebook import tqdm as tqdm\n",
    "\n",
    "model = LSTM_polling(vocab2idx, label2idx, 10, 20) \n",
    "\n",
    "cross_entropy = torch.nn.CrossEntropyLoss()\n",
    "optimizer = torch.optim.Adam(model.parameters(), lr=0.0005)\n",
    "\n",
    "epoch_scores = []\n",
    "\n",
    "for epoch in range(25):\n",
    "    \n",
    "    correct = 0 \n",
    "    total = len(dev_vectors)\n",
    "    \n",
    "    model.train()\n",
    "    for s1, s2, label in tqdm(train_vectors):\n",
    "        optimizer.zero_grad()\n",
    "        \n",
    "        logits = model(s1,s2)\n",
    "        loss = cross_entropy(logits,label)\n",
    "        loss.backward()\n",
    "        \n",
    "        optimizer.step()\n",
    "        \n",
    "        \n",
    "    # We don't need to compute gradients when we test the model. \n",
    "    # This speeds up inference and helps prevent us from accidently training on the dev set\n",
    "    model.eval()\n",
    "    with torch.no_grad():\n",
    "        for s1, s2, label in tqdm(dev_vectors):\n",
    "            logits = model(s1,s2)\n",
    "            loss = cross_entropy(logits,label)\n",
    "            \n",
    "            # Our y_hat is the logit with the highest score\n",
    "            prediction = torch.argmax(logits,axis=-1)\n",
    "            \n",
    "            # If prediction is same as the label, add to the accuracy\n",
    "            correct += torch.count_nonzero(prediction == label).item()\n",
    "            \n",
    "        \n",
    "    accuracy = correct/total\n",
    "    epoch_scores.append(accuracy)\n",
    "    print(f'Epoch: {epoch+1} accuracy: {accuracy}')\n",
    "    \n",
    "\n",
    "print(\"The epoch with the highest accuracy is: \")\n",
    "print(torch.argmax(torch.tensor(epoch_scores)+1).item())\n",
    "print(epoch_scores)\n",
    "        "
   ]
  },
  {
   "attachments": {
    "obraz.png": {
     "image/png": "[encoded data removed]"
    }
   },
   "cell_type": "markdown",
   "id": "e36081cf",
   "metadata": {},
   "source": [
    "![obraz.png](attachment:obraz.png)"
   ]
  },
  {
   "cell_type": "code",
   "execution_count": 27,
   "id": "d4f95f58",
   "metadata": {},
   "outputs": [],
   "source": [
    "class LSTM_dot(nn.Module):\n",
    "    def __init__(self, vocab_dict, classes_dict, embedding_size, hidden_size):\n",
    "        super().__init__()\n",
    "        \n",
    "        self.emb = nn.Embedding(len(vocab_dict), embedding_size)\n",
    "        self.encoder = nn.LSTM(embedding_size, hidden_size)\n",
    "        self.linear1 = nn.Linear(hidden_size+1,200)\n",
    "        self.linear2 = nn.Linear(200,200)\n",
    "        self.linear3 = nn.Linear(200,200)\n",
    "        self.classifier = nn.Linear(200, len(classes_dict))\n",
    "        self.softmax = nn.Softmax(dim=1)\n",
    "        \n",
    "    def forward(self, premise, hypothesis):    \n",
    "        #Concatenate premise and hypotesis\n",
    "        combined = torch.cat([premise, hypothesis],axis=-1)\n",
    "        # Embeddings\n",
    "        emb_combined = self.emb(combined)    \n",
    "        \n",
    "        # LSTM Encoding\n",
    "        H_states, (h_state,_) = self.encoder(emb_combined)\n",
    "#         print(H_states.shape)\n",
    "        # dot product \n",
    "        a = torch.matmul(H_states,H_states.T)\n",
    "#         print(a.shape)\n",
    "        \n",
    "        a = torch.sum(torch.matmul(a,H_states), dim = 1)\n",
    "#         print(a.shape)\n",
    "        z = torch.cat([H_states, a.view(-1,1)],axis=1)\n",
    "        \n",
    "        z = torch.tanh(self.linear1(z))\n",
    "#         print(z.shape)\n",
    "        z_sum = torch.sum(z, dim = 0)\n",
    "#         print(z_sum.shape)\n",
    "        z_sum = torch.tanh(self.linear2(z_sum))\n",
    "        z_sum = torch.tanh(self.linear3(z_sum))\n",
    "               \n",
    "        \n",
    "        logits = self.softmax(self.classifier(z_sum.view(1,-1)))\n",
    "#         print(logits.shape)\n",
    "        return logits \n",
    "    \n",
    "        "
   ]
  },
  {
   "cell_type": "code",
   "execution_count": 28,
   "id": "9dc5c19a",
   "metadata": {},
   "outputs": [
    {
     "data": {
      "application/vnd.jupyter.widget-view+json": {
       "model_id": "9554106fc615440b8a8083502c7326bc",
       "version_major": 2,
       "version_minor": 0
      },
      "text/plain": [
       "  0%|          | 0/10000 [00:00<?, ?it/s]"
      ]
     },
     "metadata": {},
     "output_type": "display_data"
    },
    {
     "data": {
      "application/vnd.jupyter.widget-view+json": {
       "model_id": "cd57b111fefa46a4b8516f37c50365f5",
       "version_major": 2,
       "version_minor": 0
      },
      "text/plain": [
       "  0%|          | 0/9842 [00:00<?, ?it/s]"
      ]
     },
     "metadata": {},
     "output_type": "display_data"
    },
    {
     "name": "stdout",
     "output_type": "stream",
     "text": [
      "Epoch: 1 accuracy: 0.3700467384677911\n"
     ]
    },
    {
     "data": {
      "application/vnd.jupyter.widget-view+json": {
       "model_id": "8e023ccaac1e4b6e92a80209343a84dd",
       "version_major": 2,
       "version_minor": 0
      },
      "text/plain": [
       "  0%|          | 0/10000 [00:00<?, ?it/s]"
      ]
     },
     "metadata": {},
     "output_type": "display_data"
    },
    {
     "data": {
      "application/vnd.jupyter.widget-view+json": {
       "model_id": "a099e84328ce4f41990894b17bc4cb7e",
       "version_major": 2,
       "version_minor": 0
      },
      "text/plain": [
       "  0%|          | 0/9842 [00:00<?, ?it/s]"
      ]
     },
     "metadata": {},
     "output_type": "display_data"
    },
    {
     "name": "stdout",
     "output_type": "stream",
     "text": [
      "Epoch: 2 accuracy: 0.3580573054257265\n"
     ]
    },
    {
     "data": {
      "application/vnd.jupyter.widget-view+json": {
       "model_id": "88642447a6e74b51aad6f7cc25770348",
       "version_major": 2,
       "version_minor": 0
      },
      "text/plain": [
       "  0%|          | 0/10000 [00:00<?, ?it/s]"
      ]
     },
     "metadata": {},
     "output_type": "display_data"
    },
    {
     "data": {
      "application/vnd.jupyter.widget-view+json": {
       "model_id": "b54b9958aff645c785942c74b9e98737",
       "version_major": 2,
       "version_minor": 0
      },
      "text/plain": [
       "  0%|          | 0/9842 [00:00<?, ?it/s]"
      ]
     },
     "metadata": {},
     "output_type": "display_data"
    },
    {
     "name": "stdout",
     "output_type": "stream",
     "text": [
      "Epoch: 3 accuracy: 0.36710018288965657\n"
     ]
    },
    {
     "data": {
      "application/vnd.jupyter.widget-view+json": {
       "model_id": "81ce97ed01d345139ab0b0b3e7d6a0f9",
       "version_major": 2,
       "version_minor": 0
      },
      "text/plain": [
       "  0%|          | 0/10000 [00:00<?, ?it/s]"
      ]
     },
     "metadata": {},
     "output_type": "display_data"
    },
    {
     "data": {
      "application/vnd.jupyter.widget-view+json": {
       "model_id": "13bfd2c1a3d244ed99d256b5a5800c7a",
       "version_major": 2,
       "version_minor": 0
      },
      "text/plain": [
       "  0%|          | 0/9842 [00:00<?, ?it/s]"
      ]
     },
     "metadata": {},
     "output_type": "display_data"
    },
    {
     "name": "stdout",
     "output_type": "stream",
     "text": [
      "Epoch: 4 accuracy: 0.3814265393212762\n"
     ]
    },
    {
     "data": {
      "application/vnd.jupyter.widget-view+json": {
       "model_id": "263da96c452d4afe80848a7fd7ef58e5",
       "version_major": 2,
       "version_minor": 0
      },
      "text/plain": [
       "  0%|          | 0/10000 [00:00<?, ?it/s]"
      ]
     },
     "metadata": {},
     "output_type": "display_data"
    },
    {
     "data": {
      "application/vnd.jupyter.widget-view+json": {
       "model_id": "a5079c8c317045768b54f115f2f63cb7",
       "version_major": 2,
       "version_minor": 0
      },
      "text/plain": [
       "  0%|          | 0/9842 [00:00<?, ?it/s]"
      ]
     },
     "metadata": {},
     "output_type": "display_data"
    },
    {
     "name": "stdout",
     "output_type": "stream",
     "text": [
      "Epoch: 5 accuracy: 0.39250152408047145\n"
     ]
    },
    {
     "data": {
      "application/vnd.jupyter.widget-view+json": {
       "model_id": "3da4e859f92347a3b353e31b1149e0ac",
       "version_major": 2,
       "version_minor": 0
      },
      "text/plain": [
       "  0%|          | 0/10000 [00:00<?, ?it/s]"
      ]
     },
     "metadata": {},
     "output_type": "display_data"
    },
    {
     "data": {
      "application/vnd.jupyter.widget-view+json": {
       "model_id": "6a3cfba897bb4805b1d0082536b9300f",
       "version_major": 2,
       "version_minor": 0
      },
      "text/plain": [
       "  0%|          | 0/9842 [00:00<?, ?it/s]"
      ]
     },
     "metadata": {},
     "output_type": "display_data"
    },
    {
     "name": "stdout",
     "output_type": "stream",
     "text": [
      "Epoch: 6 accuracy: 0.3917902865271286\n"
     ]
    },
    {
     "data": {
      "application/vnd.jupyter.widget-view+json": {
       "model_id": "603fca1b33f5478f84335fe4c8e52a28",
       "version_major": 2,
       "version_minor": 0
      },
      "text/plain": [
       "  0%|          | 0/10000 [00:00<?, ?it/s]"
      ]
     },
     "metadata": {},
     "output_type": "display_data"
    },
    {
     "data": {
      "application/vnd.jupyter.widget-view+json": {
       "model_id": "aed5a215861b4452816c3bd38d6f2745",
       "version_major": 2,
       "version_minor": 0
      },
      "text/plain": [
       "  0%|          | 0/9842 [00:00<?, ?it/s]"
      ]
     },
     "metadata": {},
     "output_type": "display_data"
    },
    {
     "name": "stdout",
     "output_type": "stream",
     "text": [
      "Epoch: 7 accuracy: 0.4057102214996952\n"
     ]
    },
    {
     "data": {
      "application/vnd.jupyter.widget-view+json": {
       "model_id": "ef7774fa5b0f44b18a7cb08780e117c6",
       "version_major": 2,
       "version_minor": 0
      },
      "text/plain": [
       "  0%|          | 0/10000 [00:00<?, ?it/s]"
      ]
     },
     "metadata": {},
     "output_type": "display_data"
    },
    {
     "data": {
      "application/vnd.jupyter.widget-view+json": {
       "model_id": "65e4acbadff84edfb8a97923240d2274",
       "version_major": 2,
       "version_minor": 0
      },
      "text/plain": [
       "  0%|          | 0/9842 [00:00<?, ?it/s]"
      ]
     },
     "metadata": {},
     "output_type": "display_data"
    },
    {
     "name": "stdout",
     "output_type": "stream",
     "text": [
      "Epoch: 8 accuracy: 0.41282259703312335\n"
     ]
    },
    {
     "data": {
      "application/vnd.jupyter.widget-view+json": {
       "model_id": "a8563fd634a840eaab463b2f73aa4e3f",
       "version_major": 2,
       "version_minor": 0
      },
      "text/plain": [
       "  0%|          | 0/10000 [00:00<?, ?it/s]"
      ]
     },
     "metadata": {},
     "output_type": "display_data"
    },
    {
     "data": {
      "application/vnd.jupyter.widget-view+json": {
       "model_id": "0b39a1c429e04aa5b2240fcd87fc12bd",
       "version_major": 2,
       "version_minor": 0
      },
      "text/plain": [
       "  0%|          | 0/9842 [00:00<?, ?it/s]"
      ]
     },
     "metadata": {},
     "output_type": "display_data"
    },
    {
     "name": "stdout",
     "output_type": "stream",
     "text": [
      "Epoch: 9 accuracy: 0.4219670798618167\n"
     ]
    },
    {
     "data": {
      "application/vnd.jupyter.widget-view+json": {
       "model_id": "bab7101a82da42848a7c44d083debc86",
       "version_major": 2,
       "version_minor": 0
      },
      "text/plain": [
       "  0%|          | 0/10000 [00:00<?, ?it/s]"
      ]
     },
     "metadata": {},
     "output_type": "display_data"
    },
    {
     "data": {
      "application/vnd.jupyter.widget-view+json": {
       "model_id": "0488dcc67f834ffba3649b708f090abf",
       "version_major": 2,
       "version_minor": 0
      },
      "text/plain": [
       "  0%|          | 0/9842 [00:00<?, ?it/s]"
      ]
     },
     "metadata": {},
     "output_type": "display_data"
    },
    {
     "name": "stdout",
     "output_type": "stream",
     "text": [
      "Epoch: 10 accuracy: 0.43344848608006503\n"
     ]
    },
    {
     "data": {
      "application/vnd.jupyter.widget-view+json": {
       "model_id": "ba46cf15302442bea5009496ad047b74",
       "version_major": 2,
       "version_minor": 0
      },
      "text/plain": [
       "  0%|          | 0/10000 [00:00<?, ?it/s]"
      ]
     },
     "metadata": {},
     "output_type": "display_data"
    },
    {
     "data": {
      "application/vnd.jupyter.widget-view+json": {
       "model_id": "e63a884aa2ba45d6bb5727a0c2b2266c",
       "version_major": 2,
       "version_minor": 0
      },
      "text/plain": [
       "  0%|          | 0/9842 [00:00<?, ?it/s]"
      ]
     },
     "metadata": {},
     "output_type": "display_data"
    },
    {
     "name": "stdout",
     "output_type": "stream",
     "text": [
      "Epoch: 11 accuracy: 0.4145498882340988\n"
     ]
    },
    {
     "data": {
      "application/vnd.jupyter.widget-view+json": {
       "model_id": "9724de607be4463594396e019b9b943a",
       "version_major": 2,
       "version_minor": 0
      },
      "text/plain": [
       "  0%|          | 0/10000 [00:00<?, ?it/s]"
      ]
     },
     "metadata": {},
     "output_type": "display_data"
    },
    {
     "data": {
      "application/vnd.jupyter.widget-view+json": {
       "model_id": "94191d4edacb479c810be6488501a5be",
       "version_major": 2,
       "version_minor": 0
      },
      "text/plain": [
       "  0%|          | 0/9842 [00:00<?, ?it/s]"
      ]
     },
     "metadata": {},
     "output_type": "display_data"
    },
    {
     "name": "stdout",
     "output_type": "stream",
     "text": [
      "Epoch: 12 accuracy: 0.44360902255639095\n"
     ]
    },
    {
     "data": {
      "application/vnd.jupyter.widget-view+json": {
       "model_id": "7641d6e8be7446c8baac1318a3b57c7a",
       "version_major": 2,
       "version_minor": 0
      },
      "text/plain": [
       "  0%|          | 0/10000 [00:00<?, ?it/s]"
      ]
     },
     "metadata": {},
     "output_type": "display_data"
    },
    {
     "data": {
      "application/vnd.jupyter.widget-view+json": {
       "model_id": "fa1ac20d5a2643c1be87a9580f8ed6af",
       "version_major": 2,
       "version_minor": 0
      },
      "text/plain": [
       "  0%|          | 0/9842 [00:00<?, ?it/s]"
      ]
     },
     "metadata": {},
     "output_type": "display_data"
    },
    {
     "name": "stdout",
     "output_type": "stream",
     "text": [
      "Epoch: 13 accuracy: 0.4472668156878683\n"
     ]
    },
    {
     "data": {
      "application/vnd.jupyter.widget-view+json": {
       "model_id": "a0156864c76442ae908e3e69b9d2ddc4",
       "version_major": 2,
       "version_minor": 0
      },
      "text/plain": [
       "  0%|          | 0/10000 [00:00<?, ?it/s]"
      ]
     },
     "metadata": {},
     "output_type": "display_data"
    },
    {
     "data": {
      "application/vnd.jupyter.widget-view+json": {
       "model_id": "3f883377588f4bdbbb2bb4c044cc0acb",
       "version_major": 2,
       "version_minor": 0
      },
      "text/plain": [
       "  0%|          | 0/9842 [00:00<?, ?it/s]"
      ]
     },
     "metadata": {},
     "output_type": "display_data"
    },
    {
     "name": "stdout",
     "output_type": "stream",
     "text": [
      "Epoch: 14 accuracy: 0.4595610648242227\n"
     ]
    },
    {
     "data": {
      "application/vnd.jupyter.widget-view+json": {
       "model_id": "a33247ad17584f2492faa8e41580647c",
       "version_major": 2,
       "version_minor": 0
      },
      "text/plain": [
       "  0%|          | 0/10000 [00:00<?, ?it/s]"
      ]
     },
     "metadata": {},
     "output_type": "display_data"
    },
    {
     "data": {
      "application/vnd.jupyter.widget-view+json": {
       "model_id": "7a79b9490ae84e41823bb37f775997fd",
       "version_major": 2,
       "version_minor": 0
      },
      "text/plain": [
       "  0%|          | 0/9842 [00:00<?, ?it/s]"
      ]
     },
     "metadata": {},
     "output_type": "display_data"
    },
    {
     "name": "stdout",
     "output_type": "stream",
     "text": [
      "Epoch: 15 accuracy: 0.4669782564519407\n"
     ]
    },
    {
     "data": {
      "application/vnd.jupyter.widget-view+json": {
       "model_id": "e294ae85d1c04b58a01a308c6f98ba74",
       "version_major": 2,
       "version_minor": 0
      },
      "text/plain": [
       "  0%|          | 0/10000 [00:00<?, ?it/s]"
      ]
     },
     "metadata": {},
     "output_type": "display_data"
    },
    {
     "data": {
      "application/vnd.jupyter.widget-view+json": {
       "model_id": "3c0ca8f4bde747efbee21b08dfe071d0",
       "version_major": 2,
       "version_minor": 0
      },
      "text/plain": [
       "  0%|          | 0/9842 [00:00<?, ?it/s]"
      ]
     },
     "metadata": {},
     "output_type": "display_data"
    },
    {
     "name": "stdout",
     "output_type": "stream",
     "text": [
      "Epoch: 16 accuracy: 0.45895143263564314\n"
     ]
    },
    {
     "data": {
      "application/vnd.jupyter.widget-view+json": {
       "model_id": "b1fe43bf4196422b99ea9c176ab003b3",
       "version_major": 2,
       "version_minor": 0
      },
      "text/plain": [
       "  0%|          | 0/10000 [00:00<?, ?it/s]"
      ]
     },
     "metadata": {},
     "output_type": "display_data"
    },
    {
     "data": {
      "application/vnd.jupyter.widget-view+json": {
       "model_id": "3a81b73eae71444f95a96b86d4fc3197",
       "version_major": 2,
       "version_minor": 0
      },
      "text/plain": [
       "  0%|          | 0/9842 [00:00<?, ?it/s]"
      ]
     },
     "metadata": {},
     "output_type": "display_data"
    },
    {
     "name": "stdout",
     "output_type": "stream",
     "text": [
      "Epoch: 17 accuracy: 0.4766307661044503\n"
     ]
    },
    {
     "data": {
      "application/vnd.jupyter.widget-view+json": {
       "model_id": "9b62d231c58345f2ae40e39119e167a1",
       "version_major": 2,
       "version_minor": 0
      },
      "text/plain": [
       "  0%|          | 0/10000 [00:00<?, ?it/s]"
      ]
     },
     "metadata": {},
     "output_type": "display_data"
    },
    {
     "data": {
      "application/vnd.jupyter.widget-view+json": {
       "model_id": "92ce726f222940d48f17bc77114519b3",
       "version_major": 2,
       "version_minor": 0
      },
      "text/plain": [
       "  0%|          | 0/9842 [00:00<?, ?it/s]"
      ]
     },
     "metadata": {},
     "output_type": "display_data"
    },
    {
     "name": "stdout",
     "output_type": "stream",
     "text": [
      "Epoch: 18 accuracy: 0.4725665515139199\n"
     ]
    },
    {
     "data": {
      "application/vnd.jupyter.widget-view+json": {
       "model_id": "f8f347171d814212a5b6d339065d7d83",
       "version_major": 2,
       "version_minor": 0
      },
      "text/plain": [
       "  0%|          | 0/10000 [00:00<?, ?it/s]"
      ]
     },
     "metadata": {},
     "output_type": "display_data"
    },
    {
     "data": {
      "application/vnd.jupyter.widget-view+json": {
       "model_id": "ba7740a9e02945e59756cc85bdcce449",
       "version_major": 2,
       "version_minor": 0
      },
      "text/plain": [
       "  0%|          | 0/9842 [00:00<?, ?it/s]"
      ]
     },
     "metadata": {},
     "output_type": "display_data"
    },
    {
     "name": "stdout",
     "output_type": "stream",
     "text": [
      "Epoch: 19 accuracy: 0.4444218654744971\n"
     ]
    },
    {
     "data": {
      "application/vnd.jupyter.widget-view+json": {
       "model_id": "876525b6e61d429eb82ffe4eae4c075c",
       "version_major": 2,
       "version_minor": 0
      },
      "text/plain": [
       "  0%|          | 0/10000 [00:00<?, ?it/s]"
      ]
     },
     "metadata": {},
     "output_type": "display_data"
    },
    {
     "data": {
      "application/vnd.jupyter.widget-view+json": {
       "model_id": "23f2768d1e8844f68ea0132d8b6f686d",
       "version_major": 2,
       "version_minor": 0
      },
      "text/plain": [
       "  0%|          | 0/9842 [00:00<?, ?it/s]"
      ]
     },
     "metadata": {},
     "output_type": "display_data"
    },
    {
     "name": "stdout",
     "output_type": "stream",
     "text": [
      "Epoch: 20 accuracy: 0.47297297297297297\n"
     ]
    },
    {
     "data": {
      "application/vnd.jupyter.widget-view+json": {
       "model_id": "6dec90bef78348b4ba1f25eac42534ed",
       "version_major": 2,
       "version_minor": 0
      },
      "text/plain": [
       "  0%|          | 0/10000 [00:00<?, ?it/s]"
      ]
     },
     "metadata": {},
     "output_type": "display_data"
    },
    {
     "data": {
      "application/vnd.jupyter.widget-view+json": {
       "model_id": "08811f9d103f469f93f5bbd8c44c3d6c",
       "version_major": 2,
       "version_minor": 0
      },
      "text/plain": [
       "  0%|          | 0/9842 [00:00<?, ?it/s]"
      ]
     },
     "metadata": {},
     "output_type": "display_data"
    },
    {
     "name": "stdout",
     "output_type": "stream",
     "text": [
      "Epoch: 21 accuracy: 0.464742938427149\n"
     ]
    },
    {
     "data": {
      "application/vnd.jupyter.widget-view+json": {
       "model_id": "e87c7e51e715447493a82966e7d12d44",
       "version_major": 2,
       "version_minor": 0
      },
      "text/plain": [
       "  0%|          | 0/10000 [00:00<?, ?it/s]"
      ]
     },
     "metadata": {},
     "output_type": "display_data"
    },
    {
     "data": {
      "application/vnd.jupyter.widget-view+json": {
       "model_id": "51fcfa6a235f4572869b0395d98a7931",
       "version_major": 2,
       "version_minor": 0
      },
      "text/plain": [
       "  0%|          | 0/9842 [00:00<?, ?it/s]"
      ]
     },
     "metadata": {},
     "output_type": "display_data"
    },
    {
     "name": "stdout",
     "output_type": "stream",
     "text": [
      "Epoch: 22 accuracy: 0.4817110343426133\n"
     ]
    },
    {
     "data": {
      "application/vnd.jupyter.widget-view+json": {
       "model_id": "13e677ff5846453b81fee26eb294acb3",
       "version_major": 2,
       "version_minor": 0
      },
      "text/plain": [
       "  0%|          | 0/10000 [00:00<?, ?it/s]"
      ]
     },
     "metadata": {},
     "output_type": "display_data"
    },
    {
     "data": {
      "application/vnd.jupyter.widget-view+json": {
       "model_id": "74cc5a1ffff64dc1bd756de2b73c90f4",
       "version_major": 2,
       "version_minor": 0
      },
      "text/plain": [
       "  0%|          | 0/9842 [00:00<?, ?it/s]"
      ]
     },
     "metadata": {},
     "output_type": "display_data"
    },
    {
     "name": "stdout",
     "output_type": "stream",
     "text": [
      "Epoch: 23 accuracy: 0.4800853485064011\n"
     ]
    },
    {
     "data": {
      "application/vnd.jupyter.widget-view+json": {
       "model_id": "3d40ef89fd4340eca8f5331419d62d8e",
       "version_major": 2,
       "version_minor": 0
      },
      "text/plain": [
       "  0%|          | 0/10000 [00:00<?, ?it/s]"
      ]
     },
     "metadata": {},
     "output_type": "display_data"
    },
    {
     "data": {
      "application/vnd.jupyter.widget-view+json": {
       "model_id": "f6488a0e917749578afe44dc4cff08c2",
       "version_major": 2,
       "version_minor": 0
      },
      "text/plain": [
       "  0%|          | 0/9842 [00:00<?, ?it/s]"
      ]
     },
     "metadata": {},
     "output_type": "display_data"
    },
    {
     "name": "stdout",
     "output_type": "stream",
     "text": [
      "Epoch: 24 accuracy: 0.4722617354196302\n"
     ]
    },
    {
     "data": {
      "application/vnd.jupyter.widget-view+json": {
       "model_id": "96e0a88662034dffa8e3b9f461a0c288",
       "version_major": 2,
       "version_minor": 0
      },
      "text/plain": [
       "  0%|          | 0/10000 [00:00<?, ?it/s]"
      ]
     },
     "metadata": {},
     "output_type": "display_data"
    },
    {
     "data": {
      "application/vnd.jupyter.widget-view+json": {
       "model_id": "e4e670b97c0140bbb674b9eeda43029b",
       "version_major": 2,
       "version_minor": 0
      },
      "text/plain": [
       "  0%|          | 0/9842 [00:00<?, ?it/s]"
      ]
     },
     "metadata": {},
     "output_type": "display_data"
    },
    {
     "name": "stdout",
     "output_type": "stream",
     "text": [
      "Epoch: 25 accuracy: 0.46860394228815283\n",
      "The epoch with the highest accuracy is: \n",
      "21\n",
      "[0.3700467384677911, 0.3580573054257265, 0.36710018288965657, 0.3814265393212762, 0.39250152408047145, 0.3917902865271286, 0.4057102214996952, 0.41282259703312335, 0.4219670798618167, 0.43344848608006503, 0.4145498882340988, 0.44360902255639095, 0.4472668156878683, 0.4595610648242227, 0.4669782564519407, 0.45895143263564314, 0.4766307661044503, 0.4725665515139199, 0.4444218654744971, 0.47297297297297297, 0.464742938427149, 0.4817110343426133, 0.4800853485064011, 0.4722617354196302, 0.46860394228815283]\n"
     ]
    }
   ],
   "source": [
    "from tqdm.notebook import tqdm as tqdm\n",
    "\n",
    "model = LSTM_dot(vocab2idx, label2idx, 10, 20) \n",
    "\n",
    "cross_entropy = torch.nn.CrossEntropyLoss()\n",
    "optimizer = torch.optim.Adam(model.parameters(), lr=0.0005)\n",
    "\n",
    "epoch_scores = []\n",
    "\n",
    "for epoch in range(25):\n",
    "    \n",
    "    correct = 0 \n",
    "    total = len(dev_vectors)\n",
    "    \n",
    "    model.train()\n",
    "    for s1, s2, label in tqdm(train_vectors):\n",
    "        optimizer.zero_grad()\n",
    "        \n",
    "        logits = model(s1,s2)\n",
    "        loss = cross_entropy(logits,label)\n",
    "        loss.backward()\n",
    "        \n",
    "        optimizer.step()\n",
    "        \n",
    "        \n",
    "    # We don't need to compute gradients when we test the model. \n",
    "    # This speeds up inference and helps prevent us from accidently training on the dev set\n",
    "    model.eval()\n",
    "    with torch.no_grad():\n",
    "        for s1, s2, label in tqdm(dev_vectors):\n",
    "            logits = model(s1,s2)\n",
    "            loss = cross_entropy(logits,label)\n",
    "            \n",
    "            # Our y_hat is the logit with the highest score\n",
    "            prediction = torch.argmax(logits,axis=-1)\n",
    "            \n",
    "            # If prediction is same as the label, add to the accuracy\n",
    "            correct += torch.count_nonzero(prediction == label).item()\n",
    "            \n",
    "        \n",
    "    accuracy = correct/total\n",
    "    epoch_scores.append(accuracy)\n",
    "    print(f'Epoch: {epoch+1} accuracy: {accuracy}')\n",
    "    \n",
    "\n",
    "print(\"The epoch with the highest accuracy is: \")\n",
    "print(torch.argmax(torch.tensor(epoch_scores)+1).item())\n",
    "print(epoch_scores)\n",
    "        "
   ]
  },
  {
   "cell_type": "code",
   "execution_count": null,
   "id": "93ed1bfb",
   "metadata": {},
   "outputs": [],
   "source": []
  },
  {
   "cell_type": "markdown",
   "id": "4765f5d4",
   "metadata": {},
   "source": [
    "## Problem 1.2 (2 points) - Attention Types\n",
    "\n",
    "Compare the attention mechanisms of Dot Product self attention, Bahdanau (concatenate) attention and Luong (linear) attention from the lecture in Week 10. Assuming a hidden dimension size of $d$ dimensions, compare how many additional parameters these attention mechanisms introduce."
   ]
  },
  {
   "cell_type": "code",
   "execution_count": null,
   "id": "b3ab2f1d",
   "metadata": {},
   "outputs": [],
   "source": []
  },
  {
   "cell_type": "markdown",
   "id": "06258eed",
   "metadata": {},
   "source": [
    "# Problem 2 - Transformer for NMT (12 points)"
   ]
  },
  {
   "cell_type": "markdown",
   "id": "f7c8ea71",
   "metadata": {},
   "source": [
    "## Problem 2.1 (2 points) - Multi-Head Attention\n",
    "Assume that multi-head attention with 12 attention heads is used in an encoder-decoder transformer model which has a hidden dimension size of 512. How many parameters in this encoder-decoder model with 12 layers are used for the multi-head attention? (Based on the model architecture from \"Attention is all you need\", Vaswani et al., 2017). Show your working."
   ]
  },
  {
   "cell_type": "code",
   "execution_count": null,
   "id": "cd455102",
   "metadata": {},
   "outputs": [],
   "source": []
  },
  {
   "cell_type": "markdown",
   "id": "48d5986b",
   "metadata": {},
   "source": [
    "## Problem 2.2 (2 points) - Residual Connections\n",
    "The transformer architecture uses residual connections (https://arxiv.org/pdf/1512.03385.pdf) over both the feedforward and multi-head attention sub-layers. Describe how these residual connections function and compare the derivative of the loss ($\\frac{\\partial L}{\\partial \\mathbf{x}}$) of a 2-layer feed-forward layer and a feed-forward layer with relu activation ($\\mathbf{z}= \\mathbf{W}_2 \\text{ReLU}(\\mathbf{W}_1 \\mathbf{x} + \\mathbf{b_1}) + \\mathbf{b_2}$) both with and without the residual connection\n"
   ]
  },
  {
   "cell_type": "code",
   "execution_count": null,
   "id": "91a984be",
   "metadata": {},
   "outputs": [],
   "source": []
  },
  {
   "cell_type": "markdown",
   "id": "b5ffea97",
   "metadata": {},
   "source": [
    "## Problem 2.3 (8 points) - Training a transformer\n",
    "Using the code from the Week 10 lab or the annotated tranformer (link at top of notebook). Train and evaluate an appropriately sized transformer model for the task of translating Korean TED Talks to English.  The dataset can be downloaded using the HuggingFace datasets library: https://huggingface.co/datasets/msarmi9/korean-english-multitarget-ted-talks-task \n",
    "\n",
    "* Only use the Korean-English translation part of this dataset\n",
    "* Chose appropriate network architecture, vocabulary, tokenization and hyper-parameters.\n",
    "* It is not neccesary to get very high performance of model. It is only required to show that training converges for a few epochs and that the model generates intelligible outputs.\n",
    "* It is acceptable to use a subset of the data (training the network on all data make take a long time) \n",
    "* Use teacher forcing when training your model\n",
    "* Decode predictions at inference time using greedy search\n",
    "* It is recommended to use GPUs to speed up training"
   ]
  },
  {
   "cell_type": "code",
   "execution_count": 63,
   "id": "07f4a038",
   "metadata": {},
   "outputs": [
    {
     "name": "stdout",
     "output_type": "stream",
     "text": [
      "166215\n",
      "1958\n"
     ]
    },
    {
     "data": {
      "text/plain": [
       "{'korean': '제가 아주 심한 화상을 입었을 때였죠.', 'english': 'I was burned very badly.'}"
      ]
     },
     "execution_count": 63,
     "metadata": {},
     "output_type": "execute_result"
    }
   ],
   "source": [
    "# reading data \n",
    "def load_data(filename):\n",
    "    with open(filename, encoding=\"utf8\") as f:\n",
    "        for item in f:\n",
    "            inst = json.loads(item)\n",
    "\n",
    "            yield inst\n",
    "            \n",
    "train_instances = list(load_data(\"C:/Users/User/Desktop/NLP/assignment4/task_2/train.json\"))\n",
    "dev_instances = list(load_data(\"C:/Users/User/Desktop/NLP/assignment4/task_2/dev.json\"))\n",
    "\n",
    "# checking if the data loaded properly \n",
    "print(len(train_instances))\n",
    "print(len(dev_instances))\n",
    "train_instances[1000]"
   ]
  },
  {
   "cell_type": "code",
   "execution_count": 67,
   "id": "c5cc3b5f",
   "metadata": {},
   "outputs": [
    {
     "data": {
      "application/vnd.jupyter.widget-view+json": {
       "model_id": "8530e7a1c80c4236ab2b7299fec07bf0",
       "version_major": 2,
       "version_minor": 0
      },
      "text/plain": [
       "  0%|          | 0/166215 [00:00<?, ?it/s]"
      ]
     },
     "metadata": {},
     "output_type": "display_data"
    }
   ],
   "source": [
    "english_tokenized=[]\n",
    "korean_tokenized=[]\n",
    "for i in tqdm(range(len(train_instances))):\n",
    "    eng_sentence = word_tokenize(train_instances[i]['english'])\n",
    "    kr_sentence = word_tokenize(train_instances[i]['korean']) #, language=\"korean\")\n",
    "    english_tokenized.append(eng_sentence)\n",
    "    korean_tokenized.append(kr_sentence)"
   ]
  },
  {
   "cell_type": "code",
   "execution_count": 69,
   "id": "0accfb5e",
   "metadata": {},
   "outputs": [
    {
     "data": {
      "text/plain": [
       "['제가', '아주', '심한', '화상을', '입었을', '때였죠', '.']"
      ]
     },
     "execution_count": 69,
     "metadata": {},
     "output_type": "execute_result"
    }
   ],
   "source": [
    "korean_tokenized[1000]"
   ]
  },
  {
   "cell_type": "code",
   "execution_count": 73,
   "id": "1ab9dc6b",
   "metadata": {},
   "outputs": [
    {
     "data": {
      "application/vnd.jupyter.widget-view+json": {
       "model_id": "2ebaad3614e54a0d938669a8c314e17f",
       "version_major": 2,
       "version_minor": 0
      },
      "text/plain": [
       "  0%|          | 0/166215 [00:00<?, ?it/s]"
      ]
     },
     "metadata": {},
     "output_type": "display_data"
    },
    {
     "data": {
      "application/vnd.jupyter.widget-view+json": {
       "model_id": "35e000d504bf4f9b8136bbb1cb611b92",
       "version_major": 2,
       "version_minor": 0
      },
      "text/plain": [
       "  0%|          | 0/166215 [00:00<?, ?it/s]"
      ]
     },
     "metadata": {},
     "output_type": "display_data"
    }
   ],
   "source": [
    "en_word2index = {\"SOS\": 0, \"EOS\": 1, \"UNK\": 2, \"PAD\": 3} \n",
    "en_word2count = {\"SOS\": 10, \"EOS\": 10, \"UNK\": 10, \"PAD\":10}\n",
    "en_index2word = {0: \"SOS\", 1: \"EOS\", 2: \"UNK\", 3: \"PAD\"}\n",
    "en_n_word=4\n",
    "\n",
    "for sentence in tqdm(english_tokenized):\n",
    "    for token in sentence:\n",
    "        if token not in en_word2index:\n",
    "            en_word2index[token] =en_n_word\n",
    "            en_index2word[en_n_word]=token\n",
    "            en_word2count[token] = 1\n",
    "            en_n_word += 1\n",
    "        else:\n",
    "            en_word2count[token] += 1\n",
    "\n",
    "kr_word2index = {\"SOS\": 0, \"EOS\": 1, \"UNK\": 2, \"PAD\": 3} \n",
    "kr_word2count = {\"SOS\": 10, \"EOS\": 10, \"UNK\": 10, \"PAD\": 10}\n",
    "kr_index2word = {0: \"SOS\", 1: \"EOS\", 2: \"UNK\", 3: \"PAD\"}\n",
    "kr_n_word=4\n",
    "\n",
    "for sentence in tqdm(korean_tokenized):\n",
    "    for token in sentence:\n",
    "        if token not in kr_word2index:\n",
    "            kr_word2index[token] =kr_n_word\n",
    "            kr_index2word[kr_n_word]=token\n",
    "            kr_word2count[token] = 1\n",
    "            kr_n_word += 1\n",
    "        else:\n",
    "            kr_word2count[token] += 1"
   ]
  },
  {
   "cell_type": "code",
   "execution_count": 75,
   "id": "7634e738",
   "metadata": {},
   "outputs": [
    {
     "data": {
      "application/vnd.jupyter.widget-view+json": {
       "model_id": "3452f28125e74621962fc7a968745daf",
       "version_major": 2,
       "version_minor": 0
      },
      "text/plain": [
       "  0%|          | 0/166215 [00:00<?, ?it/s]"
      ]
     },
     "metadata": {},
     "output_type": "display_data"
    },
    {
     "data": {
      "application/vnd.jupyter.widget-view+json": {
       "model_id": "3341b28af8f1446ab3dacbee74cbe1f5",
       "version_major": 2,
       "version_minor": 0
      },
      "text/plain": [
       "  0%|          | 0/166215 [00:00<?, ?it/s]"
      ]
     },
     "metadata": {},
     "output_type": "display_data"
    }
   ],
   "source": [
    "en_train_data=[]\n",
    "for sentence in tqdm(english_tokenized):\n",
    "    sentence_idx = [en_word2index[w] if w in en_word2index else en_word2index['UNK'] for w in sentence ]\n",
    "    sentence_idx = [0] + sentence_idx + [1] # add \"SOS\"&\"EOS\" token\n",
    "    sentence_idx = torch.LongTensor(sentence_idx)\n",
    "    en_train_data.append(sentence_idx)\n",
    "\n",
    "kr_train_data=[]\n",
    "for sentence in tqdm(korean_tokenized):\n",
    "    sentence_idx = [kr_word2index[w] if w in kr_word2index else kr_word2index['UNK'] for w in sentence]\n",
    "    sentence_idx = [0] + sentence_idx + [1] # add \"EOS\" token\n",
    "    sentence_idx = torch.LongTensor(sentence_idx)\n",
    "    kr_train_data.append(sentence_idx)\n",
    "    "
   ]
  },
  {
   "cell_type": "code",
   "execution_count": 78,
   "id": "a4db990f",
   "metadata": {},
   "outputs": [
    {
     "data": {
      "application/vnd.jupyter.widget-view+json": {
       "model_id": "cbeeba9922bd42c398edf94ff9e1d0bb",
       "version_major": 2,
       "version_minor": 0
      },
      "text/plain": [
       "  0%|          | 0/1958 [00:00<?, ?it/s]"
      ]
     },
     "metadata": {},
     "output_type": "display_data"
    },
    {
     "data": {
      "application/vnd.jupyter.widget-view+json": {
       "model_id": "ec5fd4710ffe421298e692177cbd4732",
       "version_major": 2,
       "version_minor": 0
      },
      "text/plain": [
       "  0%|          | 0/1958 [00:00<?, ?it/s]"
      ]
     },
     "metadata": {},
     "output_type": "display_data"
    },
    {
     "data": {
      "application/vnd.jupyter.widget-view+json": {
       "model_id": "b0c028406a14452184a7756829c1bfef",
       "version_major": 2,
       "version_minor": 0
      },
      "text/plain": [
       "  0%|          | 0/1958 [00:00<?, ?it/s]"
      ]
     },
     "metadata": {},
     "output_type": "display_data"
    }
   ],
   "source": [
    "# Preprocess devset\n",
    "\n",
    "english_dev_tokenized=[]\n",
    "korean_dev_tokenized=[]\n",
    "for i in tqdm(range(len(dev_instances))):\n",
    "    eng_sentence = word_tokenize(dev_instances[i]['english'])\n",
    "    kr_sentence = word_tokenize(dev_instances[i]['korean'])\n",
    "    english_dev_tokenized.append(eng_sentence)\n",
    "    korean_dev_tokenized.append(kr_sentence)\n",
    "\n",
    "en_dev_data=[]\n",
    "for sentence in tqdm(english_dev_tokenized):\n",
    "    sentence_idx = [en_word2index[w] if w in en_word2index else en_word2index['UNK'] for w in sentence ]\n",
    "    sentence_idx = [0] + sentence_idx + [1] # add \"SOS\" & \"EOS\" token\n",
    "    sentence_idx = torch.LongTensor(sentence_idx)\n",
    "    en_dev_data.append(sentence_idx)\n",
    "\n",
    "kr_dev_data=[]\n",
    "for sentence in tqdm(korean_dev_tokenized):\n",
    "    sentence_idx = [kr_word2index[w] if w in kr_word2index else kr_word2index['UNK'] for w in sentence]\n",
    "    sentence_idx = [0] + sentence_idx + [1] # add \"EOS\" token /  \"SOS\" token would be added in training step!\n",
    "    sentence_idx = torch.LongTensor(sentence_idx)\n",
    "    kr_dev_data.append(sentence_idx)"
   ]
  },
  {
   "cell_type": "code",
   "execution_count": 81,
   "id": "a743ef9d",
   "metadata": {},
   "outputs": [
    {
     "name": "stdout",
     "output_type": "stream",
     "text": [
      "174\n"
     ]
    }
   ],
   "source": [
    "padding_token = en_word2count[\"PAD\"]\n",
    "en_train_max = np.max([len(en_train_data[i]) for i in range(len(en_train_data))])\n",
    "kr_train_max = np.max([len(kr_train_data[i]) for i in range(len(kr_train_data))])\n",
    "en_dev_max = np.max([len(en_dev_data[i]) for i in range(len(en_dev_data))])\n",
    "kr_dev_max = np.max([len(kr_dev_data[i]) for i in range(len(kr_dev_data))])\n",
    "max_len = np.max([en_train_max, kr_train_max, en_dev_max, kr_dev_max])\n",
    "print(max_len)\n",
    "# Pad the tokens to fix the length\n",
    "en_train_data = [torch.cat([i, torch.zeros(max_len-len(i), dtype=torch.long) + en_word2index[\"PAD\"]]) if len(i) < max_len+1 else i[:max_len] for i in en_train_data]\n",
    "en_dev_data = [torch.cat([i, torch.zeros(max_len-len(i), dtype=torch.long) + en_word2index[\"PAD\"]]) if len(i) < max_len+1 else i[:max_len] for i in en_dev_data]\n",
    "kr_train_data = [torch.cat([i, torch.zeros(max_len-len(i), dtype=torch.long) + kr_word2index[\"PAD\"]]) if len(i) < max_len else i[:max_len] for i in kr_train_data]\n",
    "kr_dev_data = [torch.cat([i, torch.zeros(max_len-len(i), dtype=torch.long) + kr_word2index[\"PAD\"]]) if len(i) < max_len else i[:max_len] for i in kr_dev_data]\n"
   ]
  },
  {
   "cell_type": "markdown",
   "id": "c1a62ad2",
   "metadata": {},
   "source": [
    "![transforemr](https://miro.medium.com/max/856/1*ZCFSvkKtppgew3cc7BIaug.png)"
   ]
  },
  {
   "cell_type": "code",
   "execution_count": 113,
   "id": "689aff8b",
   "metadata": {},
   "outputs": [],
   "source": [
    "import torch.nn as nn\n",
    "import torch.nn.functional as F\n",
    "import math\n",
    "\n",
    "class SelfAttention(nn.Module):\n",
    "    def __init__(self):\n",
    "        super(SelfAttention,self).__init__()\n",
    "        self.matmul = torch.matmul\n",
    "        self.softmax = torch.softmax\n",
    "\n",
    "    def forward(self,query, key, value, mask=None):\n",
    "        key_transpose = torch.transpose(key,-2,-1)          # (bath, head_num, d_k, token_)\n",
    "        matmul_result = self.matmul(query,key_transpose)    # MatMul(Q,K)\n",
    "        d_k = key.size()[-1]\n",
    "        attention_score = matmul_result/math.sqrt(d_k)      # Scale\n",
    "\n",
    "        if mask is not None:\n",
    "            attention_score = attention_score.masked_fill(mask == 0, -1e20)\n",
    "\n",
    "            softmax_attention_score = self.softmax(attention_score,dim=-1)\n",
    "            result = self.matmul(softmax_attention_score,value)\n",
    "\n",
    "        return result, softmax_attention_score\n",
    "    \n",
    "class MultiHeadAttention(nn.Module):\n",
    "    def __init__(self, head_num =8 , d_model = 512,dropout = 0.1):\n",
    "        super(MultiHeadAttention,self).__init__()\n",
    "\n",
    "        assert d_model % head_num == 0 \n",
    "\n",
    "        self.head_num = head_num\n",
    "        self.d_model = d_model\n",
    "        self.d_k = self.d_v = d_model // head_num\n",
    "\n",
    "        self.w_q = nn.Linear(d_model,d_model)\n",
    "        self.w_k = nn.Linear(d_model,d_model)\n",
    "        self.w_v = nn.Linear(d_model,d_model)\n",
    "        self.w_o = nn.Linear(d_model,d_model)\n",
    "\n",
    "        self.self_attention = SelfAttention()\n",
    "        self.dropout = nn.Dropout(p=dropout)\n",
    "\n",
    "    def forward(self, query, key, value, mask = None):\n",
    "        if mask is not None:\n",
    "          # Same mask applied to all h heads.\n",
    "          mask = mask.unsqueeze(1)\n",
    "\n",
    "        batche_num = query.size(0)\n",
    "\n",
    "        query = self.w_q(query).view(batche_num, -1, self.head_num, self.d_k).transpose(1, 2)\n",
    "        key = self.w_k(key).view(batche_num, -1, self.head_num, self.d_k).transpose(1, 2)\n",
    "        value = self.w_v(value).view(batche_num, -1, self.head_num, self.d_k).transpose(1, 2)\n",
    "\n",
    "        attention_result, attention_score = self.self_attention(query, key, value, mask)\n",
    "\n",
    "        attention_result = attention_result.transpose(1,2).contiguous().view(batche_num, -1, self.head_num * self.d_k)\n",
    "\n",
    "\n",
    "        return self.w_o(attention_result)\n",
    "\n",
    "from torch.autograd import Variable\n",
    "\n",
    "class LayerNorm(nn.Module):\n",
    "    def __init__(self, features, eps=1e-6):\n",
    "        super(LayerNorm,self).__init__()\n",
    "        self.a_2 = nn.Parameter(torch.ones(features))\n",
    "        self.b_2 = nn.Parameter(torch.zeros(features))\n",
    "        self.eps = eps\n",
    "    def forward(self, x):\n",
    "        mean = x.mean(-1, keepdim =True)\n",
    "        std = x.std(-1, keepdim=True) \n",
    "\n",
    "        return self.a_2 * (x-mean)/ (std + self.eps) + self.b_2\n",
    "\n",
    "class ResidualConnection(nn.Module):\n",
    "    def __init__(self, size, dropout):\n",
    "        super(ResidualConnection,self).__init__()\n",
    "        self.norm = LayerNorm(size)\n",
    "        self.dropout = nn.Dropout(dropout)\n",
    "\n",
    "    def forward(self, x, sublayer):\n",
    "        return x + self.dropout((sublayer(self.norm(x))))\n",
    "    \n",
    "class Embeddings(nn.Module):\n",
    "    def __init__(self, vocab_num, d_model):\n",
    "            super(Embeddings,self).__init__()\n",
    "            self.emb = nn.Embedding(vocab_num,d_model)\n",
    "            self.d_model = d_model\n",
    "    def forward(self, x):\n",
    "        return self.emb(x) * math.sqrt(self.d_model)\n",
    "    \n",
    "class PositionalEncoding(nn.Module):\n",
    "    def __init__(self, max_seq_len, d_model,dropout=0.1):\n",
    "        super(PositionalEncoding,self).__init__()\n",
    "        self.dropout = nn.Dropout(p=dropout)\n",
    "\n",
    "        pe = torch.zeros(max_seq_len, d_model)\n",
    "\n",
    "        position = torch.arange(0,max_seq_len).unsqueeze(1)\n",
    "        base = torch.ones(d_model//2).fill_(10000)\n",
    "        pow_term = torch.arange(0, d_model, 2) / torch.tensor(d_model,dtype=torch.float32)\n",
    "        div_term = torch.pow(base,pow_term)\n",
    "\n",
    "        pe[:, 0::2] = torch.sin(position / div_term)\n",
    "        pe[:, 1::2] = torch.cos(position / div_term)\n",
    "\n",
    "        pe = pe.unsqueeze(0)\n",
    "\n",
    "        # Do not train pe!\n",
    "        self.register_buffer('positional_encoding', pe)\n",
    "\n",
    "    def forward(self, x):\n",
    "#         print(x.shape)\n",
    "# #         print(x.size(1))\n",
    "#         print(Variable(self.positional_encoding[:, :x.size(1)], requires_grad=False).shape)\n",
    "        x = x + Variable(self.positional_encoding[:, :x.size(1)], requires_grad=False)\n",
    "        return self.dropout(x)\n",
    "    \n",
    "class FeedForward(nn.Module):\n",
    "    def __init__(self,d_model, dropout = 0.1):\n",
    "        super(FeedForward,self).__init__()\n",
    "        self.w_1 = nn.Linear(d_model, d_model*4)\n",
    "        self.w_2 = nn.Linear(d_model*4, d_model)\n",
    "        self.dropout = nn.Dropout(p=dropout)\n",
    "\n",
    "    def forward(self, x):\n",
    "        return self.w_2(self.dropout(F.relu(self.w_1(x))))\n",
    "    \n",
    "import copy\n",
    "# to stack the layer!\n",
    "def clones(module, N):\n",
    "    \"Produce N identical layers.\"\n",
    "    return nn.ModuleList([copy.deepcopy(module) for _ in range(N)])\n",
    "\n",
    "def subsequent_mask(size):\n",
    "    \"Mask out subsequent positions.\"\n",
    "    attn_shape = (1, size, size)\n",
    "    subsequent_mask = np.triu(np.ones(attn_shape), k=1).astype('uint8')\n",
    "    return torch.from_numpy(subsequent_mask) == 0\n",
    "\n",
    "def make_pad_mask(query, key, pad_idx=3):\n",
    "    # key: (n_batch, key_seq_len)\n",
    "    query_seq_len, key_seq_len = len(query), len(key)\n",
    "    key_mask = key.ne(pad_idx)\n",
    "\n",
    "    key_mask = key_mask.repeat(1, 1, query_seq_len, 1)    # (n_batch, 1, query_seq_len, key_seq_len)\n",
    "\n",
    "    query_mask = query.ne(pad_idx).unsqueeze(0)  # (n_batch, 1, query_seq_len, 1)\n",
    "    query_mask = query_mask.transpose(-1,0).repeat(1, 1, 1, key_seq_len)  # (n_batch, 1, query_seq_len, key_seq_len)\n",
    "\n",
    "    mask = key_mask & query_mask\n",
    "    mask = mask.squeeze(0)\n",
    "    mask.requires_grad = False\n",
    "    return mask\n",
    "\n",
    "class Encoder(nn.Module):\n",
    "    def __init__(self, d_model, head_num, dropout):\n",
    "        super(Encoder,self).__init__()\n",
    "        self.multi_head_attention = MultiHeadAttention(d_model= d_model, head_num= head_num)\n",
    "        self.residual_1 = ResidualConnection(d_model,dropout=dropout)\n",
    "\n",
    "        self.feed_forward = FeedForward(d_model)\n",
    "        self.residual_2 = ResidualConnection(d_model,dropout=dropout)\n",
    "\n",
    "    def forward(self, input, mask):\n",
    "        x = self.residual_1(input, lambda x: self.multi_head_attention(x, x, x, mask))\n",
    "        x = self.residual_2(x, lambda x: self.feed_forward(x))\n",
    "        return x\n",
    "    \n",
    "class Decoder(nn.Module):\n",
    "    def __init__(self, d_model,head_num, dropout):\n",
    "        super(Decoder,self).__init__()\n",
    "        self.masked_multi_head_attention = MultiHeadAttention(d_model= d_model, head_num= head_num)\n",
    "        self.residual_1 = ResidualConnection(d_model,dropout=dropout)\n",
    "\n",
    "        self.encoder_decoder_attention = MultiHeadAttention(d_model= d_model, head_num= head_num)\n",
    "        self.residual_2 = ResidualConnection(d_model,dropout=dropout)\n",
    "\n",
    "        self.feed_forward= FeedForward(d_model)\n",
    "        self.residual_3 = ResidualConnection(d_model,dropout=dropout)\n",
    "\n",
    "\n",
    "    def forward(self, target, encoder_output, target_mask, encoder_mask):\n",
    "        # target, x, target_mask, input_mask\n",
    "        x = self.residual_1(target, lambda x: self.masked_multi_head_attention(x, x, x, target_mask))\n",
    "        x = self.residual_2(x, lambda x: self.encoder_decoder_attention(x, encoder_output, encoder_output, encoder_mask))\n",
    "        x = self.residual_3(x, self.feed_forward)\n",
    "\n",
    "        return x\n",
    "    \n",
    "class Generator(nn.Module):\n",
    "    \"Define standard linear + softmax generation step.\"\n",
    "    def __init__(self, d_model, vocab):\n",
    "        super(Generator, self).__init__()\n",
    "        self.proj = nn.Linear(d_model, vocab)\n",
    "\n",
    "    def forward(self, x):\n",
    "        return F.log_softmax(self.proj(x), dim=-1)\n",
    "\n",
    "class Transformer(nn.Module):\n",
    "    def __init__(self,input_vocab_num, output_vocab_num, d_model, max_seq_len, head_num, dropout, N):\n",
    "        super(Transformer,self).__init__()\n",
    "        self.input_embedding = Embeddings(input_vocab_num, d_model)\n",
    "        self.output_embedding = Embeddings(output_vocab_num, d_model)\n",
    "        self.positional_encoding = PositionalEncoding(max_seq_len,d_model)\n",
    "\n",
    "        self.encoders = clones(Encoder(d_model=d_model, head_num=head_num, dropout=dropout), N)\n",
    "        self.decoders = clones(Decoder(d_model=d_model, head_num=head_num, dropout=dropout), N)\n",
    "\n",
    "        self.generator = Generator(d_model, output_vocab_num)\n",
    "\n",
    "    def forward(self, inputs, target, input_mask, target_mask, labels=None):\n",
    "        x = self.positional_encoding(self.input_embedding(inputs))\n",
    "        for encoder in self.encoders:\n",
    "            x = encoder(x, input_mask)\n",
    "\n",
    "        target = self.positional_encoding(self.output_embedding(target))\n",
    "        for decoder in self.decoders:\n",
    "            # target, encoder_output, target_mask, encoder_mask)\n",
    "            target = decoder(target, x, target_mask, input_mask)\n",
    "\n",
    "        lm_logits = self.generator(target)\n",
    "        loss = None\n",
    "        if labels is not None:\n",
    "            # Shift so that tokens < n predict n\n",
    "            shift_logits = lm_logits[..., :-1, :].contiguous()\n",
    "            shift_labels = labels[..., 1:].contiguous()\n",
    "            # Flatten the tokens\n",
    "            loss_fct = nn.CrossEntropyLoss(ignore_index=3)\n",
    "            loss = loss_fct(shift_logits.view(-1, shift_logits.size(-1)), shift_labels.view(-1))\n",
    "\n",
    "        return lm_logits, loss\n",
    "    def encode(self,input, input_mask):\n",
    "        x = self.positional_encoding(self.input_embedding(input))\n",
    "        for encoder in self.encoders:\n",
    "            x = encoder(x, input_mask)\n",
    "        return x\n",
    "\n",
    "    def decode(self, encode_output, encoder_mask, target, target_mask):\n",
    "        target = self.positional_encoding(self.output_embedding(target))\n",
    "        for decoder in self.decoders:\n",
    "        #target, encoder_output, target_mask, encoder_mask\n",
    "            target = decoder(target, encode_output, target_mask, encoder_mask)\n",
    "\n",
    "            lm_logits = self.generator(target)\n",
    "\n",
    "        return lm_logits\n"
   ]
  },
  {
   "cell_type": "code",
   "execution_count": 114,
   "id": "32ee765f",
   "metadata": {},
   "outputs": [
    {
     "name": "stdout",
     "output_type": "stream",
     "text": [
      "cpu\n"
     ]
    },
    {
     "name": "stderr",
     "output_type": "stream",
     "text": [
      "637it [1:35:35,  9.00s/it]\n"
     ]
    },
    {
     "ename": "KeyboardInterrupt",
     "evalue": "",
     "output_type": "error",
     "traceback": [
      "\u001b[1;31m---------------------------------------------------------------------------\u001b[0m",
      "\u001b[1;31mKeyboardInterrupt\u001b[0m                         Traceback (most recent call last)",
      "Cell \u001b[1;32mIn [114], line 45\u001b[0m\n\u001b[0;32m     43\u001b[0m losses\u001b[38;5;241m.\u001b[39mappend(loss\u001b[38;5;241m.\u001b[39mitem())\n\u001b[0;32m     44\u001b[0m loss\u001b[38;5;241m.\u001b[39mbackward()\n\u001b[1;32m---> 45\u001b[0m \u001b[43moptimizer\u001b[49m\u001b[38;5;241;43m.\u001b[39;49m\u001b[43mstep\u001b[49m\u001b[43m(\u001b[49m\u001b[43m)\u001b[49m\n",
      "File \u001b[1;32mC:\\Python39\\lib\\site-packages\\torch\\optim\\optimizer.py:140\u001b[0m, in \u001b[0;36mOptimizer._hook_for_profile.<locals>.profile_hook_step.<locals>.wrapper\u001b[1;34m(*args, **kwargs)\u001b[0m\n\u001b[0;32m    138\u001b[0m profile_name \u001b[38;5;241m=\u001b[39m \u001b[38;5;124m\"\u001b[39m\u001b[38;5;124mOptimizer.step#\u001b[39m\u001b[38;5;132;01m{}\u001b[39;00m\u001b[38;5;124m.step\u001b[39m\u001b[38;5;124m\"\u001b[39m\u001b[38;5;241m.\u001b[39mformat(obj\u001b[38;5;241m.\u001b[39m\u001b[38;5;18m__class__\u001b[39m\u001b[38;5;241m.\u001b[39m\u001b[38;5;18m__name__\u001b[39m)\n\u001b[0;32m    139\u001b[0m \u001b[38;5;28;01mwith\u001b[39;00m torch\u001b[38;5;241m.\u001b[39mautograd\u001b[38;5;241m.\u001b[39mprofiler\u001b[38;5;241m.\u001b[39mrecord_function(profile_name):\n\u001b[1;32m--> 140\u001b[0m     out \u001b[38;5;241m=\u001b[39m func(\u001b[38;5;241m*\u001b[39margs, \u001b[38;5;241m*\u001b[39m\u001b[38;5;241m*\u001b[39mkwargs)\n\u001b[0;32m    141\u001b[0m     obj\u001b[38;5;241m.\u001b[39m_optimizer_step_code()\n\u001b[0;32m    142\u001b[0m     \u001b[38;5;28;01mreturn\u001b[39;00m out\n",
      "File \u001b[1;32mC:\\Python39\\lib\\site-packages\\torch\\optim\\optimizer.py:23\u001b[0m, in \u001b[0;36m_use_grad_for_differentiable.<locals>._use_grad\u001b[1;34m(self, *args, **kwargs)\u001b[0m\n\u001b[0;32m     21\u001b[0m \u001b[38;5;28;01mtry\u001b[39;00m:\n\u001b[0;32m     22\u001b[0m     torch\u001b[38;5;241m.\u001b[39mset_grad_enabled(\u001b[38;5;28mself\u001b[39m\u001b[38;5;241m.\u001b[39mdefaults[\u001b[38;5;124m'\u001b[39m\u001b[38;5;124mdifferentiable\u001b[39m\u001b[38;5;124m'\u001b[39m])\n\u001b[1;32m---> 23\u001b[0m     ret \u001b[38;5;241m=\u001b[39m func(\u001b[38;5;28mself\u001b[39m, \u001b[38;5;241m*\u001b[39margs, \u001b[38;5;241m*\u001b[39m\u001b[38;5;241m*\u001b[39mkwargs)\n\u001b[0;32m     24\u001b[0m \u001b[38;5;28;01mfinally\u001b[39;00m:\n\u001b[0;32m     25\u001b[0m     torch\u001b[38;5;241m.\u001b[39mset_grad_enabled(prev_grad)\n",
      "File \u001b[1;32mC:\\Python39\\lib\\site-packages\\torch\\optim\\adam.py:234\u001b[0m, in \u001b[0;36mAdam.step\u001b[1;34m(self, closure, grad_scaler)\u001b[0m\n\u001b[0;32m    231\u001b[0m                 \u001b[38;5;28;01mraise\u001b[39;00m \u001b[38;5;167;01mRuntimeError\u001b[39;00m(\u001b[38;5;124m'\u001b[39m\u001b[38;5;124m`requires_grad` is not supported for `step` in differentiable mode\u001b[39m\u001b[38;5;124m'\u001b[39m)\n\u001b[0;32m    232\u001b[0m             state_steps\u001b[38;5;241m.\u001b[39mappend(state[\u001b[38;5;124m'\u001b[39m\u001b[38;5;124mstep\u001b[39m\u001b[38;5;124m'\u001b[39m])\n\u001b[1;32m--> 234\u001b[0m     \u001b[43madam\u001b[49m\u001b[43m(\u001b[49m\u001b[43mparams_with_grad\u001b[49m\u001b[43m,\u001b[49m\n\u001b[0;32m    235\u001b[0m \u001b[43m         \u001b[49m\u001b[43mgrads\u001b[49m\u001b[43m,\u001b[49m\n\u001b[0;32m    236\u001b[0m \u001b[43m         \u001b[49m\u001b[43mexp_avgs\u001b[49m\u001b[43m,\u001b[49m\n\u001b[0;32m    237\u001b[0m \u001b[43m         \u001b[49m\u001b[43mexp_avg_sqs\u001b[49m\u001b[43m,\u001b[49m\n\u001b[0;32m    238\u001b[0m \u001b[43m         \u001b[49m\u001b[43mmax_exp_avg_sqs\u001b[49m\u001b[43m,\u001b[49m\n\u001b[0;32m    239\u001b[0m \u001b[43m         \u001b[49m\u001b[43mstate_steps\u001b[49m\u001b[43m,\u001b[49m\n\u001b[0;32m    240\u001b[0m \u001b[43m         \u001b[49m\u001b[43mamsgrad\u001b[49m\u001b[38;5;241;43m=\u001b[39;49m\u001b[43mgroup\u001b[49m\u001b[43m[\u001b[49m\u001b[38;5;124;43m'\u001b[39;49m\u001b[38;5;124;43mamsgrad\u001b[39;49m\u001b[38;5;124;43m'\u001b[39;49m\u001b[43m]\u001b[49m\u001b[43m,\u001b[49m\n\u001b[0;32m    241\u001b[0m \u001b[43m         \u001b[49m\u001b[43mbeta1\u001b[49m\u001b[38;5;241;43m=\u001b[39;49m\u001b[43mbeta1\u001b[49m\u001b[43m,\u001b[49m\n\u001b[0;32m    242\u001b[0m \u001b[43m         \u001b[49m\u001b[43mbeta2\u001b[49m\u001b[38;5;241;43m=\u001b[39;49m\u001b[43mbeta2\u001b[49m\u001b[43m,\u001b[49m\n\u001b[0;32m    243\u001b[0m \u001b[43m         \u001b[49m\u001b[43mlr\u001b[49m\u001b[38;5;241;43m=\u001b[39;49m\u001b[43mgroup\u001b[49m\u001b[43m[\u001b[49m\u001b[38;5;124;43m'\u001b[39;49m\u001b[38;5;124;43mlr\u001b[39;49m\u001b[38;5;124;43m'\u001b[39;49m\u001b[43m]\u001b[49m\u001b[43m,\u001b[49m\n\u001b[0;32m    244\u001b[0m \u001b[43m         \u001b[49m\u001b[43mweight_decay\u001b[49m\u001b[38;5;241;43m=\u001b[39;49m\u001b[43mgroup\u001b[49m\u001b[43m[\u001b[49m\u001b[38;5;124;43m'\u001b[39;49m\u001b[38;5;124;43mweight_decay\u001b[39;49m\u001b[38;5;124;43m'\u001b[39;49m\u001b[43m]\u001b[49m\u001b[43m,\u001b[49m\n\u001b[0;32m    245\u001b[0m \u001b[43m         \u001b[49m\u001b[43meps\u001b[49m\u001b[38;5;241;43m=\u001b[39;49m\u001b[43mgroup\u001b[49m\u001b[43m[\u001b[49m\u001b[38;5;124;43m'\u001b[39;49m\u001b[38;5;124;43meps\u001b[39;49m\u001b[38;5;124;43m'\u001b[39;49m\u001b[43m]\u001b[49m\u001b[43m,\u001b[49m\n\u001b[0;32m    246\u001b[0m \u001b[43m         \u001b[49m\u001b[43mmaximize\u001b[49m\u001b[38;5;241;43m=\u001b[39;49m\u001b[43mgroup\u001b[49m\u001b[43m[\u001b[49m\u001b[38;5;124;43m'\u001b[39;49m\u001b[38;5;124;43mmaximize\u001b[39;49m\u001b[38;5;124;43m'\u001b[39;49m\u001b[43m]\u001b[49m\u001b[43m,\u001b[49m\n\u001b[0;32m    247\u001b[0m \u001b[43m         \u001b[49m\u001b[43mforeach\u001b[49m\u001b[38;5;241;43m=\u001b[39;49m\u001b[43mgroup\u001b[49m\u001b[43m[\u001b[49m\u001b[38;5;124;43m'\u001b[39;49m\u001b[38;5;124;43mforeach\u001b[39;49m\u001b[38;5;124;43m'\u001b[39;49m\u001b[43m]\u001b[49m\u001b[43m,\u001b[49m\n\u001b[0;32m    248\u001b[0m \u001b[43m         \u001b[49m\u001b[43mcapturable\u001b[49m\u001b[38;5;241;43m=\u001b[39;49m\u001b[43mgroup\u001b[49m\u001b[43m[\u001b[49m\u001b[38;5;124;43m'\u001b[39;49m\u001b[38;5;124;43mcapturable\u001b[39;49m\u001b[38;5;124;43m'\u001b[39;49m\u001b[43m]\u001b[49m\u001b[43m,\u001b[49m\n\u001b[0;32m    249\u001b[0m \u001b[43m         \u001b[49m\u001b[43mdifferentiable\u001b[49m\u001b[38;5;241;43m=\u001b[39;49m\u001b[43mgroup\u001b[49m\u001b[43m[\u001b[49m\u001b[38;5;124;43m'\u001b[39;49m\u001b[38;5;124;43mdifferentiable\u001b[39;49m\u001b[38;5;124;43m'\u001b[39;49m\u001b[43m]\u001b[49m\u001b[43m,\u001b[49m\n\u001b[0;32m    250\u001b[0m \u001b[43m         \u001b[49m\u001b[43mfused\u001b[49m\u001b[38;5;241;43m=\u001b[39;49m\u001b[43mgroup\u001b[49m\u001b[43m[\u001b[49m\u001b[38;5;124;43m'\u001b[39;49m\u001b[38;5;124;43mfused\u001b[39;49m\u001b[38;5;124;43m'\u001b[39;49m\u001b[43m]\u001b[49m\u001b[43m,\u001b[49m\n\u001b[0;32m    251\u001b[0m \u001b[43m         \u001b[49m\u001b[43mgrad_scale\u001b[49m\u001b[38;5;241;43m=\u001b[39;49m\u001b[43mgrad_scale\u001b[49m\u001b[43m,\u001b[49m\n\u001b[0;32m    252\u001b[0m \u001b[43m         \u001b[49m\u001b[43mfound_inf\u001b[49m\u001b[38;5;241;43m=\u001b[39;49m\u001b[43mfound_inf\u001b[49m\u001b[43m)\u001b[49m\n\u001b[0;32m    254\u001b[0m \u001b[38;5;28;01mreturn\u001b[39;00m loss\n",
      "File \u001b[1;32mC:\\Python39\\lib\\site-packages\\torch\\optim\\adam.py:300\u001b[0m, in \u001b[0;36madam\u001b[1;34m(params, grads, exp_avgs, exp_avg_sqs, max_exp_avg_sqs, state_steps, foreach, capturable, differentiable, fused, grad_scale, found_inf, amsgrad, beta1, beta2, lr, weight_decay, eps, maximize)\u001b[0m\n\u001b[0;32m    297\u001b[0m \u001b[38;5;28;01melse\u001b[39;00m:\n\u001b[0;32m    298\u001b[0m     func \u001b[38;5;241m=\u001b[39m _single_tensor_adam\n\u001b[1;32m--> 300\u001b[0m \u001b[43mfunc\u001b[49m\u001b[43m(\u001b[49m\u001b[43mparams\u001b[49m\u001b[43m,\u001b[49m\n\u001b[0;32m    301\u001b[0m \u001b[43m     \u001b[49m\u001b[43mgrads\u001b[49m\u001b[43m,\u001b[49m\n\u001b[0;32m    302\u001b[0m \u001b[43m     \u001b[49m\u001b[43mexp_avgs\u001b[49m\u001b[43m,\u001b[49m\n\u001b[0;32m    303\u001b[0m \u001b[43m     \u001b[49m\u001b[43mexp_avg_sqs\u001b[49m\u001b[43m,\u001b[49m\n\u001b[0;32m    304\u001b[0m \u001b[43m     \u001b[49m\u001b[43mmax_exp_avg_sqs\u001b[49m\u001b[43m,\u001b[49m\n\u001b[0;32m    305\u001b[0m \u001b[43m     \u001b[49m\u001b[43mstate_steps\u001b[49m\u001b[43m,\u001b[49m\n\u001b[0;32m    306\u001b[0m \u001b[43m     \u001b[49m\u001b[43mamsgrad\u001b[49m\u001b[38;5;241;43m=\u001b[39;49m\u001b[43mamsgrad\u001b[49m\u001b[43m,\u001b[49m\n\u001b[0;32m    307\u001b[0m \u001b[43m     \u001b[49m\u001b[43mbeta1\u001b[49m\u001b[38;5;241;43m=\u001b[39;49m\u001b[43mbeta1\u001b[49m\u001b[43m,\u001b[49m\n\u001b[0;32m    308\u001b[0m \u001b[43m     \u001b[49m\u001b[43mbeta2\u001b[49m\u001b[38;5;241;43m=\u001b[39;49m\u001b[43mbeta2\u001b[49m\u001b[43m,\u001b[49m\n\u001b[0;32m    309\u001b[0m \u001b[43m     \u001b[49m\u001b[43mlr\u001b[49m\u001b[38;5;241;43m=\u001b[39;49m\u001b[43mlr\u001b[49m\u001b[43m,\u001b[49m\n\u001b[0;32m    310\u001b[0m \u001b[43m     \u001b[49m\u001b[43mweight_decay\u001b[49m\u001b[38;5;241;43m=\u001b[39;49m\u001b[43mweight_decay\u001b[49m\u001b[43m,\u001b[49m\n\u001b[0;32m    311\u001b[0m \u001b[43m     \u001b[49m\u001b[43meps\u001b[49m\u001b[38;5;241;43m=\u001b[39;49m\u001b[43meps\u001b[49m\u001b[43m,\u001b[49m\n\u001b[0;32m    312\u001b[0m \u001b[43m     \u001b[49m\u001b[43mmaximize\u001b[49m\u001b[38;5;241;43m=\u001b[39;49m\u001b[43mmaximize\u001b[49m\u001b[43m,\u001b[49m\n\u001b[0;32m    313\u001b[0m \u001b[43m     \u001b[49m\u001b[43mcapturable\u001b[49m\u001b[38;5;241;43m=\u001b[39;49m\u001b[43mcapturable\u001b[49m\u001b[43m,\u001b[49m\n\u001b[0;32m    314\u001b[0m \u001b[43m     \u001b[49m\u001b[43mdifferentiable\u001b[49m\u001b[38;5;241;43m=\u001b[39;49m\u001b[43mdifferentiable\u001b[49m\u001b[43m,\u001b[49m\n\u001b[0;32m    315\u001b[0m \u001b[43m     \u001b[49m\u001b[43mgrad_scale\u001b[49m\u001b[38;5;241;43m=\u001b[39;49m\u001b[43mgrad_scale\u001b[49m\u001b[43m,\u001b[49m\n\u001b[0;32m    316\u001b[0m \u001b[43m     \u001b[49m\u001b[43mfound_inf\u001b[49m\u001b[38;5;241;43m=\u001b[39;49m\u001b[43mfound_inf\u001b[49m\u001b[43m)\u001b[49m\n",
      "File \u001b[1;32mC:\\Python39\\lib\\site-packages\\torch\\optim\\adam.py:363\u001b[0m, in \u001b[0;36m_single_tensor_adam\u001b[1;34m(params, grads, exp_avgs, exp_avg_sqs, max_exp_avg_sqs, state_steps, grad_scale, found_inf, amsgrad, beta1, beta2, lr, weight_decay, eps, maximize, capturable, differentiable)\u001b[0m\n\u001b[0;32m    360\u001b[0m     param \u001b[38;5;241m=\u001b[39m torch\u001b[38;5;241m.\u001b[39mview_as_real(param)\n\u001b[0;32m    362\u001b[0m \u001b[38;5;66;03m# Decay the first and second moment running average coefficient\u001b[39;00m\n\u001b[1;32m--> 363\u001b[0m \u001b[43mexp_avg\u001b[49m\u001b[38;5;241;43m.\u001b[39;49m\u001b[43mmul_\u001b[49m\u001b[43m(\u001b[49m\u001b[43mbeta1\u001b[49m\u001b[43m)\u001b[49m\u001b[38;5;241;43m.\u001b[39;49m\u001b[43madd_\u001b[49m\u001b[43m(\u001b[49m\u001b[43mgrad\u001b[49m\u001b[43m,\u001b[49m\u001b[43m \u001b[49m\u001b[43malpha\u001b[49m\u001b[38;5;241;43m=\u001b[39;49m\u001b[38;5;241;43m1\u001b[39;49m\u001b[43m \u001b[49m\u001b[38;5;241;43m-\u001b[39;49m\u001b[43m \u001b[49m\u001b[43mbeta1\u001b[49m\u001b[43m)\u001b[49m\n\u001b[0;32m    364\u001b[0m exp_avg_sq\u001b[38;5;241m.\u001b[39mmul_(beta2)\u001b[38;5;241m.\u001b[39maddcmul_(grad, grad\u001b[38;5;241m.\u001b[39mconj(), value\u001b[38;5;241m=\u001b[39m\u001b[38;5;241m1\u001b[39m \u001b[38;5;241m-\u001b[39m beta2)\n\u001b[0;32m    366\u001b[0m \u001b[38;5;28;01mif\u001b[39;00m capturable \u001b[38;5;129;01mor\u001b[39;00m differentiable:\n",
      "\u001b[1;31mKeyboardInterrupt\u001b[0m: "
     ]
    }
   ],
   "source": [
    "#training step\n",
    "from torch.optim import Adam\n",
    "from nltk.translate.bleu_score import sentence_bleu\n",
    "import random\n",
    "from tqdm import tqdm\n",
    "import math\n",
    "\n",
    "#Basic Hyper-parameters\n",
    "epochs = 2\n",
    "hidden_size = 464\n",
    "max_len = 174\n",
    "att_n = 4\n",
    "dropout_rate = 0.2\n",
    "num_stack = 2\n",
    "\n",
    "device = \"cuda\" if torch.cuda.is_available() else \"cpu\"\n",
    "print(device)\n",
    "# device='cpu'\n",
    "\n",
    "model = Transformer(len(en_word2index), len(kr_word2index), hidden_size, max_len, att_n, dropout_rate, num_stack)\n",
    "optimizer = Adam(model.parameters(), lr=1e-3)\n",
    "losses = []\n",
    "\n",
    "model = model.to(device)\n",
    "model.train()\n",
    "\n",
    "for epoch in range(epochs):\n",
    "    \n",
    "    # criterion.to(device)\n",
    "    for i, batch in tqdm(enumerate(zip(en_train_data, kr_train_data))):\n",
    "        # if i < 1000:\n",
    "        en_sentence, kr_sentence = batch\n",
    "        en_sentence = en_sentence.to(device)\n",
    "        kr_sentence = kr_sentence.to(device)\n",
    "        source_mask = make_pad_mask(en_sentence, en_sentence).to(device) # do not attend [PAD] tokens\n",
    "        target_pad_mask = make_pad_mask(kr_sentence, kr_sentence).to(device)\n",
    "        target_subseq_mask = subsequent_mask(len(kr_sentence)).to(device)\n",
    "        target_mask = target_pad_mask & target_subseq_mask\n",
    "        \n",
    "        optimizer.zero_grad()\n",
    "        logits, loss = model(en_sentence, kr_sentence, source_mask, target_mask, labels=en_sentence)       \n",
    "        # input = fr_sentence[t]\n",
    "        losses.append(loss.item())\n",
    "        loss.backward()\n",
    "        optimizer.step()\n"
   ]
  },
  {
   "cell_type": "code",
   "execution_count": null,
   "id": "839c6291",
   "metadata": {},
   "outputs": [],
   "source": [
    "#check the train_loss\n",
    "from matplotlib import pyplot as plt\n",
    "losses\n",
    "samples = np.linspace(0, 2*8480, num = len(losses))\n",
    "plt.plot(samples, losses, color = \"blue\", label=losses)\n",
    "plt.title(\"training_loss\")\n",
    "plt.show()"
   ]
  },
  {
   "cell_type": "code",
   "execution_count": null,
   "id": "1260bf83",
   "metadata": {},
   "outputs": [],
   "source": [
    "#evaluate\n",
    "from nltk.translate.bleu_score import sentence_bleu\n",
    "\n",
    "target_length=12\n",
    "scores=0.0\n",
    "\n",
    "with torch.no_grad():\n",
    "    for i, batch in tqdm(enumerate(zip(en_dev_data, fr_dev_data))):\n",
    "        en_sentence, fr_sentence = batch\n",
    "        en_sentence = en_sentence.to(device)\n",
    "        fr_sentence = fr_sentence.to(device)\n",
    "        \n",
    "        source_mask = make_pad_mask(en_sentence, en_sentence).to(device) # do not attend [PAD] tokens\n",
    "        \n",
    "        target_pad_mask = make_pad_mask(fr_sentence,fr_sentence).to(device)\n",
    "        target_subseq_mask = subsequent_mask(len(fr_sentence)).to(device) # do not attend next tokens !\n",
    "        target_mask = target_pad_mask & target_subseq_mask\n",
    "        \n",
    "        encoder_output = model.encode(en_sentence, source_mask)\n",
    "        \n",
    "        # input = torch.tensor(0, device=device)\n",
    "        \n",
    "        # outputs = torch.zeros(target_length, 1, fr_n_word, device=device) # length * batch_size * vocab_size\n",
    "        \n",
    "        decoded_sentence = torch.zeros(1,1).fill_(fr_word2index['SOS']).type_as(en_sentence.data)\n",
    "        for t in range(1, target_length):\n",
    "            cross_mask = source_mask[:,:t,:]\n",
    "            target_mask = subsequent_mask(decoded_sentence.size(1)).to(device)\n",
    "            output = model.decode(encoder_output, cross_mask, decoded_sentence, target_mask) \n",
    "            prob = output[:,-1]\n",
    "            _, next_word = torch.max(prob, dim=1)\n",
    "            if int(next_word) == fr_word2index['EOS']:\n",
    "                break\n",
    "            else:\n",
    "                decoded_sentence = torch.cat([decoded_sentence, torch.zeros(1,1).type_as(en_sentence.data).fill_(next_word.item())], dim=1)\n",
    "        \n",
    "        num_pad = fr_sentence.tolist().count(3)\n",
    "        fr_sentence = fr_sentence[1:-num_pad-1]\n",
    "        truth = [fr_index2word[int(w)] if int(w) in fr_index2word.keys() else 'UNK' for w in fr_sentence ]\n",
    "        decoded_sentence = decoded_sentence.tolist()[0]\n",
    "        decoded_sentence = [fr_index2word[int(w)] if int(w) in fr_index2word.keys() else 'UNK' for w in decoded_sentence]\n",
    "        decoded_sentence = decoded_sentence[1:]\n",
    "        \n",
    "        scores += sentence_bleu([truth], decoded_sentence, weights=[0.75, 0.25]) \n",
    "        \n",
    "        if i % 1000 == 0:\n",
    "            print(f\"==============check the {i}th output================\")\n",
    "            model_output = ' '.join(decoded_sentence)\n",
    "            truth = ' '.join(truth)\n",
    "            print(f\"original_sentence: {truth}\")\n",
    "            print(f\"model_output: {model_output}\")\n",
    "    print(f\"average sentence_bleu: {scores/len(en_dev_data)}\")\n",
    "        # score = scorer.score(fr_sentence, )"
   ]
  },
  {
   "cell_type": "markdown",
   "id": "6ce2de3d",
   "metadata": {},
   "source": [
    "# Problem 3 - Beam Search (8 points)"
   ]
  },
  {
   "cell_type": "markdown",
   "id": "880ea0bd",
   "metadata": {},
   "source": [
    "## Problem 3.1 (5 points) - Make Test Time Predictions with Beam Search\n",
    "Implement Beam Search and make predictions on your pre-trained model from Problem 2.3 using Beam Search (without sampling). Choose an appropriate number of beams and compare how the beam size effects the quality of translation and runtime performance. \n",
    "\n",
    "*If your model from Problem 2.3 is not working well, it is acceptable to use the GRU encoder-decoder model from Week 9 Lab instead*"
   ]
  },
  {
   "cell_type": "code",
   "execution_count": null,
   "id": "031dcf62",
   "metadata": {},
   "outputs": [],
   "source": [
    "#evaluate\n",
    "from nltk.translate.bleu_score import sentence_bleu\n",
    "\n",
    "target_length=12\n",
    "scores=0.0\n",
    "\n",
    "with torch.no_grad():\n",
    "    for i, batch in tqdm(enumerate(zip(en_dev_data, fr_dev_data))):\n",
    "        en_sentence, fr_sentence = batch\n",
    "        en_sentence = en_sentence.to(device)\n",
    "        fr_sentence = fr_sentence.to(device)\n",
    "        \n",
    "        source_mask = make_pad_mask(en_sentence, en_sentence).to(device) \n",
    "        \n",
    "        target_pad_mask = make_pad_mask(fr_sentence,fr_sentence).to(device)\n",
    "        target_subseq_mask = subsequent_mask(len(fr_sentence)).to(device) \n",
    "        target_mask = target_pad_mask & target_subseq_mask\n",
    "        \n",
    "        encoder_output = model.encode(en_sentence, source_mask)\n",
    "        \n",
    "        decoded_sentence = torch.zeros(1,1).fill_(fr_word2index['SOS']).type_as(en_sentence.data)\n",
    "        for t in range(1, target_length):\n",
    "            cross_mask = source_mask[:,:t,:]\n",
    "            target_mask = subsequent_mask(decoded_sentence.size(1)).to(device)\n",
    "            output = model.decode(encoder_output, cross_mask, decoded_sentence, target_mask) \n",
    "            prob = output[:,-1]\n",
    "            _, next_word = torch.max(prob, dim=1)\n",
    "            if int(next_word) == fr_word2index['EOS']:\n",
    "                break\n",
    "            else:\n",
    "                decoded_sentence = torch.cat([decoded_sentence, torch.zeros(1,1).type_as(en_sentence.data).fill_(next_word.item())], dim=1)\n",
    "        \n",
    "        num_pad = fr_sentence.tolist().count(3)\n",
    "        fr_sentence = fr_sentence[1:-num_pad-1]\n",
    "        truth = [fr_index2word[int(w)] if int(w) in fr_index2word.keys() else 'UNK' for w in fr_sentence ]\n",
    "        decoded_sentence = decoded_sentence.tolist()[0]\n",
    "        decoded_sentence = [fr_index2word[int(w)] if int(w) in fr_index2word.keys() else 'UNK' for w in decoded_sentence]\n",
    "        decoded_sentence = decoded_sentence[1:]\n",
    "        \n",
    "        scores += sentence_bleu([truth], decoded_sentence, weights=[0.75, 0.25]) \n",
    "        \n",
    "        if i % 1000 == 0:\n",
    "            print(f\"==============check the {i}th output================\")\n",
    "            model_output = ' '.join(decoded_sentence)\n",
    "            truth = ' '.join(truth)\n",
    "            print(f\"original_sentence: {truth}\")\n",
    "            print(f\"model_output: {model_output}\")\n",
    "    print(f\"average sentence_bleu: {scores/len(en_dev_data)}\")\n",
    "        # score = scorer.score(fr_sentence, )"
   ]
  },
  {
   "cell_type": "markdown",
   "id": "e4c5444f",
   "metadata": {},
   "source": [
    "## Problem 3.2 (3 points) - Sampling at test time\n",
    "It is possible to generate more diverse sentences at test time with sampling.\n",
    "\n",
    "Setting an appropriate sample temperature hyper-parameter ($\\tau$) allows control over the diversity of the generated outputs. \n",
    "\n",
    "$$\n",
    "\\text{Softmax}(\\frac{\\mathbf{z}}{\\tau})\n",
    "$$\n",
    "\n",
    "Extend your implementation of Beam Search from Problem 3.1 to sample $k$ hypotheses instead of selecting the top-$k$. Show, both analytically and empirically, how the sample temperature affects diversity. "
   ]
  },
  {
   "cell_type": "code",
   "execution_count": null,
   "id": "0175aed5",
   "metadata": {},
   "outputs": [],
   "source": []
  }
 ],
 "metadata": {
  "kernelspec": {
   "display_name": "Python 3 (ipykernel)",
   "language": "python",
   "name": "python3"
  },
  "language_info": {
   "codemirror_mode": {
    "name": "ipython",
    "version": 3
   },
   "file_extension": ".py",
   "mimetype": "text/x-python",
   "name": "python",
   "nbconvert_exporter": "python",
   "pygments_lexer": "ipython3",
   "version": "3.9.9"
  }
 },
 "nbformat": 4,
 "nbformat_minor": 5
}
